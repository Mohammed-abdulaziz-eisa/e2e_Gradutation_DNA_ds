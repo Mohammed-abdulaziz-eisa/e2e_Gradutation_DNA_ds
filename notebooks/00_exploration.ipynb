{
 "cells": [
  {
   "cell_type": "markdown",
   "metadata": {},
   "source": [
    "# <center>  **Data Exploration**"
   ]
  },
  {
   "cell_type": "markdown",
   "metadata": {},
   "source": [
    "------"
   ]
  },
  {
   "cell_type": "code",
   "execution_count": 1,
   "metadata": {},
   "outputs": [],
   "source": [
    "# Make Constant Variables For Data Directory to access Data Faster in Notebook\n",
    "DATA_PATH_CHILD  = '../data/raw/G2000_data.csv'\n",
    "DATA_PATH_PARENT = '../data/raw/EthA_data.csv'"
   ]
  },
  {
   "cell_type": "markdown",
   "metadata": {},
   "source": [
    "##  Import libraries"
   ]
  },
  {
   "cell_type": "code",
   "execution_count": 2,
   "metadata": {},
   "outputs": [
    {
     "name": "stderr",
     "output_type": "stream",
     "text": [
      "/Users/0xnrous/opt/anaconda3/lib/python3.9/site-packages/pandas/core/arrays/masked.py:60: UserWarning: Pandas requires version '1.3.6' or newer of 'bottleneck' (version '1.3.5' currently installed).\n",
      "  from pandas.core import (\n"
     ]
    }
   ],
   "source": [
    "import pandas as pd \n",
    "# import numpy as np \n",
    "pd.options.display.max_rows = 1000"
   ]
  },
  {
   "cell_type": "markdown",
   "metadata": {},
   "source": [
    "## Child Data"
   ]
  },
  {
   "cell_type": "code",
   "execution_count": 3,
   "metadata": {},
   "outputs": [],
   "source": [
    "# Read data of child and explore \n",
    "raw_df_child = pd.read_csv(DATA_PATH_CHILD)"
   ]
  },
  {
   "cell_type": "code",
   "execution_count": 4,
   "metadata": {},
   "outputs": [
    {
     "name": "stdout",
     "output_type": "stream",
     "text": [
      "Stored 'raw_df_child' (DataFrame)\n"
     ]
    }
   ],
   "source": [
    "%store raw_df_child"
   ]
  },
  {
   "cell_type": "code",
   "execution_count": 5,
   "metadata": {},
   "outputs": [
    {
     "data": {
      "text/html": [
       "<div>\n",
       "<style scoped>\n",
       "    .dataframe tbody tr th:only-of-type {\n",
       "        vertical-align: middle;\n",
       "    }\n",
       "\n",
       "    .dataframe tbody tr th {\n",
       "        vertical-align: top;\n",
       "    }\n",
       "\n",
       "    .dataframe thead th {\n",
       "        text-align: right;\n",
       "    }\n",
       "</style>\n",
       "<table border=\"1\" class=\"dataframe\">\n",
       "  <thead>\n",
       "    <tr style=\"text-align: right;\">\n",
       "      <th></th>\n",
       "      <th>Name</th>\n",
       "      <th>Gender</th>\n",
       "      <th>ParentM</th>\n",
       "      <th>ParentF</th>\n",
       "      <th>EthA</th>\n",
       "      <th>EthE</th>\n",
       "      <th>EthK</th>\n",
       "      <th>EthP</th>\n",
       "      <th>Allele1</th>\n",
       "      <th>Allele2</th>\n",
       "    </tr>\n",
       "  </thead>\n",
       "  <tbody>\n",
       "    <tr>\n",
       "      <th>8724</th>\n",
       "      <td>G20008724</td>\n",
       "      <td>F</td>\n",
       "      <td>A4254</td>\n",
       "      <td>A3701</td>\n",
       "      <td>1.0</td>\n",
       "      <td>0.0</td>\n",
       "      <td>0.0</td>\n",
       "      <td>0.0</td>\n",
       "      <td>CTCCGTCGACGCTTTAGGGACATAGATGGGAGCTCTGATTCCCGTG...</td>\n",
       "      <td>CTCCGTCGGCGCTTTAGGGACATAGATGGGAGCTCTGATTCCTGTG...</td>\n",
       "    </tr>\n",
       "    <tr>\n",
       "      <th>16687</th>\n",
       "      <td>G200016687</td>\n",
       "      <td>M</td>\n",
       "      <td>A2920</td>\n",
       "      <td>A7786</td>\n",
       "      <td>1.0</td>\n",
       "      <td>0.0</td>\n",
       "      <td>0.0</td>\n",
       "      <td>0.0</td>\n",
       "      <td>CTCCGTCGACGCTTTAGGGACATAGATGGGAGCTCTGATTCCCGTG...</td>\n",
       "      <td>CTCCGTCGACGCTTTAGGGACATAGATGGGAGCTCTGATTCCCGTG...</td>\n",
       "    </tr>\n",
       "    <tr>\n",
       "      <th>5623</th>\n",
       "      <td>G20005623</td>\n",
       "      <td>M</td>\n",
       "      <td>A10562</td>\n",
       "      <td>A6064</td>\n",
       "      <td>1.0</td>\n",
       "      <td>0.0</td>\n",
       "      <td>0.0</td>\n",
       "      <td>0.0</td>\n",
       "      <td>CTCCGTCGACGCTTTAGGGACATAGATGGGAGCTCTGATTCCCGTG...</td>\n",
       "      <td>CTCCGTCGACGCTTTAGGGACATAGATGGGAGCTCTGATTCCCGTG...</td>\n",
       "    </tr>\n",
       "    <tr>\n",
       "      <th>17563</th>\n",
       "      <td>G200017563</td>\n",
       "      <td>F</td>\n",
       "      <td>A2354</td>\n",
       "      <td>A12960</td>\n",
       "      <td>1.0</td>\n",
       "      <td>0.0</td>\n",
       "      <td>0.0</td>\n",
       "      <td>0.0</td>\n",
       "      <td>CTCCGTCGACGCTTTAGGGACATAGATGGGAGCTCTGATTCCCGTG...</td>\n",
       "      <td>CTCCGTCGACGCTTTAGGGACATAGATGGGAGCTCTGACTCCCGTG...</td>\n",
       "    </tr>\n",
       "    <tr>\n",
       "      <th>16708</th>\n",
       "      <td>G200016708</td>\n",
       "      <td>M</td>\n",
       "      <td>A11728</td>\n",
       "      <td>A8950</td>\n",
       "      <td>1.0</td>\n",
       "      <td>0.0</td>\n",
       "      <td>0.0</td>\n",
       "      <td>0.0</td>\n",
       "      <td>CTCCGTCGACGCTTTAGGGACATAGATGGGAGCTCTGATTCCCGTG...</td>\n",
       "      <td>CTCCGTCGACGCTTTAGGGACATAGATGGGAGCTCTGATTCCCGTG...</td>\n",
       "    </tr>\n",
       "    <tr>\n",
       "      <th>16451</th>\n",
       "      <td>G200016451</td>\n",
       "      <td>M</td>\n",
       "      <td>A2820</td>\n",
       "      <td>A14297</td>\n",
       "      <td>1.0</td>\n",
       "      <td>0.0</td>\n",
       "      <td>0.0</td>\n",
       "      <td>0.0</td>\n",
       "      <td>CTCCGTCGACGCTTTAGGGACATAGATGGGAGCTCTGATTCCCGTG...</td>\n",
       "      <td>CTCCGTCGACGCTTTAGGGACGTAGATGGGAGCTCTGATTCCCGTG...</td>\n",
       "    </tr>\n",
       "    <tr>\n",
       "      <th>15327</th>\n",
       "      <td>G200015327</td>\n",
       "      <td>M</td>\n",
       "      <td>A5415</td>\n",
       "      <td>A3921</td>\n",
       "      <td>1.0</td>\n",
       "      <td>0.0</td>\n",
       "      <td>0.0</td>\n",
       "      <td>0.0</td>\n",
       "      <td>CTCCGTCGGCGCTTTAGGGACATAGATGGGAGCTCTGATTCCCGTG...</td>\n",
       "      <td>CTCCGTCGACGCTTTAGGGACATAGATGGGAGCTCTGATTCCCGTG...</td>\n",
       "    </tr>\n",
       "    <tr>\n",
       "      <th>4987</th>\n",
       "      <td>G20004987</td>\n",
       "      <td>M</td>\n",
       "      <td>A6188</td>\n",
       "      <td>A7867</td>\n",
       "      <td>1.0</td>\n",
       "      <td>0.0</td>\n",
       "      <td>0.0</td>\n",
       "      <td>0.0</td>\n",
       "      <td>CTCCGTCGACGCTTTAGGGACATAGATGGGAGCTCTGATTCCCGTG...</td>\n",
       "      <td>CTCCGTCGACGCTTTAGGGACATAGATGGGAGCTCTGATTCCCGTG...</td>\n",
       "    </tr>\n",
       "    <tr>\n",
       "      <th>10106</th>\n",
       "      <td>G200010106</td>\n",
       "      <td>M</td>\n",
       "      <td>A14647</td>\n",
       "      <td>A6126</td>\n",
       "      <td>1.0</td>\n",
       "      <td>0.0</td>\n",
       "      <td>0.0</td>\n",
       "      <td>0.0</td>\n",
       "      <td>CTCCGTCGACGCTTTAGGGACATAGATGGGAGCTCTGATTCCCGTG...</td>\n",
       "      <td>CTCCGTCGACGCTTTAGGGACATAGATGGGAGCTCTGATTCCCGTG...</td>\n",
       "    </tr>\n",
       "    <tr>\n",
       "      <th>11239</th>\n",
       "      <td>G200011239</td>\n",
       "      <td>F</td>\n",
       "      <td>A14954</td>\n",
       "      <td>A2347</td>\n",
       "      <td>1.0</td>\n",
       "      <td>0.0</td>\n",
       "      <td>0.0</td>\n",
       "      <td>0.0</td>\n",
       "      <td>CTCCGTCGACGCTTTAGGGACATAGATGGGAGCTCTGATTCCCGTG...</td>\n",
       "      <td>CTCCGTCGACGCTTTAGGGACATAGATGGGAGCTCTGATTCCCGTG...</td>\n",
       "    </tr>\n",
       "  </tbody>\n",
       "</table>\n",
       "</div>"
      ],
      "text/plain": [
       "             Name Gender ParentM ParentF  EthA  EthE  EthK  EthP  \\\n",
       "8724    G20008724      F   A4254   A3701   1.0   0.0   0.0   0.0   \n",
       "16687  G200016687      M   A2920   A7786   1.0   0.0   0.0   0.0   \n",
       "5623    G20005623      M  A10562   A6064   1.0   0.0   0.0   0.0   \n",
       "17563  G200017563      F   A2354  A12960   1.0   0.0   0.0   0.0   \n",
       "16708  G200016708      M  A11728   A8950   1.0   0.0   0.0   0.0   \n",
       "16451  G200016451      M   A2820  A14297   1.0   0.0   0.0   0.0   \n",
       "15327  G200015327      M   A5415   A3921   1.0   0.0   0.0   0.0   \n",
       "4987    G20004987      M   A6188   A7867   1.0   0.0   0.0   0.0   \n",
       "10106  G200010106      M  A14647   A6126   1.0   0.0   0.0   0.0   \n",
       "11239  G200011239      F  A14954   A2347   1.0   0.0   0.0   0.0   \n",
       "\n",
       "                                                 Allele1  \\\n",
       "8724   CTCCGTCGACGCTTTAGGGACATAGATGGGAGCTCTGATTCCCGTG...   \n",
       "16687  CTCCGTCGACGCTTTAGGGACATAGATGGGAGCTCTGATTCCCGTG...   \n",
       "5623   CTCCGTCGACGCTTTAGGGACATAGATGGGAGCTCTGATTCCCGTG...   \n",
       "17563  CTCCGTCGACGCTTTAGGGACATAGATGGGAGCTCTGATTCCCGTG...   \n",
       "16708  CTCCGTCGACGCTTTAGGGACATAGATGGGAGCTCTGATTCCCGTG...   \n",
       "16451  CTCCGTCGACGCTTTAGGGACATAGATGGGAGCTCTGATTCCCGTG...   \n",
       "15327  CTCCGTCGGCGCTTTAGGGACATAGATGGGAGCTCTGATTCCCGTG...   \n",
       "4987   CTCCGTCGACGCTTTAGGGACATAGATGGGAGCTCTGATTCCCGTG...   \n",
       "10106  CTCCGTCGACGCTTTAGGGACATAGATGGGAGCTCTGATTCCCGTG...   \n",
       "11239  CTCCGTCGACGCTTTAGGGACATAGATGGGAGCTCTGATTCCCGTG...   \n",
       "\n",
       "                                                 Allele2  \n",
       "8724   CTCCGTCGGCGCTTTAGGGACATAGATGGGAGCTCTGATTCCTGTG...  \n",
       "16687  CTCCGTCGACGCTTTAGGGACATAGATGGGAGCTCTGATTCCCGTG...  \n",
       "5623   CTCCGTCGACGCTTTAGGGACATAGATGGGAGCTCTGATTCCCGTG...  \n",
       "17563  CTCCGTCGACGCTTTAGGGACATAGATGGGAGCTCTGACTCCCGTG...  \n",
       "16708  CTCCGTCGACGCTTTAGGGACATAGATGGGAGCTCTGATTCCCGTG...  \n",
       "16451  CTCCGTCGACGCTTTAGGGACGTAGATGGGAGCTCTGATTCCCGTG...  \n",
       "15327  CTCCGTCGACGCTTTAGGGACATAGATGGGAGCTCTGATTCCCGTG...  \n",
       "4987   CTCCGTCGACGCTTTAGGGACATAGATGGGAGCTCTGATTCCCGTG...  \n",
       "10106  CTCCGTCGACGCTTTAGGGACATAGATGGGAGCTCTGATTCCCGTG...  \n",
       "11239  CTCCGTCGACGCTTTAGGGACATAGATGGGAGCTCTGATTCCCGTG...  "
      ]
     },
     "execution_count": 5,
     "metadata": {},
     "output_type": "execute_result"
    }
   ],
   "source": [
    "raw_df_child.sample(10)"
   ]
  },
  {
   "cell_type": "markdown",
   "metadata": {},
   "source": [
    "- `Allele : is a variant of the sequence of nucleotides at a particular location, or locus, on a DNA molecule`\n",
    "- visualize whats going on and what alleles are ?\n",
    "- https://learn.genetics.utah.edu/content/genetics/whatallele"
   ]
  },
  {
   "cell_type": "code",
   "execution_count": 6,
   "metadata": {},
   "outputs": [
    {
     "name": "stdout",
     "output_type": "stream",
     "text": [
      "<class 'pandas.core.frame.DataFrame'>\n",
      "RangeIndex: 21892 entries, 0 to 21891\n",
      "Data columns (total 10 columns):\n",
      " #   Column   Non-Null Count  Dtype  \n",
      "---  ------   --------------  -----  \n",
      " 0   Name     21892 non-null  object \n",
      " 1   Gender   21892 non-null  object \n",
      " 2   ParentM  21892 non-null  object \n",
      " 3   ParentF  21892 non-null  object \n",
      " 4   EthA     21892 non-null  float64\n",
      " 5   EthE     21892 non-null  float64\n",
      " 6   EthK     21892 non-null  float64\n",
      " 7   EthP     21892 non-null  float64\n",
      " 8   Allele1  21892 non-null  object \n",
      " 9   Allele2  21892 non-null  object \n",
      "dtypes: float64(4), object(6)\n",
      "memory usage: 1.7+ MB\n"
     ]
    }
   ],
   "source": [
    "raw_df_child.info()"
   ]
  },
  {
   "cell_type": "markdown",
   "metadata": {},
   "source": [
    "- `Name : is the generation of the individual with an Unique identifier `\n",
    "\n",
    "- `Gender : is the sex of the individual (M or F)`\n",
    "\n",
    "- `ParentM : is the mother of the individual`\n",
    "\n",
    "- `ParentF : is the father of the individual`\n",
    "\n",
    "- `EthA : is the ethnicity of the individual of Africa American`\n",
    "\n",
    "- `EthE : is the ethnicity of the individual of Estonian`\n",
    "\n",
    "- `EthK : is the ethnicity of the individual of Korean`\n",
    "\n",
    "- `EthP : is the ethnicity of the individual of the Palestinian`\n",
    "\n",
    "- `Allele1 : is a variant of the sequence of nucleotides at a particular location, or locus, on a DNA molecule`\n",
    "\n",
    "- `Allele2 : is a variant of the sequence of nucleotides at a particular location, or locus, on a DNA molecule`"
   ]
  },
  {
   "cell_type": "code",
   "execution_count": 7,
   "metadata": {},
   "outputs": [
    {
     "data": {
      "text/plain": [
       "Name       0\n",
       "Gender     0\n",
       "ParentM    0\n",
       "ParentF    0\n",
       "EthA       0\n",
       "EthE       0\n",
       "EthK       0\n",
       "EthP       0\n",
       "Allele1    0\n",
       "Allele2    0\n",
       "dtype: int64"
      ]
     },
     "execution_count": 7,
     "metadata": {},
     "output_type": "execute_result"
    }
   ],
   "source": [
    "raw_df_child.isnull().sum()"
   ]
  },
  {
   "cell_type": "code",
   "execution_count": 8,
   "metadata": {},
   "outputs": [
    {
     "data": {
      "text/plain": [
       "39108"
      ]
     },
     "execution_count": 8,
     "metadata": {},
     "output_type": "execute_result"
    }
   ],
   "source": [
    "allele1_information_child = raw_df_child['Allele1'][0]\n",
    "len(allele1_information_child)"
   ]
  },
  {
   "cell_type": "code",
   "execution_count": 9,
   "metadata": {},
   "outputs": [],
   "source": [
    "#allele1_information_child.to_csv('allele1_information_child.csv')"
   ]
  },
  {
   "cell_type": "markdown",
   "metadata": {},
   "source": [
    "## **Explore more about child data**"
   ]
  },
  {
   "cell_type": "markdown",
   "metadata": {},
   "source": [
    "### Test-a"
   ]
  },
  {
   "cell_type": "code",
   "execution_count": 10,
   "metadata": {},
   "outputs": [],
   "source": [
    "# raw_df_child['Allele1'] = raw_df_child['Allele1'].apply(lambda x : ''.join(x[:1000]))"
   ]
  },
  {
   "cell_type": "code",
   "execution_count": 11,
   "metadata": {},
   "outputs": [],
   "source": [
    "# raw_df_child['Allele2'] = raw_df_child['Allele2'].apply(lambda x : ''.join(x[:1000]))"
   ]
  },
  {
   "cell_type": "code",
   "execution_count": 12,
   "metadata": {},
   "outputs": [],
   "source": [
    "# raw_df_child['Full_seq_dna']= raw_df_child['Allele1'] + raw_df_child['Allele2']"
   ]
  },
  {
   "cell_type": "code",
   "execution_count": 13,
   "metadata": {},
   "outputs": [],
   "source": [
    "# raw_df_child"
   ]
  },
  {
   "cell_type": "code",
   "execution_count": 16,
   "metadata": {},
   "outputs": [
    {
     "data": {
      "text/plain": [
       "39108"
      ]
     },
     "execution_count": 16,
     "metadata": {},
     "output_type": "execute_result"
    }
   ],
   "source": [
    "len(raw_df_child['Allele1'][16927])"
   ]
  },
  {
   "cell_type": "code",
   "execution_count": 19,
   "metadata": {},
   "outputs": [
    {
     "data": {
      "text/html": [
       "<div>\n",
       "<style scoped>\n",
       "    .dataframe tbody tr th:only-of-type {\n",
       "        vertical-align: middle;\n",
       "    }\n",
       "\n",
       "    .dataframe tbody tr th {\n",
       "        vertical-align: top;\n",
       "    }\n",
       "\n",
       "    .dataframe thead th {\n",
       "        text-align: right;\n",
       "    }\n",
       "</style>\n",
       "<table border=\"1\" class=\"dataframe\">\n",
       "  <thead>\n",
       "    <tr style=\"text-align: right;\">\n",
       "      <th></th>\n",
       "      <th>Name</th>\n",
       "      <th>Gender</th>\n",
       "      <th>ParentM</th>\n",
       "      <th>ParentF</th>\n",
       "      <th>EthA</th>\n",
       "      <th>EthE</th>\n",
       "      <th>EthK</th>\n",
       "      <th>EthP</th>\n",
       "      <th>Allele1</th>\n",
       "      <th>Allele2</th>\n",
       "    </tr>\n",
       "  </thead>\n",
       "  <tbody>\n",
       "    <tr>\n",
       "      <th>15772</th>\n",
       "      <td>G200015772</td>\n",
       "      <td>M</td>\n",
       "      <td>A8184</td>\n",
       "      <td>A13904</td>\n",
       "      <td>1.0</td>\n",
       "      <td>0.0</td>\n",
       "      <td>0.0</td>\n",
       "      <td>0.0</td>\n",
       "      <td>CTCCGTCGACGCTTTAGGGACATAGATGGGAGCTCTGATTCCCGTG...</td>\n",
       "      <td>CTCCGTCGACGCTTTAGGGACATAGATGGGAGCTCTGACTCCCGTG...</td>\n",
       "    </tr>\n",
       "    <tr>\n",
       "      <th>15773</th>\n",
       "      <td>G200015773</td>\n",
       "      <td>M</td>\n",
       "      <td>A8184</td>\n",
       "      <td>A13904</td>\n",
       "      <td>1.0</td>\n",
       "      <td>0.0</td>\n",
       "      <td>0.0</td>\n",
       "      <td>0.0</td>\n",
       "      <td>CTCCGTCGACGCTTTAGGGACATAGATGGGAGCTCTGATTCCCGTG...</td>\n",
       "      <td>CTCCGTCGACGCTTTAGGGACATAGATGGGAGCTCTGATTCCCGTG...</td>\n",
       "    </tr>\n",
       "    <tr>\n",
       "      <th>15774</th>\n",
       "      <td>G200015774</td>\n",
       "      <td>M</td>\n",
       "      <td>A8184</td>\n",
       "      <td>A13904</td>\n",
       "      <td>1.0</td>\n",
       "      <td>0.0</td>\n",
       "      <td>0.0</td>\n",
       "      <td>0.0</td>\n",
       "      <td>CTCCGTCGACGCTTTAGGGACATAGATGGGAGCTCTGATTCCCGTG...</td>\n",
       "      <td>CTCCGTCGACGCTTTAGGGACATAGATGGGAGCTCTGATTCCCGTG...</td>\n",
       "    </tr>\n",
       "    <tr>\n",
       "      <th>15775</th>\n",
       "      <td>G200015775</td>\n",
       "      <td>M</td>\n",
       "      <td>A8184</td>\n",
       "      <td>A13904</td>\n",
       "      <td>1.0</td>\n",
       "      <td>0.0</td>\n",
       "      <td>0.0</td>\n",
       "      <td>0.0</td>\n",
       "      <td>CTCCGTCGACGCTTTAGGGACATAGATGGGAGCTCTGATTCCCGTG...</td>\n",
       "      <td>CTCCGTCGACGCTTTAGGGACATAGATGGGAGCTCTGATTCCCGTG...</td>\n",
       "    </tr>\n",
       "    <tr>\n",
       "      <th>16924</th>\n",
       "      <td>G200016924</td>\n",
       "      <td>M</td>\n",
       "      <td>A8184</td>\n",
       "      <td>A14108</td>\n",
       "      <td>1.0</td>\n",
       "      <td>0.0</td>\n",
       "      <td>0.0</td>\n",
       "      <td>0.0</td>\n",
       "      <td>CTCCGTCGACGCTTTAGGGACATAGATGGGAGCTCTGATTCCCGTG...</td>\n",
       "      <td>CTCCATCGACGCTTTAGGGACATAGATGGGAGCTCTGATTCCCGTG...</td>\n",
       "    </tr>\n",
       "    <tr>\n",
       "      <th>16925</th>\n",
       "      <td>G200016925</td>\n",
       "      <td>F</td>\n",
       "      <td>A8184</td>\n",
       "      <td>A14108</td>\n",
       "      <td>1.0</td>\n",
       "      <td>0.0</td>\n",
       "      <td>0.0</td>\n",
       "      <td>0.0</td>\n",
       "      <td>CTCCGTCGACGCTTTAGGGACATAGATGGGAGCTCTGATTCCCGTG...</td>\n",
       "      <td>CTCCATCGACGCTTTAGGGACATAGATGGGAGCTCTGATTCCCGTG...</td>\n",
       "    </tr>\n",
       "    <tr>\n",
       "      <th>16926</th>\n",
       "      <td>G200016926</td>\n",
       "      <td>F</td>\n",
       "      <td>A8184</td>\n",
       "      <td>A14108</td>\n",
       "      <td>1.0</td>\n",
       "      <td>0.0</td>\n",
       "      <td>0.0</td>\n",
       "      <td>0.0</td>\n",
       "      <td>CTCCGTCGACGCTTTAGGGACATAGATGGGAGCTCTGATTCCCGTG...</td>\n",
       "      <td>CTCCATCGACGCTTTAGGGACATAGATGGGAGCTCTGATTCCCGTG...</td>\n",
       "    </tr>\n",
       "    <tr>\n",
       "      <th>16927</th>\n",
       "      <td>G200016927</td>\n",
       "      <td>M</td>\n",
       "      <td>A8184</td>\n",
       "      <td>A14108</td>\n",
       "      <td>1.0</td>\n",
       "      <td>0.0</td>\n",
       "      <td>0.0</td>\n",
       "      <td>0.0</td>\n",
       "      <td>CTCCGTCGACGCTTTAGGGACATAGATGGGAGCTCTGATTCCCGTG...</td>\n",
       "      <td>CTCCATCGACGCTTTAGGGACATAGATGGGAGCTCTGATTCCCGTG...</td>\n",
       "    </tr>\n",
       "  </tbody>\n",
       "</table>\n",
       "</div>"
      ],
      "text/plain": [
       "             Name Gender ParentM ParentF  EthA  EthE  EthK  EthP  \\\n",
       "15772  G200015772      M   A8184  A13904   1.0   0.0   0.0   0.0   \n",
       "15773  G200015773      M   A8184  A13904   1.0   0.0   0.0   0.0   \n",
       "15774  G200015774      M   A8184  A13904   1.0   0.0   0.0   0.0   \n",
       "15775  G200015775      M   A8184  A13904   1.0   0.0   0.0   0.0   \n",
       "16924  G200016924      M   A8184  A14108   1.0   0.0   0.0   0.0   \n",
       "16925  G200016925      F   A8184  A14108   1.0   0.0   0.0   0.0   \n",
       "16926  G200016926      F   A8184  A14108   1.0   0.0   0.0   0.0   \n",
       "16927  G200016927      M   A8184  A14108   1.0   0.0   0.0   0.0   \n",
       "\n",
       "                                                 Allele1  \\\n",
       "15772  CTCCGTCGACGCTTTAGGGACATAGATGGGAGCTCTGATTCCCGTG...   \n",
       "15773  CTCCGTCGACGCTTTAGGGACATAGATGGGAGCTCTGATTCCCGTG...   \n",
       "15774  CTCCGTCGACGCTTTAGGGACATAGATGGGAGCTCTGATTCCCGTG...   \n",
       "15775  CTCCGTCGACGCTTTAGGGACATAGATGGGAGCTCTGATTCCCGTG...   \n",
       "16924  CTCCGTCGACGCTTTAGGGACATAGATGGGAGCTCTGATTCCCGTG...   \n",
       "16925  CTCCGTCGACGCTTTAGGGACATAGATGGGAGCTCTGATTCCCGTG...   \n",
       "16926  CTCCGTCGACGCTTTAGGGACATAGATGGGAGCTCTGATTCCCGTG...   \n",
       "16927  CTCCGTCGACGCTTTAGGGACATAGATGGGAGCTCTGATTCCCGTG...   \n",
       "\n",
       "                                                 Allele2  \n",
       "15772  CTCCGTCGACGCTTTAGGGACATAGATGGGAGCTCTGACTCCCGTG...  \n",
       "15773  CTCCGTCGACGCTTTAGGGACATAGATGGGAGCTCTGATTCCCGTG...  \n",
       "15774  CTCCGTCGACGCTTTAGGGACATAGATGGGAGCTCTGATTCCCGTG...  \n",
       "15775  CTCCGTCGACGCTTTAGGGACATAGATGGGAGCTCTGATTCCCGTG...  \n",
       "16924  CTCCATCGACGCTTTAGGGACATAGATGGGAGCTCTGATTCCCGTG...  \n",
       "16925  CTCCATCGACGCTTTAGGGACATAGATGGGAGCTCTGATTCCCGTG...  \n",
       "16926  CTCCATCGACGCTTTAGGGACATAGATGGGAGCTCTGATTCCCGTG...  \n",
       "16927  CTCCATCGACGCTTTAGGGACATAGATGGGAGCTCTGATTCCCGTG...  "
      ]
     },
     "execution_count": 19,
     "metadata": {},
     "output_type": "execute_result"
    }
   ],
   "source": [
    "test_parent_1 = raw_df_child [raw_df_child['ParentM'] == 'A8184']\n",
    "test_parent_1"
   ]
  },
  {
   "cell_type": "markdown",
   "metadata": {},
   "source": [
    "### Test-b"
   ]
  },
  {
   "cell_type": "code",
   "execution_count": 20,
   "metadata": {},
   "outputs": [],
   "source": [
    "# # Display information of child of one Parent  (mother)\n",
    "# test_parent_2 = raw_df_child [raw_df_child['ParentM'] == 'A4285']\n",
    "# test_parent_2"
   ]
  },
  {
   "cell_type": "code",
   "execution_count": 21,
   "metadata": {},
   "outputs": [],
   "source": [
    "# first_test_child_2 = test_parent_2['Full_seq_dna'][5883]\n",
    "# # same first_test_child dna data as csv \n",
    "# len(first_test_child_2)\n",
    "\n",
    "# # 1 - 5880\n",
    "# # 2 - 5881\n",
    "# # 3 - 5882\n",
    "# # 4 - 5883"
   ]
  },
  {
   "cell_type": "code",
   "execution_count": 22,
   "metadata": {},
   "outputs": [],
   "source": [
    "# second_test_child_2 = test_parent_2['Full_seq_dna'][8291]\n",
    "# # same first_test_child dna data as csv \n",
    "# len(second_test_child_2)\n",
    "\n",
    "# # 1 - 8288\n",
    "# # 2 - 8289\n",
    "# # 3 - 8290\n",
    "# # 4 - 8291"
   ]
  },
  {
   "cell_type": "code",
   "execution_count": 23,
   "metadata": {},
   "outputs": [],
   "source": [
    "# with open('childG20008291_Same_parentM.txt', 'w') as file:\n",
    "#     file.write(second_test_child_2)"
   ]
  },
  {
   "cell_type": "markdown",
   "metadata": {},
   "source": [
    "- ` here we can see that data for parent has  A8184 has 8 records`"
   ]
  },
  {
   "cell_type": "markdown",
   "metadata": {},
   "source": [
    "------"
   ]
  },
  {
   "cell_type": "markdown",
   "metadata": {},
   "source": [
    "## Parent Data"
   ]
  },
  {
   "cell_type": "code",
   "execution_count": 24,
   "metadata": {},
   "outputs": [],
   "source": [
    "raw_df_parent = pd.read_csv(DATA_PATH_PARENT)"
   ]
  },
  {
   "cell_type": "code",
   "execution_count": 25,
   "metadata": {},
   "outputs": [
    {
     "name": "stdout",
     "output_type": "stream",
     "text": [
      "Stored 'raw_df_parent' (DataFrame)\n"
     ]
    }
   ],
   "source": [
    "%store raw_df_parent"
   ]
  },
  {
   "cell_type": "code",
   "execution_count": 29,
   "metadata": {},
   "outputs": [
    {
     "data": {
      "text/html": [
       "<div>\n",
       "<style scoped>\n",
       "    .dataframe tbody tr th:only-of-type {\n",
       "        vertical-align: middle;\n",
       "    }\n",
       "\n",
       "    .dataframe tbody tr th {\n",
       "        vertical-align: top;\n",
       "    }\n",
       "\n",
       "    .dataframe thead th {\n",
       "        text-align: right;\n",
       "    }\n",
       "</style>\n",
       "<table border=\"1\" class=\"dataframe\">\n",
       "  <thead>\n",
       "    <tr style=\"text-align: right;\">\n",
       "      <th></th>\n",
       "      <th>Name</th>\n",
       "      <th>Gender</th>\n",
       "      <th>ParentM</th>\n",
       "      <th>ParentF</th>\n",
       "      <th>EthA</th>\n",
       "      <th>EthE</th>\n",
       "      <th>EthK</th>\n",
       "      <th>EthP</th>\n",
       "      <th>Allele1</th>\n",
       "      <th>Allele2</th>\n",
       "    </tr>\n",
       "  </thead>\n",
       "  <tbody>\n",
       "    <tr>\n",
       "      <th>2616</th>\n",
       "      <td>A2616</td>\n",
       "      <td>F</td>\n",
       "      <td>Na</td>\n",
       "      <td>Na</td>\n",
       "      <td>1</td>\n",
       "      <td>0</td>\n",
       "      <td>0</td>\n",
       "      <td>0</td>\n",
       "      <td>CTCCGTCGACGCTTTAGGGACATAGATGGGAGCTCTGATTCCCGTG...</td>\n",
       "      <td>CTCCGTCGACGCTTTAGGGACATAGATGGGAGCTCTGATTCCTGTG...</td>\n",
       "    </tr>\n",
       "    <tr>\n",
       "      <th>375</th>\n",
       "      <td>A375</td>\n",
       "      <td>M</td>\n",
       "      <td>Na</td>\n",
       "      <td>Na</td>\n",
       "      <td>1</td>\n",
       "      <td>0</td>\n",
       "      <td>0</td>\n",
       "      <td>0</td>\n",
       "      <td>CTCCGTCGACGCTTTAGGGACATAGATGGGAGCTCTGATTCCCGTG...</td>\n",
       "      <td>CTCCGTCGACGCTTTAGGGACATAGATGGGAGCTCTGATTCCCGTG...</td>\n",
       "    </tr>\n",
       "    <tr>\n",
       "      <th>1079</th>\n",
       "      <td>A1079</td>\n",
       "      <td>M</td>\n",
       "      <td>Na</td>\n",
       "      <td>Na</td>\n",
       "      <td>1</td>\n",
       "      <td>0</td>\n",
       "      <td>0</td>\n",
       "      <td>0</td>\n",
       "      <td>CTCCGTCGACGCTTTAGGGACATAGATGGGAGCTCTGATTCCCGTG...</td>\n",
       "      <td>CTCCGTCGACGCTTTAGGGACATAGATGGGAGCTCTGACTCCCGTG...</td>\n",
       "    </tr>\n",
       "    <tr>\n",
       "      <th>8026</th>\n",
       "      <td>A8026</td>\n",
       "      <td>F</td>\n",
       "      <td>Na</td>\n",
       "      <td>Na</td>\n",
       "      <td>1</td>\n",
       "      <td>0</td>\n",
       "      <td>0</td>\n",
       "      <td>0</td>\n",
       "      <td>CTCCGTCGACGCTTTAGGGACATAGATGGGAGCTCTGACTCCCGTG...</td>\n",
       "      <td>CTCCGTCGACGCTTTAGGGACATAGATGGGAGCTCTGATTCCCGTG...</td>\n",
       "    </tr>\n",
       "    <tr>\n",
       "      <th>2711</th>\n",
       "      <td>A2711</td>\n",
       "      <td>M</td>\n",
       "      <td>Na</td>\n",
       "      <td>Na</td>\n",
       "      <td>1</td>\n",
       "      <td>0</td>\n",
       "      <td>0</td>\n",
       "      <td>0</td>\n",
       "      <td>CTCCGTCGACGCTTTAGGGACATAGATGGGAGCTCTGATTCCCGTG...</td>\n",
       "      <td>CTCCGTCGACGCTTTAGGGACATAGATGGGAGCTCTGATTCCCGTG...</td>\n",
       "    </tr>\n",
       "    <tr>\n",
       "      <th>5803</th>\n",
       "      <td>A5803</td>\n",
       "      <td>M</td>\n",
       "      <td>Na</td>\n",
       "      <td>Na</td>\n",
       "      <td>1</td>\n",
       "      <td>0</td>\n",
       "      <td>0</td>\n",
       "      <td>0</td>\n",
       "      <td>CTCCGTCGACGCTTTAGGGACATAGATGGGAGCTCTGATTCCCGTG...</td>\n",
       "      <td>CTCCGTCGACGCTTTAGGGACATAGATGGGAGCTCTGATTCCCGTG...</td>\n",
       "    </tr>\n",
       "    <tr>\n",
       "      <th>4004</th>\n",
       "      <td>A4004</td>\n",
       "      <td>F</td>\n",
       "      <td>Na</td>\n",
       "      <td>Na</td>\n",
       "      <td>1</td>\n",
       "      <td>0</td>\n",
       "      <td>0</td>\n",
       "      <td>0</td>\n",
       "      <td>CTCCGTCGACGCTTTAGGGACATAGATGGGAGCTCTGATTCCCGTG...</td>\n",
       "      <td>CTCCGTCGACGCTTTAGGGACATAGATGGGAGCTCTGATTCCCGTG...</td>\n",
       "    </tr>\n",
       "    <tr>\n",
       "      <th>10583</th>\n",
       "      <td>A10583</td>\n",
       "      <td>M</td>\n",
       "      <td>Na</td>\n",
       "      <td>Na</td>\n",
       "      <td>1</td>\n",
       "      <td>0</td>\n",
       "      <td>0</td>\n",
       "      <td>0</td>\n",
       "      <td>CTCCGTCGACGCTTTAGGGACATAGATGGGAGCTCTGATTCCCGTG...</td>\n",
       "      <td>CTCCGTCGACGCTTTAGGGACATAGATGGGAGCTCTGATTCCCGTG...</td>\n",
       "    </tr>\n",
       "    <tr>\n",
       "      <th>10141</th>\n",
       "      <td>A10141</td>\n",
       "      <td>M</td>\n",
       "      <td>Na</td>\n",
       "      <td>Na</td>\n",
       "      <td>1</td>\n",
       "      <td>0</td>\n",
       "      <td>0</td>\n",
       "      <td>0</td>\n",
       "      <td>CTCCGTCGACGCTTTAGGGACATAGATGGGAGCTCTTATTCCCGTG...</td>\n",
       "      <td>CTCCGTCGACGCTTTAGGGACATAGATGGGAGCTCTGATTCCCGTG...</td>\n",
       "    </tr>\n",
       "    <tr>\n",
       "      <th>14368</th>\n",
       "      <td>A14368</td>\n",
       "      <td>M</td>\n",
       "      <td>Na</td>\n",
       "      <td>Na</td>\n",
       "      <td>1</td>\n",
       "      <td>0</td>\n",
       "      <td>0</td>\n",
       "      <td>0</td>\n",
       "      <td>CTCCGTCGACGCTTTAGGGACATAGATGGGAGCTCTGATTCCCGTG...</td>\n",
       "      <td>CTCCGTCGACGCTTTAGGGACATAGATGGGAGCTCTGATTCCCGTG...</td>\n",
       "    </tr>\n",
       "  </tbody>\n",
       "</table>\n",
       "</div>"
      ],
      "text/plain": [
       "         Name Gender ParentM ParentF  EthA  EthE  EthK  EthP  \\\n",
       "2616    A2616      F      Na      Na     1     0     0     0   \n",
       "375      A375      M      Na      Na     1     0     0     0   \n",
       "1079    A1079      M      Na      Na     1     0     0     0   \n",
       "8026    A8026      F      Na      Na     1     0     0     0   \n",
       "2711    A2711      M      Na      Na     1     0     0     0   \n",
       "5803    A5803      M      Na      Na     1     0     0     0   \n",
       "4004    A4004      F      Na      Na     1     0     0     0   \n",
       "10583  A10583      M      Na      Na     1     0     0     0   \n",
       "10141  A10141      M      Na      Na     1     0     0     0   \n",
       "14368  A14368      M      Na      Na     1     0     0     0   \n",
       "\n",
       "                                                 Allele1  \\\n",
       "2616   CTCCGTCGACGCTTTAGGGACATAGATGGGAGCTCTGATTCCCGTG...   \n",
       "375    CTCCGTCGACGCTTTAGGGACATAGATGGGAGCTCTGATTCCCGTG...   \n",
       "1079   CTCCGTCGACGCTTTAGGGACATAGATGGGAGCTCTGATTCCCGTG...   \n",
       "8026   CTCCGTCGACGCTTTAGGGACATAGATGGGAGCTCTGACTCCCGTG...   \n",
       "2711   CTCCGTCGACGCTTTAGGGACATAGATGGGAGCTCTGATTCCCGTG...   \n",
       "5803   CTCCGTCGACGCTTTAGGGACATAGATGGGAGCTCTGATTCCCGTG...   \n",
       "4004   CTCCGTCGACGCTTTAGGGACATAGATGGGAGCTCTGATTCCCGTG...   \n",
       "10583  CTCCGTCGACGCTTTAGGGACATAGATGGGAGCTCTGATTCCCGTG...   \n",
       "10141  CTCCGTCGACGCTTTAGGGACATAGATGGGAGCTCTTATTCCCGTG...   \n",
       "14368  CTCCGTCGACGCTTTAGGGACATAGATGGGAGCTCTGATTCCCGTG...   \n",
       "\n",
       "                                                 Allele2  \n",
       "2616   CTCCGTCGACGCTTTAGGGACATAGATGGGAGCTCTGATTCCTGTG...  \n",
       "375    CTCCGTCGACGCTTTAGGGACATAGATGGGAGCTCTGATTCCCGTG...  \n",
       "1079   CTCCGTCGACGCTTTAGGGACATAGATGGGAGCTCTGACTCCCGTG...  \n",
       "8026   CTCCGTCGACGCTTTAGGGACATAGATGGGAGCTCTGATTCCCGTG...  \n",
       "2711   CTCCGTCGACGCTTTAGGGACATAGATGGGAGCTCTGATTCCCGTG...  \n",
       "5803   CTCCGTCGACGCTTTAGGGACATAGATGGGAGCTCTGATTCCCGTG...  \n",
       "4004   CTCCGTCGACGCTTTAGGGACATAGATGGGAGCTCTGATTCCCGTG...  \n",
       "10583  CTCCGTCGACGCTTTAGGGACATAGATGGGAGCTCTGATTCCCGTG...  \n",
       "10141  CTCCGTCGACGCTTTAGGGACATAGATGGGAGCTCTGATTCCCGTG...  \n",
       "14368  CTCCGTCGACGCTTTAGGGACATAGATGGGAGCTCTGATTCCCGTG...  "
      ]
     },
     "execution_count": 29,
     "metadata": {},
     "output_type": "execute_result"
    }
   ],
   "source": [
    "raw_df_parent.sample(10)"
   ]
  },
  {
   "cell_type": "markdown",
   "metadata": {},
   "source": [
    "----"
   ]
  },
  {
   "cell_type": "markdown",
   "metadata": {},
   "source": [
    "- `ParentM and ParentF is Na for 1st generation individuals `"
   ]
  },
  {
   "cell_type": "markdown",
   "metadata": {},
   "source": [
    "----"
   ]
  },
  {
   "cell_type": "code",
   "execution_count": 30,
   "metadata": {},
   "outputs": [
    {
     "name": "stdout",
     "output_type": "stream",
     "text": [
      "<class 'pandas.core.frame.DataFrame'>\n",
      "RangeIndex: 15000 entries, 0 to 14999\n",
      "Data columns (total 10 columns):\n",
      " #   Column   Non-Null Count  Dtype \n",
      "---  ------   --------------  ----- \n",
      " 0   Name     15000 non-null  object\n",
      " 1   Gender   15000 non-null  object\n",
      " 2   ParentM  15000 non-null  object\n",
      " 3   ParentF  15000 non-null  object\n",
      " 4   EthA     15000 non-null  int64 \n",
      " 5   EthE     15000 non-null  int64 \n",
      " 6   EthK     15000 non-null  int64 \n",
      " 7   EthP     15000 non-null  int64 \n",
      " 8   Allele1  15000 non-null  object\n",
      " 9   Allele2  15000 non-null  object\n",
      "dtypes: int64(4), object(6)\n",
      "memory usage: 1.1+ MB\n"
     ]
    }
   ],
   "source": [
    "raw_df_parent.info()"
   ]
  },
  {
   "cell_type": "code",
   "execution_count": 31,
   "metadata": {},
   "outputs": [
    {
     "data": {
      "text/plain": [
       "Name       0\n",
       "Gender     0\n",
       "ParentM    0\n",
       "ParentF    0\n",
       "EthA       0\n",
       "EthE       0\n",
       "EthK       0\n",
       "EthP       0\n",
       "Allele1    0\n",
       "Allele2    0\n",
       "dtype: int64"
      ]
     },
     "execution_count": 31,
     "metadata": {},
     "output_type": "execute_result"
    }
   ],
   "source": [
    "raw_df_child.isnull().sum()"
   ]
  },
  {
   "cell_type": "code",
   "execution_count": 32,
   "metadata": {},
   "outputs": [],
   "source": [
    "allele1_information_parent = raw_df_parent['Allele1'][0]"
   ]
  },
  {
   "cell_type": "code",
   "execution_count": 33,
   "metadata": {},
   "outputs": [
    {
     "data": {
      "text/plain": [
       "'CTCCGTCGACGCTTTAGGGACATAGATGGGAGCTCTGATTCCCGTGAACACGGCTCGGACCGGCGAGGGGTGCCAATTACGAACTTAAATTGGGCGGGTAGAGCATGACAAATGTAGTACGACAAGCCGACTGCGTTCCGATCCCTTCTGTCCGGTGGCACGCGCGCGAAACGTTCCAGGCACAATCGTCCCCCGACTGCGAGCTCGGCTCCCCATTAAATAGAGAGGAGGTCCGCCGACCTCGAGTAGCTTACCCGTTAGGCCAAAAGAATGCTGCGTACAGGCGCCCCGCCGTTGCCATTCAGTTTATTTACATTCCCGAGTGACTAACAACTCCTATCGAGTTGCGCATTGACTAACCGCAAGGCGTACCATGATGCCCTATATATCAGAGGGATCTAGTACTTCTTTGTACTCATTGTCTGGCACGGTTAGCTTCTCGGAATCAAAGGCTCATGCATGTCATCAATCTTGGGCCACTGGTGGTAGCGTTATGCTCAATTTGTCGCAACCGAGGCCTACGCCGAGATGGTCCGTCAAAGTCATGCGTGCAGCAGATGATCGACTCTCCCACTCGTCTGACTTGACCCGCCAGTATACGTCTAATTCGACTTGGCACAGCCGTCCCCCGGCATTCAATCCTCATGCGTGGATAGATGTATTTTGTGCCACTTGCGAGCGAACTTCAGCCAGGTATGTCCGGGGGGCCGGACACTGCAAGGTGTGCTCCACCCTATCAATCGTCAAGCCGCTTCCCAGTGGTTACGGGCCGCATCCACAACCCAGACCTGAACGGCGCGCAAGCTGCTCAGATTCGCTCAGCGTATGTCGGACGGACTCATAACCCAAAGTCGGCGACGGTGGCGAAACAAAGGACTGAAGGGATTTCACCTGAATCCCAGGGATTTCGGGGGAGGGTAAAGGGCCTGGCCTACACATCTCAGGGGCAACGACGGCGAATTGTGAGCCCGGTCTCTGTCGCTCGCTACGTCCGTGGTAGTTGTTCTAAGGATCGGTAAGGCCCAATAGTAGCTTGGGGCGCTGTGGCCTACCTCAATGGGCAACGCACATATTACGAACCACACACTAATACTGGGCACAGATATTGCCCGTAGAAGTACTGTATCGCGTCAAGCCAAACTTAGCTAGGCGGCGTGATAGCGCTTTCCGAAAAGCCTTAACGTTGTTTTAGGAGTCGACTACCGGTTCGACCAGGGGCCCGAATGTTGCCGGAGATGGACCTTCCTCCGCCACGGGAACGCCCCAGGAGAGGAGACTGTGGATTAGCCCATCCCAAACCAGCAGGTAAGCGCGAAAGATCCCATTGCTTGAACCAACAACCGCTAGACTTACCTCTTAGTCACCCTATGAATCGATTACTTTGAGGCGTGGCACCACAACTAATGCACGTCCGTAACGACGTGAAATGGGCCTGCGATGGTAACAGACATTGAGCGGCTGGTACACCCCGCCTGACGTACCTAGTGTGTAGCAGCCGAAGGACATGTCTACTCCCGGCGGACGAAAAATCAGTCCGGCCACTGAGATACATCTTCCGCGGCAGCCGGTACTTGAGACACATTCGGTCCTCCAGCTTGATCGGGTCGAAAGGATGAGTGCCAATGACCCGAAACTTGATGGCATATCACGGCGGCACGGACCAACTACACACGGAGAACACGCATGCCGACACTCTGCACCCGACCCGATGTGTGCAAGATAGTGTTTATCGCCCCGCGGTGATGACCCTGTTGCTAGCCTTGGGTATGATTTCGAATGGCATCTGCGCAAATACGAAGCGGCAAGTCGGGCCCGGCGATTAGACCACACACTGCGCCCTAGACGCCTGGGCAGAACGGCCTAAGCTGAACGTGTCACGGCAAAACAGCCTGGCTAGGTTTAGCACCGATCGCAAACCAGCATTCCACGTTTCATCCTCACCGACGGGACTTCTTTTACCTTCGTTGTGTCATACAGCGACTATGCGAAGATGCGGGGGGGTTGGGACGAACGACTCATCCCGTTACCAATCAGAGACACCCCCTACCCCGCCGTATTGGGACTAAAGAGTCGTGAAACAGTGAGCGGCGTAAGTGGAAGGCGGAAAACAACTACAGAGGAGGGGAAGAGACGTTCCAAGGTCTAGCTGACGTAAGAGTGCGGGACATTAATGCCCTCCATCCCTGGAGTCTGGTAACACCATTGTTCGTCTAAAGAGTGAGTGCGAATCGGTGTACGCACCTCTCGGGGGGCGGTAAAATGTCCAGTGGTCCACCGGCCAACCGCTGGCTCCGACGTGTATTTCGTAGACGAGGATTCTCGGGGTCCTGTTTAGTAGGTCGATGTCGGGCCAGGAATACCGCGGGCAACTGTAGCATGTTTGTACGTCGTCTAACTTGCGAAGATAAGAGTACAGGCCTGGGGCACAGGTGCCGCTGTTCCGTTTCTGGCGTCAAGGCTTGACGGCGGCGTGGGTGAGGGAAGGTAGGTGCAGCCTCTGTCCAGACGAAAAGTTAGCGTATTAAGCCACTGCGGTTTTGTGCATTGGGTGCCAGCCATAAGCTGGTCGTCGTTTTCTGGAAGTTCTGGGTAAAGAGCTCGGTTAGCGCGCCGCCCATATTGAGGGCTGCAGTGTGAACTATACTGAGCTACATGAAGCCTGGCGTCTGTCACAAACGGGGCCGCACGCAAGAACAGGAAAGGATACGTACCCCAGCGCATATCAGCGCCCTAACCATAGTCTTATTGCGACCCGCATTCGATGGCTCCACAGTACGGTCCACGGTATTGAAGGCGTTGGCGCAGAGCGGCCACTAGGTATCGCACTGTTTAAGCGGAATCTCTCAGACGGTTCGCACTTGCAAATCCGGGGCCGGGATTCCAGACATGTGTTATTGACTGCCCCACATTTATTACGAGCGATATCTCGGTGATGCCGTCCAGCGTCGGGCCACAGTCTCTCCCTTTAATCTGATCGGCTGTGTGGAACCATCTTCCCGGCACTAACGCGGCGTAGTAATCGCACCCAAGCGGCGCGTCAAAAATTATTTCAGCGGCCGCAAGTATAAAAACAAGAGAGGTGATATGGCAGATAATTCAATGTGCTCACGTCAAGCTGGTTAACGCGTCCGGTAACTGCAAATGACGGAATGGCCGACAACCGCTGTGGTATCGTAGAACACCGGGACTGGTGCTGACGCACGGTGTTCTTGGTCAGAAGAGGTTACGTCATTCTCAGATTCCATGCGTCCTTCCGGAACGGGGCGGAACGCAGTTGTTTCCACGGGTTTTAGGCGGTCAGACGGGTAGGGATAGGTCATCTGTTTGTGAATAGTGGAACCACGAAATGGTAAACCAGCCAACGTCCCCTGTATGTATACTAATGGGCCCACCGGTCTGAGAAGCTCAACGTCCTGAAGTACCATTCGACCGCGGCAGGGAGGGCATTGGCGACGGGCGCGTCCCTACATACCGAGCCCCACCGAATGAGATTCTTTCGGGGCGCCGGCGTAACGCCTATTCAAACGGGACCTGCTCGCCGTTCGCCGTAGTTTTTTGTTAAGACTTATTACCGGGGAGACACGTTCGGGCGGCTCCGACGAATTCACGGTCCTTTGGTCGCAGCAAGGTCGCCAACATTTGGCAACACTATCCGACCCCTATATGACCCGATTCCTGTGGTGAACCGCAGCAGCGAGAGAGACAGGAACAGTATTTCTATAGGTCTGTTTAGGGGGCCTGTTTTTCTAGTCCCCGTAGGGCAGAAATCCGTCGCCATTGGGGAGACGAATCCTGCAGGCGCAGCCCCCTCTTCACGGTCCGATGCTAGCCTAAAGAACCTCCCTAGTGGTCTAAAGTGGCTATGAAGCCCCTACCACTTGACCCTCGATTCCTAACATTCGGCCCGGAGAGGGGTCCATCTTGCTCGAAAATTCCGCAGTACTTCCCACTCAACCCCCACTTGATCCGTTCCGAATAAGACATGTGTTGCCCTCGGCCTGCGCTCATGAAGGAAGACTAATGACTGACTCTTGGTACCTGGTTCTGAGGACCCTCGAGTAATGCCCTTTGTGTTGGGTTACCCCTCGTCGTTACACGTGAATTGTTAGTCGAGTGTAGCGTGGCAACCGCGAGGAATGAATGCAGGCACAGGGTGCGACGGGCTATACGGAAATCACAAGGGCCTGATTGTTATCACGTTCCTCCCGACCGGTCCCCCTTCAATTGGAGCCAAGCTGTACCGGCCCTCAAGTGGTGAGATCAACTTGGCAATCCCGACCAGAGGGTGGGCCTCCCGATCCCAGTTGTGGTACCACCATGAGGAGGCCGCCTGACCGAATCGACCCCCGGCACGTTAAGTTAGGTGATGTCAGCCCCCTCTAGGACCAGGATCTGTGCACACGTTCCCGAGAACCACGAGCTCTGGCCCGTGGTGGGCTGCGTTAGGGAATGAGCCGTTCCCGGACCATCTTCCGGCTTGGCGATCGGAATTCCGTCCGGCTTCAGTCGACGCAAACATCTGGGCGTGAACACGGATACATTTTTGAGCGTCTACTGAGCCAGGAGGCTAGATAGCACCGCACGTCGGATTAAATTAGCCAGCCTTACGGGGCGGGCAATGTAGCAGCACGCACTGGTTCTAGGGGCCAGTTGGACCCCGGACAGGGTTGGGAAGCACAGAATTGACAAGATTGGATCGGCGTGTCGTCTGCTATATGACCTGGATATAACGCTCCAAAGGGAGGATCTATCCACGCCACCTTCCTAACCATTATGTGGGTACTTCTTGGTAGTCGCCCACGGCAAGTTTAGGGCTGTCGTCAATTGTCTTGGACAATTCCGTATCGGTGCGCAATGGGATCAGTTTGTCCGGAGGTTTGGAGGAGTGGCAACCGGCGCCGCAATGAGATTTATCTTTCTAAACTGTAGACCACGCGCTCGTGGGCGGGCACATATCGAGTAGTAGAGTCGAAAACGCGTCCAGCGTGGCAGCGGTGGCAGCCTGTGTCTCTCGCCAGATGTTCGCACGAGTGGGGTCGGTTAAGAGACGTTTTTACGTCCTTCGCTCTCGTATGCCAGAGCAAGTCGCACAACAGGTACCGTTCGTGCCGTTCAAGTCCTCAAAGGCGCTTGTGCGATAGAAAAAGCCCGCAACATCGTGTGTCTCTTGGGCCGGCACGTACCGGGGACGGGGCATTAGGCCGGGTATGTTGTTGGCCCAACTAAAGCATTGCCTCACCCCTCCGACCTAATCGCGTATCGCAGGCCTCAGCTAACCAATGACGCTGCCGCGACTAGCCTCCTCCGGATCCCGGGTCAAATAAGTTGCACGAGGGAGTAGGCGCTCGGCTTAGTGCGTCAGTCCTAGGGTACGACTATGCTACGGAGCTAGGCCCTGTTGGAAAAGAAAAGTCTCCCATAAGGGCACAATATTCTGAACGATGGTGTGCTTGCGGGGGGGTCCGAGACAAGCGGCGTTGGAACCAGCGTCTACGTGACCGTGTCCCAGAACCAACGAGATGGGTACCAGCCTAGCTGAGGCGGTACTAACGAAGGGATGGTGCCCTGTTACCCAGGTTCTAGATGCCGACAGGCGTCGGTCCCTCGTGGCACAGGTCGACCGACCCAGCTGCACTCACGCGGGTCGAGACTACTTAGGACTTTGGCCCACTAGGAGCCCTTTAGTAGCAGGCCACATTGGGATGAAACATTAGGCGTGCGGGCCGCGGGCGGGGCGGAACACGGGGTCTCTCCCCACAACCACGTCTCCGTCGATTCGAAGCCCCCTAATCCTCTTTCCGAACCCACGACTCTAGCGATACCACTACACCAAGTACAGGCGTTCCTGGAACCTGTCGGTGTGAGGAGAAGGGCCGGATGATCGCTCAGTTAGGATTAGAATTCCACTCCCCTGGTCCCTTCCTGGTACGAACTCCCCCGCACGACCGGGTGATTACGTGTCGCCGACCATACTGGGAGTATCATACAAGTTTCAGTAGGGGATGTACGTCGGTTATGTTTCAAGCTGTGCCTACTCCGTCGTGTTGTGTCCTAATTTTCGCGGCATACACTTGCCGATAGAATACCAAAACGACCACTTCTTGGGCACCAACGGCCCATCGTCCACCAGTTGGATTATGCACCCCGGTCGGGCAGCCCGGCGCAACCCCAGAGGGAAGGCCCCGGTTCCCTGTCAGCCCCGAACCGTTGGGTGACGTCCTAGAGTACCAAGAAATAATAATCTTCGCATGCCCCATGGATTTCGTATGCGTCGGATTGCACGCCACACTTTATGTACTTTTGGCGCTGAGGTTGACGATCCGAGGGGAGCTTCCCCTCCTCAAACTAGCTCTAGTCGGGTAGAATGGTTCACACACCATCCGTCGATTGCAACAAATGCTAGGGCGTATTTCCGCTGGTTTTTCGGTACTGTTGGACTATGCGCGAATCAGTCGACGCAGCCACGTCACACCCTCCAGCGGTTTAACCAATCTTAACGGTCTCACCATTAAGGTTAAGTAGCGCATACCCCTAGCCCTGAGCTTAGCACGCCAGGTCGCGTTGCAGTCGATTTTCAACCTCGAACCAATTTGCGCCCCTTCTGTGTCAGGGCACTCGTAGCGGTGACCTTGTCCTACCCAGGTTGCGTGCAGCGGTCGGCCTGACCGCTGACATGGGGAGATTCTGCCAGAGGACGCTTCCTGCTTGTTAGACAATCCCATCGAGCATAGAGTTCTACGCCACTAGTTACAATTTCATGCTCATCTCACTCCAGGGCAACACCATCTCCCAGGCAAATCACCTTTCTTCATCAATTACCAGCGCCGAACTAGCCGCCTTTTCCTCTGGGAGGAGGCTTGAAGTCTGGTCCAGACCTGTGCTCATCTTTAGGCAGAAAGCTGCGGCCACGTCTCGCTACCCTGGTTTCGATGAGCCCTGCGAGCTTTACTTGTTAAGCGCGGGTCGCATGCGTTCCACAGCGCATAAGATCCAAGGTAGTGTGTCATTGTACATCCGGGGACCTGCTGCCCGTTACAGCAGCGGTTGTTACTGTCGTCATCTGAGGCACAAACAAGGGATCTGCTCTAGCAACAACTTTGAGTTTATCGGTGGCCTCCGTACACCCGGTAGTCTCGAGGGGCCGAGACGGTTAGCGCTTAGCCAAACTCCGGTGTAGGCTTCAATCGAATCCTACTGTTCCTCCTGTACATGAACAAGCATACCAAGTTTAAGCCAAGTGCACTAGGGCTGCATTAACCTACCAGTCAGGATCAAACTTTTTGCCTTATCACATACATCAAAGGTCGATATATAAGAGAGGACGAGACCGATATCTTGTAGAGTGGCCCCACCGGACCTTCCGCTGTTCTCTCCGGTATCTTACAGGTCTCCTGCGAAGCGTAGACGGTTTGAACAGAATTCGGCGATCAGCTCGCAATGCCGGTTTAACGACAGCAGATTACAGCATATTAATTCGGTCGTGAGAGTGCACCGCTGATACTTGTCGTCACGACTCGCGGTTTTGGAGGACCACTTCCATAGGACGTGTACCCGAACCAAGCGGCGTGGGTATGATGCCCCTCCAGACGAGGTATGCGACGTTTCTCTGCTGAGGATGGAGTCTCCTCCCTGCCCAGCTATCTGGGAAGGGTGTGATTCATGACCAGCGGGTAGCCGGTAGTCTATTCGGATAATTAGGCTGACAAAGAGCGTGAGACACACGGTTGCGGACGCGTACTCATAGACGAGCAGATAGGCATATTAGGATGTCTTAGGATCACCTCTTTTAAATACCCGAGTACGGAGATGGGGCCTCGGTTTATTGTGTGGCGAAGGGGCTCAGAAATCTGGCTCATGGCACCAGTCTGGCAGGCGCAACCGGTTCCTGGGGAAGTAATGACCCTAAAAGCCGAAGGGGCGGCCGCAATCGAAACGGGGACTGAGTGAACGCCATGGTTGTATGCAATAGTAGGGGTCCACTGGAGGATTGTCAACCAGCGCCTAAAATTATACAGGAGCAGAAAGCGGTGGCTGTTATACCTGACATTATCGTCGGCCAGGTACGTCAGCAGAAACTCTCTCGGCGCCCTAGGGCTGTTTTAATCAATCAGGATTCGACAACTCTGTTGGCCATATGCGTGGGGGGAACTGGTGCGTCTGCTTGTTATGGTGAGGCGGCTCGCATACCTATGGTGCCGTAATAATCGTAGGCCGATAAAAGCCTAGTAAATCCATAGGAAGACCACCGACCCAGGGGAACACATATTGGTTATATTCGCCTTGATTAGACCCGGATGAGTTCACCTGCGCTCGTCCGGGCCGATTGTCCGGACTCACTTGGTCGGGCACCAGAATTCTTCAGGTCGTGGACCCTGATTATTCGTAGAACCTGCCCCCCCGGGCCAGCAGGAAACAGAGGCCACGCGTCGTCTAAGTAGTGTTAAAGTATCTTGCGCGGGTCAGACCCCGGAGTACCAGTCTCAATGTGCACGGGCCGTCGGGATTGCCGACGGGGCAGTTATGCTGATGCGCTGTGGACGGTAGCCCGTCTACTATCGCATTGCGAACATGTAACGGGCCGGCGCGGACCGCGAGAGGAGATTGTGAGCGTTGGGGAATTTCGGCTTATCTTGGTGTTGAGGTGTGGCTTGCTGGGAAGGCTGTGGCCAACGTATACGACTTTAAGCATGGGGTCGGATCCGGTCATCGGGTTCCGCACAGTACAGTGCCCTAATCATGTCCATTCCGCCAACAAGCGCAATGCAACGCGTAGTACCTACAGACCGGCTTGGATCTGCGTTGGTACAAGCTGCAAGATCATGCTAAGTATACTCAGCGGCTTCTGTTTCCGGTGTTCCAATGGCTCCCTCCGTCTTGTCCAACCGCTTTGCCTGGCGCAGGAAAATCCTGCCCAACAGTCCTACGGCCCCTATTTAAGATATTGACCATAGCATCGTGTCAGCTTGGCTGTGCATAGCTGGCAAGATGCTCCAGTCATACGGGATGACTGCTGCAATGCAGTAATCGGGCACGCTAACGCATTAGAGCGGCGGCCATACCCCGCAGGATTCCAAATCCCAGAGGGCTGAGGCGTATGTAATTGTCATGTACTAGTGAATCGATACTTCCGTGAACATTGACGGCCGCCAGTCCCCGATGGCGACACCAACGCAAGCCCCCATATATCTCCTGCCTTCTGTGGGTGTAACGCTACAAAGAATAGTACCATCGGAGAATTCTCCCGGTGCGTCCCAGGGAATCAAATACAGTGGTGGTATTCCATTCAATGAACGGGCTTTCCCTCCATAGCTATCAAAAGTTCACTGGGACCATTACGAAGTGCCCAAGCACGCGACAGCTTATACGGCAAGCGAGGTTACCCTGGTCTCTAGAAGGTTTATTTCTCGGCGTGTCGTACTACTTGACCTAGCGGATATAATAGGTGCATTGAGAGTTACCGTAAAATACCCGGTGAGGGTCGGTGCGTCTTGGGGGTATGGTGCTCCACGCCCCGACTTCAGATAGTTGGATACTGGCGCCGACTCGGTGGATTGATTCACTTACTGGCTTTGCGGGCGAGTGGAAACCCAGTACAGATTATCTGGCTGCCATGGTTGTCACGTAGCAGCGCTCGACGACGCAATTGCGGAATCACGTATCAGCGCTAGAAGAACGCGCGCTGAAAGTAGATTGCTTCCCGAACTACTGAATAGAGGGGTTATGTCACACGAGTTCGAAATTTTCGGTAACGACACTCACGCATCTAACTCCGCGTTTGGAGAGGTATCCTCTTGGTAAGCACCCTGCAGATAATAAGAGACCTGCCTCAGGAGCATGTTTGCACGAGCGAGCCCTGAAAGAGCACCTCGATACTTCACCAAGACGCCAACCGGGTCACTTGGCGATCCCGGCCGAGTATGCCCCCACAATTGATAGTAGTCTACGCGAAAGGTGGACGGGAATCCTTCACATTACGTCACCCAGTTGTCATTAACAATGATCAATCAGGGTGCAACGGGTGAGCATGAGATCCCTGCTCGCCCTCTCGCGGTGGTTAACACTCTCAGAAAAACCATCCACAGGGAGGATCTCTTAAACTGCTGAGTTGGACTCAGTTCGTACATCAGGATCTGAAACCTTAGGTCCATCCTGGAAGTACAAGGCCGTGCCAATCGGCAACCAGAGATTCTGCTCGATAAACGTGCGTTGATTCGCCACCCCTCCCCAGCCGTCGCTAGGCACAGCTTCCGCCACCAGTCTGGGCTATTGGACCCGACTTGAGCTTAGAGAGATGCACGGCAGGTTTTGCATCCGGTTCATGCAATCGATGGGATCGCGCTTAATAAGAACAGTCGCAGTCCGATTGTCGTGGACGAACTTCAATGTTTTACGTGGGGCTATTTTTACCGTAAACCGTAGAAGCTTACGAGGGGACGTACCGTTAAGATGCACCTTGTGAGTATATGCATTCGGTCCTCCGGTGCAACACTCCGGGACTGACAGCGACTTCAGTTTGTAGAGACGGTGGTGCGGGCAATGGTCTCGGAACCCAGCTTACTCTGAGCCCATGTGCTATATCTATCCTGACTCGCCGCCGCCTGCGGGGACCTTCGGGTCAGCAAAGGTATACGTGGGTCTGTGACCCCGACGTATGCTAGAGGCAGATGCTGAATGACACCACGCTGACTAAGAAGGAGGAGGTCCGCGCTAGTGAAACCGGGCTAAGTTTTATCGTTGGTTGGACGACCCTACTCCTAACATCTCGATCTTTCCAATCAAGGAATTGTGCGCGTCGGAATTTTTTGCGAAAAGCTCCACCCCCGTGGGCTTCTCCGCGTTACTGGCCTCAGTGACTCGTGTTAGGCACCTTACTTTGTCGGCTGGGGGCGTGGTGTCTACGCACACGAGTGACTTAGGTTCTGTTAATTGGTAAGCGGGTCGCGTAGCCGGCCCTCTTTGAACAATCTATTTTATAATGTGCTCCCAAGGGGGATACTGCCCGCAGACAGAGCGGAAGCGATGACCCAGTACCCGAGTGACTCGGGTTAATGGCGTCTGTGCCGACGTATACGTAGTCGCCAATCTATTTAACTCAACTATACGGAAGTCAGCTCCCCCGGATCATGCTAAGTTCAACCTTAACCGCGCGAAACGATCTTCAACCTCATTGCTAGGCGTAAATCGAACATCTTTCATAGCTATTTGGTTCGGTACGCGCGGCCATACCCGTAGCATGCCCCATGATGTACCCCGGATGTAAACACGTATGAGCAACTCCGCGGGTTAGAGCTACTTCGCACTATGCTGTATCTGAAGGTAGAGCACGCCGCCCCTTCTATGAGGACGTCTGCGGAAGCCGTCAAGGAGCAATGTGGCATCGGCGTGGCTGCCAACAGGCCTACGGTCGCGACTGTCTACCCGGTGACGTTGTAATCCAGAGCTTTCCCCTTAAATAATGGCCACTGATCAGTCGTTGCGTTGGAACAGGACCCAGCGTGCTGTTGAAGTGTTGGGAGGTAGAACGGTGCGAGGATCTAAATGAAGAATTCGAAGGACGACCCGTTTCGTTCGCATGCTACGAGCCTCGAGCGGCCTTAGTAGGGTACCTAGACGCAACCCCTACTCAAGTTGAAGTCTCGCCACAGACCAAATTCTGATCATCTCCGGGCGCTGCAGCCGCACGCCCAACCTCATTAAGCCATGACAAGCATGCACCATAAACACCGGGGCGGCTGTGGGAAGGTAAGTTGTTTCGAGTAGAAGGACGGTGGATCAAACCTCGAAGCAACACGCTGCTTCATATATGTGCCTCGACGCTGATTGCTCTGACTTCCCACGGCGAAGATGTCATTTCACTTGTTGAAACCCTTAGATCGTAGTACACAATCAAGAGGTTTGGCTCTCCTTCACGATCGTAGCCGCGGCCCGGGCCTGTTTAAAGTCCGATGCACTGAGAGCTCATCCGATTCGCTTAAACGAAGTCTGAACGTACACGCCACTAATGCTCAGACGCCGGCTGTCTATACGCGAACGCAAGCAGCCTCTATATCGCCACTCGGAAGGACCGTGCCCCCGCCCTGATCGTTGAGTGGTGACAGCAAACCTCGTGCCTTCCAGCTGAGACATGCTCGGGCATCGTACGCATCAGCTATGGTGCGGGCATCACGTAAGCCAAAACGAGTGCTACCTACCCGCAACTAAGCCGCTTACATTCGTGCTGGCTAAAACTCGTTCTACCGGGCATGGAGCTGTCACCCCGCAAATGTTTAATGTTCTGATCCTGGTGAGCGTCAATATTACTGAAGAGACAACTACCGGGGTAAGGCACGCTCGTGGAACCCCTCGTCGGTGCCGGTAGCCGGCATGCACGTCAGCCTCCCTAATATACTCTGTAGTACCTCTCCAGCATCAATAGCTCGTGTCGGCCACGTTACATCTGGATTATACGGGTGCACTATGAGGTAGGTTTAAAAACCGTCGTGCTGAGTTCGCCAATTGGTACCGTACGTGCCTCAAAGCTATATCTCAGGGAACATAATGGTGCTACAACGATTGTACTAGACTCAGCAATGCGTAGTTGGCCCCCAGACACGACGATCTTTGACCGTGGCTAACCTCTCATAAACCGGCATACGTTGCGCACTTGCACCCAGCACTGAGCAGTATGGTGCTAGCCGCCAAGCGAGCGCCCCTACCAGTTTTGGGGTAGAGTCCGCTTCTGTAATCCGGTGCAGTTTTCGCGGCTTTTATTCAACTGAACAGCTGAGTATACTGATCTTTAGAGCACGTGAAGGCCCAACTACTGGAGTGAAAAATCTTCCCCGAAAGTCTACGATCAGTCGTTCTGGTACTTGGCAAGTGAGTCAGTCACATGTCTGACCCCCGGCGCCCTCACTCTGAAGCGGCTGCAGCGGTAGCGCCTTGACCACTATTTGTGGCTAGTGGAGTTGGTTGCATGGGGGGTCCATTCGACGATGCAAAGCGAACGCGGACCAGCGTTACTACCTCCGTTCTGGGTCCTTTGCGGTTAGGCGGCGCAACTTTCCGGGCGGGTCTATTTTGAGCTTGGCATTGGCCTCCCAGGAACGCCCAACAGCTAGTCTTCGAGACAAGAGTAAACCTGAGGCTACCGAACGTGTACTAACATAGAGGGCCTGTGGTGGCCTGTTGAGAGACTCTATTAGCAGGGGGGGCCGGACTGGGCATCCCTTTGGACTAACTATCCTTTTACCCCGTTGGGGGACGGTCCCCGTCAAGATGTCGCCAGAGAGATCAAAAAACCCAGGAGTCGTATACACAGCCGTTAAAGAAACCACAACCCATGGTGTATAAATCGACGCCCATCCGTGAACATCTATGTTAGGGACGAGGCACATACTCATTGTCCGTACCCGGGGCACTATATAAGCCATGACCTGCTCGTTCGGGACCTAACAGGCAGTGGTGTATGGACGCCGGACAGGTTTACGAATCAACCCGAGCTCGTAACCGAAATTACAACCATCCGAGCGACCATGCTTTAGGTACGTCTTGATAGGAACAGGTAAGCAAGCAAGCTAGCAGCGCTACTCGCCTTGCGGACCCCAACCGTCCGTACGTATGAAATGATGTACTGTCGCACGCGCTCGGAGGTGTCGAGCCCGTCACGGGGCGGGCCACGATCTTGCTCCATTCTGCTTTGGCGGTGAACGCAGGGAGCTGCTATGAGTCTGCGGAGACCTTATCGCCACCGGGATAAACTCATCTAAACGCATATGCTCAGAAGGATGTTCGGCCGCGCCTATAGTGGCTACCGCGCCCACGGCGCAATCTGGTTCGACTCAGGACTTGATGGCCGTCCCGACGTCGGTCTGACGACGCATGAAGCTCGTGCTACGCGAAGCGAGCGGGAGCTCCACCTCATAGTTATCACCCACAATCCCGGGGTCGGTGTTCCTGCAAAATCTTGGCCATCGGGCTATCTTTTCGTTAGTAACGTGCACCGCTATGGCAGTGCCATGCGCACGGACATGGCACCACGGCTTGTATCCCTGCGTCGTTTACGTAAAATACCTCGGGCCCCTGCAGATAGGCTTGTGTATACACCTGGTGTGAGGGACTGCGGCAAAGGCGGACACATTCCATCATACCCACGGGAAAAGCCGACGCGTTCACACTCGGAAATTCAATCTACCAGTGTGGCGGAGAGAAAGGTGGAATCCCGGTCGCTTAACCACTGGAGCCGGACTGTCGTAACACAACTAAAGGGGAGGAGGAGCATGACCATGACGTGAAGCCATTTGAAAGACTACCCACCGCGAGTACCGAGATCCTATTCATAGTGATCTTACAAGAATCCACAGAGGCCCCCGTTCGTGAAGACAGCGCCGTCTTGCGCAGTTTTAGAGTGGGCTTCCCCGACAAGTAATCTGAAACAGGTGGGGCGTGCGACCAGGCTTGGCTGCATTAATTGCTAGCTAACGTAGGCTGCCTAAAGACGACCCTTTCGAGGCCTACTCGTATGTAGACCTCGTGGGGGCTGCGATAGAAGATCACCGGGATCTTATTGGGGTAGATATGAATCTAGTTTCGACAAGTTCATATTGGGGTTTGTGAGTTGTTCAGACGTGAAGATATCCAACGTCCGGTGGCTGGGCGGAAAGGTTGGTCATTTCGTGAAGAGGGTCCAGCCCGTAGCCTTAGTTGGAGTTCTGGCCGGAAGCAAATCCGAGCCTTACGCCGACCGGACATCCCTACACCTATATCCGTTTTATATAGCTGGCTGCTAGTTCTCTTGAATCAGGAGTCTTCCCTACTATCGTATACTGATTGTTCGGACTAACCGACCCGACTGGCAGCTGGTAGCATACAAGGGATTGTTCTTCCCCGGCTGCTCTGTTTGGTATTGTGATGTATAGCATAGCGGCAAGCTACGGCTGACCTGCTCCTGCATACTGGTTCATTTACATTAGACGTTCTACGTTCCTTATCGCTTGCCCGAATGGGAGGGGGTTAGAGAACTCGAGCCGTAACCGATACAGGGGGGCCCAGTCTACGTATGAATTTATGCACTGACTAAGTCAACTCGTTTTCACCAGGTCCTATCCTAGACGACGATACTGATCGCATATTTCGAGTTCAAGTCTTTTATTGTACATAAACCCCTCACGTACTTTTATCTTCATGTTAAATGCCTCCCACGCACATCGTCAGATTTTTGGAGCGTCTTTACCCGATACCCCTCATTCGTGTCAACTAGACACCTCATCTTGTACAGCGGTGTTGTTGACGACGCGAGCACATAAGCCTACGGGGGGAGTCCCGGCTCCCTAGTTGACTTCACTTGCCCGAGTCTTTGTTAACCAGTGTAGAAGTCATTGTATGACGGACGATACCGTCGCTCAACGAGGTTTCATAGACCGCCTAGAGACCGCGCTGATGAGGATCAGCTGAATCGGCCGAAGAAGCTGTCAGGTGGATACTCCCTTACAGTTTCAAGACCTATTTTTCTCCCCGATGCTCCCATGTCTTCGGTCCAAGTGTGTTACGATCTCGAAGCGCGCTCACCGACGGCCTGTAAGCTCCGCGCTCTGTCTGTCCAGGAGCTTACTACTATCGTGATGGCAATAGGGTTCTTCTGAGCATAGCGATGCTAGCTACTAGGCAGATACCTACTGAACTCCCCCGGGGTTGTGTATACGCCTAACATTTTGTATTTTAAGCACACTGGTAAAAACAATCGCACGAATTGTGAGTTACTCCGATACCTTGGCACGGTAATGCGCCGGGAACGAGCAGCTTTGGCCAGCCTCTGCTTTGTCCCGCTACTATCAGGACTCCCCTGTAGTGGTTCTTCATGACGCGGTATTTGCGCTAGCAGGACGTTTCAAGGCTCTCGTCTGCCTACTCCCCCCTATATGTACGGCTAGCGGGGGGGGAGATCCAACGAACACACAAATGGGAAGTCTCACAGCACGACTGAGCTCGCTCGCTGCATGTCGGTAGCTCAATGCCTGAGGGAGGACCGCCATGCGCACGCTGAGCCTATAAGGGCAAAAGGTTACCCTGTGCGACATGGCTAGTACGTCAGCCGCGTCGTATTTTTGCAGGACACGTCGGTAAGTGACCCCACAGGTTGTGATGAACTTTAGATGTGCCGAATCATGTCTGCGCTACGGCATATGCTCCACAAAGGGCTCCGTGTTACCTTCTGCAGAGGGTCAACACATATTTGGGCCAAATCGCAGTGATACTAGATGAGTTCCGGTATCACTATTTCCACGGAAGTAGCGCGGGTGGCCTACACATGAAAACTATCAATCCGGGTAGACTAAACTTCGATTTACATAGAGCTCTGTCATGACAACCAACACTCAAGCGGATCTGTGTATGGAGAGAGGAAGGCATTGCCCGTCGGGCTATGAGTTACCTCGCACTGAAAGGTGACTGTTAGTGCGCTCAGCGCACAGACCTCGCCTTGAATGAGACTGTTACCGACGCTAAAACTAATTAGGGTCCTACCAGAGAGGAGAGCTTGCGAAGACCGGGGTAAACTCTGCCCGAGCGACTTAAGGGTATATGAAAGGACACGGTGCTCATTACGTTTAAGTAAGGGAAGTTATTCTTCAGGCTTCAGAGACAAATCTATCAGCTACACCACGTGATATAGGTTACACAAGAAGTCGTGGGCCACTCCGGTCCGATAAGGTTAGAGGCTAAACCGGGTGGAGTCGGTAATGCATGGGCCCATGGGATGGAATTCCGTTGACGGCGGTGCGCTGGCTCCGCAAAAGGCAAAGTTCGCCGTTCAACGCTGTAGATAAGACCCTTGAACGACACACCTCAGGCGGGCTAAGTATATTCTTAACCGATGCTGAAGAATGTGATTCAACGTCGATTCACAGGCTGAAGACCTGAGAGAACTGACCTAGACGGCCCTGTCGCCCGACTCGCCGTTTGCCGTACCTGTCAATCAAATGCTTGCGGCCTTCTGTATTGCCGCCCGACAACTTGGAAGCACACTCGTTGCCTGGGCTCCAAGCCCCTAACACCGTTGATAGGGAGGAGGCCTTAGCGTCGAAAAACCGGTAGGAATACTAGGTACCGAATTATTACCCAGGAAAGGTACAGACAATAGTCAGTGCAGATGGGAATATTTCCTTCAGAGTTCACGGTTCTGTTTCTCTCGACCAGCCTTAGTCTGTATTGCCTCGTCCGAGCCTAGTAAGGAGTCAGTTCTGGTTGTTCGTACTGTACATCCGATCGGTTAGTGTTAGGGTTGGGTATAGTCGGAGTTAGTGTGCAGCGCTCGAGGGCGTTCCGGCGAAGAATGCAGTTGTAACTCAGGTGGATGCCGGGTTGTTTCTCTGATAATAACAAAATGTTCACGGGATTGTAATCCCGCATCGACCAGTAAGGGGGTACCTCCGCGGCTCCGTTGCTCGTGAAGAGAGGCTTCAAGCATCATCTTACAACGAGCGGTCTTCCTCTCCACTTGACCGTGGGGGAGAACGCGACCTACGCGGATGTCGCGCTCAGCCGCTAACACATCAGAGTGTGGCAGGTTGACACATAAGAGAAAGGAAAGTTGTTTATGAGCATACTAGCCGCATCCTTACATACGGCCGGGCAAGAGCTGGTACCGTCACACCCCCGGCTATGCAACCGCTTACACCACAATGGTATCCCCGTACGATTAAAGCACGCCTGATTGCTGCGCAACCCTCCCCAATGTGCTAAGAGCCGGGCTTGCCGAAACACTGTAGATGCGCTCTCTAACTAACTCCGTCGCGATTAGCGGGTCTCGGTTTCCTGGTTCCGATAGAATGAGTATTAGAAGAGCAGCATGCCAACACATAAAAGTCCCCTATTGCGTCGTCTCGGTAATCTGTAGACCCTTACAGCGTGACTCCCCTCGATTCGCGGCGCAAGGCATGAGGGCAGATCAGAGTGTATCGACATTGTCGCGTATTCACATGGCTCACGAACCATCATATGGCCCCTGCTGTGAGTCGTGCGAGCGTTCGCAGAATGGCCGCACATCGAAAGCTTTTGGTGATTTATCAGCCATGTTCACCTGTTTGCCTGCCACTTCCGTCAGTCGAACGTTGCAGGCGCTCCCACCGCCGGAGGCGCGAAAACTCATCGCCCTGCGCACTCGCGGACGGAGCACTACCGATGCGGCAAGGGAGCGACGACCCTCCAACACCGGAAACAGATACTCTACACGTCGTCGAAATATTGCGCGTGCTTATAGGGGATGGCTGTCCAATCCGGGAGTCGCCCACCTACGTTTCTTGCGATGAGCACGTCAAAGTCGTACCCCTCTATAGGTCAGCATCCTAACGGTGTAAAACACGCCTCCGTTGACACTGCCTGAATATACGAGCCCCACGCAAAACGGACCCATCCGAACAGGCAGGGAGACTATACACAAAGTCGAGTATCGACAGTCCTGAGCTCGGGAGATAAGCTGAACCCCAGCGCCACCTCGTCAACGATTCGACCACTTTGCTCCCTGAGGGCGTTGTTTATGGCGGAGGCTCGCCCGACAGGATCGCGCATAACAATTGTTCGCAATATTATCAGATAATCACTTCCAACTTAGTAGGCCTTCTCGTGATCGGGGATTGTACGGCGTACACATCCGCGCGCGCACTTTAACATCGCGCCTTTATAAGGCTAGACTTGTCTTAGTGAAGTGTCTCAAGACTGCGGTAGTAAACTAAGTGTGAATTAACCACGGATGGATGTGCGAACCGGCGAGCCTCTGCCTCAGCGTCGCTCCCTAGGCTTAAACTTCTCGGTAGCATGCTCCATCCGTGTGGGCATTTCTCACATAACGTGGCGGAAAAGGCGGACTAAGATATGTCAGGGTGCCCCGGTCGGGAGAGTTTAAGTGTGAGCCGCGGCTATTCCGAGAGCACTGATCGGCCCCTGGATCTCTCCGGAGATTCTAATTAGCTACATGAAAGTGTACCACCATGAGATCAATGGGGCACCTCTTCAGCCCATTCTGATGAAGTACCTATGTATTGAGCACCCTAGATGGACAATATCATCCTTCGGTCCATGGGCGAGTCTATCTCTACCCAGTAATGCCGTACGAACCGGCCAGTGTCCGCAGGTTGGAAACCCGGCTGGACGGGCACTGTCTGGCGGATGTGAGCTCCACGGGTTCTTTATTTCTGTTTTTATCTTCGGCGGTCGGTGTGGACCATTTACTGATCCGGAGTAATTGTTATCGTAACAAGTTCGAATCTCATCTTTTCTTGCTCAGGAGACCAGAGTGTGTGCCCATATACCAATTTAACCTTCGGGTTACAAGGTTACCCTTCTACGGTGGGTAAAAATTACGTCGAATGTTCCAATTGTCCTGCTGAATCCGGGATCGCCGTCGAGCTAGACATTACGGGCCTGAGTATGCACATAGGCGACGCTGGGCATTAAGCCCATTATAACTGAAAGTCTGCTTGTTAGGGATTTACCGGAAGGTATTCTGCTACATAGCAGTTAAGTCGTGACTCTCAGCGGGTTTATTTTTTTCGTGAGTCTTACTCGAGAATCGTTAGACTCCCGGAATTGGGTAACTCCGCCTCACTACAACGCTCCCCCCCAAAGTCTTTTACATTGTGTGACACCAGTACCACTGTGCTCCAAATTCCACGCGATGAATCTACGCGCGCCGCAGTGAACCTCGTAGCGACCTCTCCGCATGATCTTAGGTGACAATTTGTAGGACGGGCCTATCGTATAGCGTTGACCCTGCGGAACGGCTTTGGGCTAGTATCACATAGTAGTCCAATAGCGTCATCTCAGTAGACCTATAGAAGCGGGGTTGTGGCTCCAACGACGTCGTAGGTTTTGCGATGCTCCCCACTCATTTTACGGACACCCATCTTAAATAGATTCCAAGTGGCGGTATCTAACGTGATGAGGCGTATCATGCGCTTCCCCGCAATGGTACCCTTTGAAGCACGCAGCGTTGAAATGTAAGGGCTAACAGGGATTTCGGATGATGATTACTAAAAGGGGACCATCCGTCGATGTCCTTCCGTCACTCTTCGATCTACCTTGATGGGGGGGTTTGATGTCCGCTTAACTAGGGAGGTATTCCCGGAGGTGCCTTAAACTGACGAGCGACAGGTTAAATTTAACACACCCCAGCATTCGTGATCGCCCGAGGAAGAGTTAGCGGACACCATTGCAGAATACCAGACCGTTTGGAGCGAGTACTTTTCGGTTACTCATCGTACAGGTGCCTCCTTCTTTCAGGCAACATGGCTGGTTTGCCAGCGCTGTAGGCGCCTCTACGTGTAAACCAATTATTTCAGTGAGTGACGCTCCAAAGGGCTTGCTTTTACGGTTATGTTCGCCGAGCTATGGCGGGCGAGTAGTCCAACCTTGTTACGCAGTAACATACCCGCGCAGCTCTTAGGGTTCACCTGGTTCACTCCATGACACTTGGCTCCTGACTGAGTCCGCGACTCCGGCAAGGGGCTCGTAGGAATCCATAAAATGGGACCAGCAGTTATAGCCACGCGGCACATTGCGTGCCTTTCTTAGCAGACCGAAAGGTCACAGCTGCGAGTCGTCCAATCCGGCTGCAGTCACACGACTGATGACCCAGCCTGCGTTCGTCACCTGCGCCGTAGCAGCACTACGGGGTGGTTGTAAGCGGACTAGGGCCAGCTCTATATTGTAGGCCGTATTAACTGCGCGTTGACGATAAGCAGCACAAGCTCGAGCTGGCTACCGGTGACGCGCTTTTAAGATGAGGCAAGATCTCGTGCACCTCCGGTCCGTGCGCGGTTGATACAAGTCCTCTGGATCTGCTAGGTTGTCGAGTGCATTATGTTAGGGGCATGCCTACCTTCGCCCCCCGTCGCGATCGCGCTCGTGTGTCATGATGCCTCTCACGCTCTCAATGCCTAAGATCGGAACACAACGTAGGACCGCCTAAGCGCCAGTAAGTTTAGTCCTGGGGCGCCGATCATACTTGTGGATGTCCGCACTGAGAGGATGCCCCTCGGTACTACGTGACATTTTCAGACCACAGATTGTACGCCGCAAGGCTGGGGCCCCTGTGCCCTCAGGCGGAGTGGATACAGTTCTCGCCAAGAGAAGCCGCCTCCATCTCTCTTGGACGACGTCATCCGGTGTGTGTAACAACCACCTAGAAGCATAGTAGGCATCAAGCGAACGAGCGGGATCACCGTGCTCGGACCCGCGAGACGCTACGCTCAAGCTCTGCACTCGTACGATTGCCTAAGGGATGCTCACAACGTATCTGGAAGCGTGATGCCATTTTCCCGTTGAAGCTTGCTGCGTAGAGGGGGCTTTCTGCTGGTGACGATCGACACGGACTGGACTTTGCCATCACTGACCTACCTTACCCATCCGGGATCCATCTAGTTTGTCTGAGCTCTTCAATTCCGCACGGGGCCCATTCGTCGGGCGCCAACAATATGACAAGATTGATAGTATCGTGACAGTTGCACTCGGTTTTTTATCTAAATGCGGCACGAGCTAAGTCTCTGTCAGCCCCGTGATCATTATACGCGATGAGGGACCCCGGGTCGACTTGACGGCTCCTTAACGAGCCAAGGCAGTTGAACTCCTACGCGTGGCGTACGACTTTGTCTCAGTCAGAAAAAGAGGTTGCCAGCCCCCACAACATTTCTTCTGGCGATTCACTGCGACCCACCAGGCAGTGTTTTAGGGTAATGACCTAAGCGTTCCCTCCTGGGCGGGGTATCCAGAACTCGATAGGCCGCCCGCCGTCCACGACCTGCAGTAGGGCGAGAGAAGGCAGAGTGGACTGTTTGTAGCTGTTACATATGGCCGGCCTAGATTTGGGGACGATGATAGAGGCTGTGGAAAGCACCGCGCTATTTTACCGTTCCTTGCGTACTGCGCCGATGTGCTGGCGGAAGTAGTAGTCTCTCGTGAGTTCCTGTGTCATACCGGATTGGAGTAAAGTAGTAGAAGCCAGTGTCTTAATTTACCAAGGCGCTGCGTAGCTCTGTTTGTCGTAAACGTAAGGTATTTCTTGGAGGGTTGATTAACCGTGACAGCAATGTTGAGGAGTCGGTATAAAAGCGTGGTCAGTCACGGGCCGTGCTAGTCTCAGGTATCGCTAAGCACTGAACCGCTCGCCTTGGTCCCGTTACCCCTTCCACGCTGCATCGGCCCGTCAGCCTGCGTATAGAGCCACTGAGAGTCAACCCGAGGGCCGAAATACCAGCGTTGCCCCGCCTAGCCAGCCGCCAGAGTGGACACCCGAGAGGACGGTAGGCACTGCCTAGGAACTCGGCTAGATGGGCCATCAATCATGGGAATCCACATTCGACATTTTCTGACCGCATAACTGGTGGGGCATGGTGTTCTCACCGACAGACTAGATGCCGGAGACGGCGCTAGGACCTCCTGGCTCCCTGTTCCTGAGGTAAACGAAGTTATGAGTCTGACCACTAGGAATTATATTCGAACACAGCATGGTCGCGGATCTGACGTTTTGAACAATGTGGCCTTACCTCGAGCCCCGTCGTAGAATAGCTATGCGGGTTTACTTACTATAGAAAGATGGGCGACGTCCGTACGGCCTTGCTAGTTGTAGTCCGTCTGCAGCGCTCAGACTACCCATCCGGGTTCATATAGATCTCGCGGGCGTACTGTCGCGAGCCCTTCCCCAGATTTTTATGTTTTCGCGGTACCTTGGGCCCAGCTAACGCCGTAGCAACTCTAGCTACGCGTAAGGCTCTTTCTTCTAGCATTTTACCTCGTTCTGCGTCGGAGTCCCTCATAAGTTTTTTCACGTGTTTGACCACGCAGTATACCCGCACGTCTATATCAACTGTCGTCTCGACTTTTTGATAGCCGGATCTGCAAAGCCCTATTTGCGTGCACTAAAACCATTACCCAAATTCGATCGCTTACTGGAGGCCCAGGTCGACACCTGCCATCCCAGGCGCGATTAAGTTGGCCGGACATCGAGGAGCAGGACCGCTCGGTATATAATCTGCTTGGAGATCTGAACGCATCCACCCGAGCTGGGTGTTCATTGATCAAGGTAGAGCGAGAGAAGGATTTATTAACCCGATACGGAAGATCAGAATGTAGGTATCGGTGATGTAATTTCAGTATTCTGTGGAGTAATGTCATTAACGAACGAGTGCGACCGAGGCAGAGGGCTGCTAATGGCTCGATAGCGCGCCAGGAGGCAGTTTCGTGTAGAGGCACAGATTGGAAGACCCGCTCCAGCCAGCACAAAGCTTTTACCGCGCGTAGAAAGGTACTGGCCATGAGCCGGTGCAAGTAGTGTACATGTCTCGCTTTGATTGACAGTTAGTGCAGAACACATGAAAGTGCACTTGCATCCGAGCCCAGGCTCTCACTAGCTATATGGAGGACGAGAGGCCTGCGTGCCCCAAGGCTACGGGATCACCCGTTATAAGAGCGCATTTATATTCGGATTCCAAGGTACCGCCTAGTAAGGCTAGTTGTAGTGGACGAAATTAACTCAGCGAGGCCTCAAGACCTAGTCCTCGTGCGTAAACGTAACATGTCACTCGACAGATCTGCCAGCGCTGTCAACTCGATGTAATGTGGGGGCGTTTTAATGAGCCGTCGAGTATATCTGTGTCTGCTCTGACTCTGCCTACGTCCCATATGCGGTTGAATCAGCGCACCTATTATCGCACGAGGAACAGGCACTGCATAATCGCACTACCCAACGGACAGGTACGAAGCTTATGCATTTGTCCCCGGATTATCGAAGGGAGCTCACGGCCGACGTTGTTACCAATGTTCTTCCTGCATGAAGGCTCGCTATCATAGCATGCTGACGTGGGCGCCCATCTACCCCGTACTATTCTCTTCAACCCACGGAGCTGCTTTTTGCTAGCGGCTTGACTGGTTATTACACCTCTCTAGCCCCAGCGCCGATTGCATCCTACCTAATCCTGGCCATTACTATAAATGACAGCCTGAGCTAGTAGCACATAATCGGACGTCAGGGGCTTTTTTCAGCATTGCAACACCAGTATGAACATATCTAGTCCACAAGATGGCACTTGTCATTCGCCCCTATGGAATCACCTGTCAGGTGGTAAATTACGCCTGTGGTCAGCGGCGTCTTGTGTTCCGACGGTCGCCCTTTGTGGAGTATCGTCTTACTGGGCCCATTGCCGATGTTTTCCAGGAGCGATGTCTTGATACTTAAAATAATCCGGCCGGCTCCACCGTACATCTAGGATGTTTGAGGAGCGGGCATTAGATAGTTCTGTCTTACTGACGGGGCGCTTGAATTCACGATTATTCTGTGGCGTGCGGCTAGGTGGTTTGTGTTAACAGGTGGCCCGCCGAGCGTAGTGATTCAGGGTTCGCTTCGCATTTCAACAGCCGCCACATGTTGACGGTCGCCACGAGACGACGGGGATTCAGCGGAAGAGGATCAACAGATTCCAGGCTTGCTATTACTAGCTTCCCTCTATTAGCAGTCGTCTCCAAAAACTTCACGTGTAATCGGGGAGCTTCGGGAAAGCCAGCACAGAACTGGCACTTCGGAGCCGCGCACTGGATTCACTCCCGTGTATTATTTTGCACTGGGAACAGAGAAGAGCTCCTCGTGATAGTGCACCAACGCAGCTAAGATTCCGTCGGCCCAACTAGGAATCTGTATTTGGGGAGACACCGTCATTCCGCGATGCCGTAGCGTCTTGGAACGCGGGATGGTTAGGACCGGATTTGAGCCCAGTGCCGAGTACTGAGAACGGACGGCTACTCACAGATATAACGATAAACCTAGCTTTTAAGCGGGGCTTCAGGCGCAGTCACGTTGTGCAGACCTGCACCGAAGCAATCCAATAATTATTCCAAGTCTCAGCTTGGTGTCCAAGTTCATGCTTTTGGTCAAACATCGATATTTCAGCACCTCTTCAGGACCCCTCCTCTGTGATCCACTTTAAGTGCATTTCCCGTGGGGGGCTAAATTTGCTAAACCAAACAGGAACGTTGCCTTCCGGAGCAGCCTATAATCCAGCGTGACGTACCTTTATGGTGTACCAACCCGGCCAAGGGTACCAGGCTCTGGTTTCCTTAAGACATTTGGCCTGGTAACAGAACGGACCGCTTGGCTTAACGAGCGTCATCCTCAATTGCCCTATATTTTCAGAGGATATACCCGAGGAATTATCCAGAACCTCCGTTCGAACCGGGGGTTAGAGCATCAGCGAGCCGAATTGCTAAAAGAGACAGGTGGGATTGGGGCGACTCACGCCCAAGGTCGTAACGCCTTCCGGAACTTTATTCAGACCGGTGCCCGTGCGTTTTATAATTAACTTACGAAAACCTCTCAATCATAGGCCACAGTTCCCTTGCTCCGCTATAAAAAGAGCTTGCCATCGGTCTCTAACCCCGGAGGTTCTAACATCTTAGTCACTATGCTGAAATCGCTAGTAACTACAAACAGTCCGGACTCAGGGTATCAAGTCAGCGATACAGGCCCGGAGTCTATTAATATCTAAGCTCTCATGATCAGAATGTTCTGGCGAGAAGGACGCGAACGAGACGTGCGTTATGAACGGTATAAGAACAGTATAACAGCAGTAAGAGGTGAAGCATTAGGAGCTCTCTACAGATAGGGAGCTAAAAAACGGTCCAGGAGGAGACGATAAGGTTTCCAATAGCACACCTTGGATCACAAATTGATAGGTGGATCGCCCCATTCGGAACCAGCCCGGTCCAGCGCCAATATGACCTTCCCGCACGTGGCCCGGCTTCCCGTGAGTTACTAGCTGGGATGAACCCCTCGCGCCACTTTACAATGCTGCTGTTACTTCCAGAGATTTTACAAACGTTTTAACGCCTGCCATATGGCCTCTTATTGTAAAGACCCGTAGGCGATGCAAGACGGCGTACGAAGTGACGGCCGTCACATGGAATGGACTGACACCTTGTATGCTGAACTTCAGGGTTTGTACCCTGCCAAGATTAGTTCCCGCTACGAGTTTACACTAGAGAGATGATCCCGCAACCTGCCAGTATCAAGCGCCTTGACTTGGTAGGAGGCCGAGTGGTCTCGATAAGTACCTTGTTGCTCGCAAATCTTGAGCGGTGTAGACGGTACATGTTGTCCAGCCCACCTGCGGCCGAAAGTCCGAGGAAAGAAAACGCGGCAACGTCTTCACCGGAGGGCCGTGGCCGGGCCTCCTGGAGGGGGATCGTAAACTTGGATAGTATAGATCCCCGGGCCTCATGGTGCTTTGTTGCGATACCTTAGGCCGCAAGACCTGTAATTTTTCCACTCACCAAAGTCGTTTGCTACCTAGTAAGAACCCGCGACTCTGTCATAAAAAAGCCATGAGAAAGCAGTTCGCCGTTGTATTAAGACCACCCAAGCCCCCCTGCGACGGACCTCCCTAGGCATAATGGAGTCAGCGCGCTCTATACGCCCCAGTACATCAGCCGTTACCTCCCTTAGTGGCCATTTCGCTAATGCGGGTCTACTGACGAATGCAGCCAAAGGCTTTACGCGCCGCAAACTGACTATCGACGGCTGCGGAGTCAGGGCCATATAAAGAGTGCACATGCCTACAGTGATTGAGCTTTTGCCACCTCTTGACATAACGAAACTAATCGAGCCCGAACTTCAGATATCGATCGGTCTACCAGAAAGCATGTTGTGTAATTATCCAATCGTCCCTAACACTCGGCGTCCGACACAACGACCCGTAGGTATAGCACGGCTCGTGCTTTAAAATATTTGAATACTCGCGTGGAGTATTCACGCTCGGTACCAAATTATCCTATCTTAGCGACCTTGTTAGTAGAGTCAAACCGCCGCCAAGGTCGTCTGATGGGCCTCTTATAATACCATTTCGGTTATGATTTCCTTTACCGACTATCGACCCACAAACGCACTCGTGGCTTATTGGCTGTGCACCCAAGGTTATGAATGGGCAGGCCTTGACCCCAGTTCCCTGGCTCATATACATCTGCCCCGCTGTAGACAAAAGGCTCGTATCCTCCATACTTCCGTATCTATTCCGAGCTCCCTGAAACGAGGTCTCATGTACGCAGGGGTCACCGAAAACAATTGCGATCGGAGTCCGGCACGGTTACATCGTTCTCTGTGGCTGGGTACGGCAAGGTGAAGCACCCTCTAGTTAAAGTTCGGTAACGTACATGAGACCATGGATCACTGACGCGTCATATCATTCAGCGCCCACCAAACGACTCCAATGGAAGTTTGCACACCTCCTCACGGCTAATACTGGGCGTCAGTGAGCTGCGTACTTCCATCCCTTAGTTCCGGCCGCCACCCTATTTATAGTTGGACAGAAGCTTTACCTTGACAGAGAGACGCAGCGGAGAGAGAGCGGCACAATATGCCTGGTGAACGTGTGCGTTGGTTCGTATAGCATGTAAGTGCCCCGTACTCGGCATGACAATGCGTCGCGCCGACGTTCCTCACAGCAGCCTCAGAAATGGTCTGGCCATCCGTTGGAGTACCTTCAAGTAAAGCGCCTTTCGCTGCTTGTACATTATCATAGGCACTATCGTTTTACTCTCTGGGGTATTATCTTTGCAATCTAGACTACTCTGTTCCCGCTGTCAGCAATTCTACTCCACGAAGCCTTCGGGGGCCTGCAAACAAACTGGCAAGATACACTCGACGCGGTTAAACCGTACTACGACGTTGGCCTAAAGGGTAATCGTTGAGTGGTACGACCTTCCGCTGGCACCACGCACCGTTGCTTGGGAAGGGGCAGATTAGGACTCTCGCTAATTGTCCCCATCGCGAGCTAGAATTCTTCCTACTACACTCACACTTATTGCCTCGACCGACCAACTCTTAGATTTCTACAGCGGTTGCCGATACAAGCCATTAATATCGTCGTACTGCTTGGCGTTATGAACTACACGACCAACTCCATTATTATCTAAATGCACGTCCCCGACTTTGCCACTACACGGTCCAGAAGTGCATAATGCCAGAAGCCCACAACTGGTAATCTGTCAAGGATCTCTTAGCGTCACCGGCATTCGTACGCTCCAACGTGTTGCTAATTTGACATAGTGGCCGAGGTCATCAGGAGTCGCGGCTTTAACACGGGTTCGTTCTCGCATCAGTAAGCGTTCGGGGTTTTCCTCTCGTAGGATCTAGTATATGATTACCGGAAGAAGCTAAGGTATTTCATAACGGTCTACCTGACGTTATGTCTGTCGGGGATTTACCGTTCAATCATGTAGCTTAGTCACAGGGCTCGAACTTTTGGGCTTGAGAGAAACGTCCAGCAGACCATGTGGAGCCGGCAGAATCCTTTGGCCTTCATCATTCACCTTCACCGTGACTATCCCTGGTATTGTCTAAGGCAACGCTTTCACACTATGTCGTCATTACGCTACTGTCCCTTGTCAGATTCTAAATCTGATCTAAGGGTACGACAATCATTAGGATATTTTGCTTCGCCACAGGTGTCTCAGTTTAACTCAGGCAATTATAACCATTTGCGGTTGCCCTGGCACGGACATAGCCCTCTCTTTTGCCCGGGGCAGGGGTGCGGGTGCAAACGCGAAGGCAGCTCACGAAATATTATGATCGGGCGAAGAGCGCACCAGACTTTGCGCATACCTGGGACATCCCGTCCGGCATTGTCTCTCATTCGGTTGACACCCGACAACGAGTGGTTTGCCGGCTCTCGTGAACTGGAGGCGCGAGACTGTGTTACCCTCTGCAAATTGTACCATCCGGCCTTAGAAGGTAGGCGCATATGTCCGCACCGTTCGACACAGGAACTACGTGTTCTGGTTAGGCACCCCCGCTCACCGGGCGAGAACGCACTCATGCAGCTTAAGGGGTTACGGAACACGCTTAGTATTGATAGGCTAATGCAACCCGTCGTATTAGAGGACCTTAAGATGACTCTCTGTCTTAAAAATAGGGGCGCCAATTAGTCTCGAGAAGGTTACCTGCGCTTGATCACATCTCTGGCTCCCTAAACAGGACTGCACAAACGGGCGTCGTGGAGACCAATCATTACAGTTGGGTAGTAGCTAACTGCTCACGCTGCACATGTCTCTATACCGCCGGGTCACGGCTCCATCGGTGGAGACGAGTGAATAATGTCGATGAAGGTATTGGGAGCGTGATTTATCAGGGAGAGCCCCACATTACCAACGATGTATTGCCGTAATACGTAAGCCTCTGGCTACCGTGGTTAGTCACTTCCTGCTTGAATTCACTCAGATCTAGCCAGGCCAGGGCTGTGTAACGAGAGGGTGTCCCGTGATCCGGTCTCATGGTCTACTGTTAGATGGATTGGTTTGTCATTTGATAATAATAGGTGAATGAAGGAAGGAGTCGCGCCTGGTGATTGATATGGTATAGAAGTATAATCCACCCGGCTACAAATTCCAGGTCCCGAAATGCGTAATGGTTCGCCTCGAACCCGTGCTCCGCGTTGATGATGAAGGGAGAAGGCCTTCGAATTCGTGAGGTAAGGCTGCCGGTTTTCTGAGGCCCGTAGTGTGATACCCCCGTGTTCAGCCCGATGTACCTGTGGACCGCTGAAGCAGAGAAACCCGCGGACGTGAGACGAGCTAACGCTAGTGAACGACTCGAGCCCGATCGTAGGAGATGATAGGTGGGTAGAGATGCTAATAAGTATACAAGGTGAGATTGTGATGATGATAGCTTACTACAAGGGCCGAACCCCTCTGTATTAACAACACACGGACGTATTGCACGTATGTATGCAGGTCAAGCTAGATAAGCGGGGGATCCAGTTGTGTACTCTAATGATCACGGCTCGGAGATTAAGGTATACACCGCTTCACGATTTTCGTGGTACCCGTCCTGGATACCCGCCCATAGCGGGCCCATACACCACTACGCTGTCAGTCAGACAGCTTATCCGAGAATAAAAACGATATCCCAAAAAGCCACGTGATTATGCCCGTATGTATGGAGTTTCTAGGGCTCTCGTCAGCGAATTGAATCCTCTTCCGAGTTCCGCTGCCTAAGATAATGTCATGGATCTATATGTCCACCGGTCCGTGAAAAGCCCAGAGTCTACTCTCTTCGCCGGGAAAGGTTTTTCATACAATTCATCAAGGAGCGGAACCACGTGACAAGATTGCTGTGGGAGGACCGGTATATGAGCCCAAACGTGCCCGCGATCTTCGATCGCAGGTGTAGCTTGTAAGTACCGGCGTGCAGTGAACTCCAGAACGCCGACTAGAGTTAGAGCTCTTTAAAAAACAGCTTGTGCTATAATACAGGTAACTCGTATGGCAGGCATCTATGGAGGCAGATATGAGTGATGGTGAGACCATGTCTTCGTGACCTTTAAGTCCGGTTAGGGGTTTCCTCTTTGAGCTGAGGCTAGACTTACGGCACCTTACTACGTTATGCAGACCCGGGTTACTTACACAGGTACTCTCCACATACTGTTTACCAGAGATCAAACGGCGCTGCCGACAGCGAAGCAGCAAGCTCGTTTCAGGTCAGCCTGTCCTGGATAAGCTCTCAGTATGAGGGCAATACCGACCCAAGTGCGAGGAACTTTCTTCCCGCGCGACATGCTTAGATACTTGGCCCGGCTTATGACCGCTGAGCACCGTTTAACCGGGTAAGATACCACTTTGACGGGGGCGGGATATCTCCGCACCCAGTATGGCAGAACGTCCAGTTAAGCCCTTTCATCGGCTACAGAACTCCGGAACAGAGATGCATTACGTGTAGTCTTTTCATGCGAGACTTATCTCTTAGCAAACTCATGTCTATGCCACGACCTTAGAGGCCACGAGGCGATCCTGCTCCGACAGCCCAGGGCTTACGCGAGTAGTAAGGGCGTCCGTCCCGTGGAGTTAGCCATACTTATCAGACGGTTCTAGGATCATCCCAAAGACAGGTGAAATTTCATGACGCTGCTCGTGCAAAAGTATTATCACCCCAGCTTCCGGCTTTCCACCTCCTCCTTTATCGTATAAAACATCTCTATGCGAACACTGGGTACTAGGCAGGTTCCGAGGCACACTACTCGCTACCCGTGCATACTTGGACGAAGTTCCTTTGTGACAACCCCCCCTGGTATCTCAAATGTGGGACGTTTGGACCAGGGCTGGGAGAATTTCCGCGACCTACTTTCTTGTGACTGATCAACCCATGACGCGTGTTGACCTGATGAGGCACACGACGCGTCTGTCTGCGGCTAAGGCGTGAATCGAGACGAGCGTCGACGAGCCCGTCACATAGCGAAGCTGCAGCCTATGTTTTCGACCTTCCGCAGGGGCGATGGGCCGAAGTACAACATGGTATAGTAGCAGGGGTGAGCGTGTCATCTGGCACACCTGGAGGGTTCTTTTCGTTGTCGTTTGACTCGGTCAGGCTCAAGGCTCGCTTGTTCACCTCAGCCGCACCGCCGTGACCTTTCGTTTTGGCCAAAGGTTGTCGAGCCCACACGTGTCCTTATCTAACACTTATGTGCGATGAACGACATTTCACACTGCTGGTTTCGCCCTAGCACGCCTTCTCAGTACCTTTAGAGAAGGTCCCCCTTGACAGAGGTCGCGGCCAAGGGACCCGACGCAACTGTTGAGTGTCAAGCCTCTGAAGACCCAACCTTACTATACCGTTCGTCGTAGGATTTGAGGGAATGAAATGGGAAAAGAAGAGTGACAGAGACCGTCGATCAACCTAAACAGTTCCTTGGCATTCCGATATTTCACCCGATGAAGCTTAAGCGAGCTGATGAATGATTCTAAGAAAGTAAACAGTGTCCCCAGTCTCGCCGCGCCACCTATCTAGACAGGGGTAGAAAGAAACACGAAATTCCACTGTCCTACTTCTTTCGCACTGGCTTCCATGGGACCGTAGGTCAGGATCTTCTAACAACGACAACCTGGATAGTCGCCAATGATATTTTTCCCAGTCCAATTTTGTGTTCATTCTCTTTGTCTGCTGGCCGGAAGTCCATGATCGGAGAGGTAATACGGGAGAGTGTGTCCCACCCCACAAATTGAACGAGCGATGCCCCAAGGCCTAAAGTGGCTCCCATCTCATATCATGACATCTGACGGTGGTGGCAAGAAGCAGTACCCATACATCACACGCGCCACGACTATTTAAGTAATAGTGGCTCGAATAGTAGATTGCATCTGGTTTGGATTCTCTTCCTGTATACAAAGTCAAATCCCGCAAATTCGGGTGTGTATGAAACGAATAGGCACCACCTGAATATTAGCGACGAGAGGCTGACCGGGTCCACTAGCTATGCTCCGATGTTACTGAGCAGAATATAGAAACTATCGAGTAGTTTCATGTCTGTGACGGCCGCGACGAGGATCGCATATGACATAATGCTCTGTCTCTGATGAGACTCGATTTAGCGCCCGCCGAACGATTTACGGGCTGGACAGATATGGGCAGACATACGAGCAGTGTTGACCTATTACTGAGGGTGTTCCTTTAGCTGGCACAGGGAGCTCATTGGACGCTGCTCGCATTTGAAGGAGTTCTCTGGGAACTTTGGCGTTCGAGCCATGCCCCGCGTCAAAATCTAAATAATTGAACGGGATCCTTCATGATTTGGCGCTAGTCACCAGACGATGTGGCCACTAAGAGGTGAACCCCAATGAGGGGGTCCGCCTTTGGGGGGGTAATGGGCTCAACTTCACAGGCGTAAGTTTGGGTTAATCAGGCAGAAAGAAGTCCTGAAAGGTTAATGCGGCACTTGCGAGAGAGCAAAGAAGCATGGAGCTCCACATGACCTATAAGTGTACTGTTCCACTGGCTGCAACGGGCCTCGTATGGTAACAGCTCACTGTTTATGCGTTACCATCGGCAAGGGCTTCGGAGTGTTAACTTTGGGACTTCATGTATCAATTCGCCCGGCTACCTGAGTTTTGTCCGGGCAATGTTTCCGTCCCTGGGCGACGGTCGGGGGGCCAAGTACAGTCTACTTGATATTCGGCTCTTATTAGAACGTGTGTGCGTGGTAGACGACGTGCAACAGTGGCTAGTTCGGACGTAGGTCAGGGTGCCATCTCGCGGGTCCCTCAGCTTGCTGTGTCGTAATAAAGTTGTGACAACGTATTGTATTCACGGACCTGGATGCCCAAAGATCAAGCGACTTCTCCTAAAAACTCGTGTTAGAGTAAGGCTACATGGGTACTCCTCCCACCCGGATCCTATATGATGCAAGCATCCTCAATCGTCATAAAGGACCTAGGGAGTTCACACGTGTGGCCGGTCCATAGTCCGCTGTCCGATCGCGCCCCGGCGCGACTTTTTAGGTTCAGTTCGTTGCACTGACGTACAATCATGGGGGGCAGATCTATGGGTGCTGTTTCATAAATACTTAGCGACTACATCCGCTTTGGGGCCGTCGCTTGGAGTGACGTACATGACGCATATAGGTACGGATACGCGCATGCCGGTTAGACCACTCTTTTGTTTGGACTTGGGGTTCACGGGAAGGTGATCAGTGAGTAGACTGCCCTTTTCAATCAGTAGCTGTTCGCTGAAGATCGTCTGACGCGCTATAGCGATCGCGATTAGGGACCGCACGCATAGCTACTCCAACACGTCCCGCGCTTAGACATATGTTACCGGAGCGGGCCCCATATTAAGCTGTTCCTGCACCGGCAGGACGGATTTACCTGATGCTACCTTCTCGATTTTGTCGCCAAGTAACTATAATTCAGAGTTGGGCGCAGAGCAGCGGTCCTCACGGAGGAGGATGGTCCCCCCAGGGAATGCATCTTCGAAGCGCTAACTCCTGCTTCGGTACATAAGGGCGTCTCTCGCCCTGGGTGGTCCGCAATGTGAGCACACTAATAGTATCTGAGGCGCTTGTCGTTCTTTAGATTTCTAATTTATCCTCTTATCCGTGCCACCTATAATATCCGGCGCATTCATCGGGAGATCACCATACGGAAATAGAAGAAGTTTCGTGACCCGTCCCCGTCGCGGGCTGCAGCAAGTATGCATAGATCATGACACGGTCCACAAACCGCGAGTAAACTGGTCGGTTCAGTTCTACGGCTTGGCCCTTATGGGTCACATCTCAAATCTTTCGGCGCGCGGTGGGAAGATATTGCCCAGCCGCACCTGAATGTGGGGGTAGCCCCTGATTTCCGCTATCGATGATTAATTCAAAGCAACAACGAACAAGGGACTATGCGGGCGCCCGTCTCCTGTCTTCTATCGTGCCTACCCCGTCTACAGAGGAACCTTGTTACGCGGCGCGCGAGACAATGGCACGTGTCGACAAATGTCCGTATATGTGGCAGACGAGGTGGAGGAGCGATACTAAACACTGCGGTTCCCTCCTCCTCGGATAGCCGGACTCTGAACTGGACGTTCGAGTCAAATAAGTTAAGCATTACATAGGGCATCGCTTCATATGCGCCGTCAAGATTCCAGCTAAAGCACTCGTCACCAAGAACACGTATTGAGTAGCAGTCATTGCTGTACCGACATACTCGTGCCGAAGATCGGTCGATACTCACCCTTTATTAGCGGCATAGCTTCGGGCAATTACTAGATATCCTCGTTGACGGGGTCATGGTGGAGTAGTGCTGAGCGGAATTGGAAGTTATGCTAACCACCTACTTAAATGGACGTTGGACTAGGGGAGGACACCTTTGGAACTGAATTTCGCCACTACTTGAATCAATGAGCGCTATCCACCCTGGATTTGGAAACAGATAGATTCTTCCCAGACAGAATGTACTACATGAGGAGGCTGGTGCATCTATGCCCTGTTGAGGTATAGGTCCTCTACCTAACTCAAGGTTTGTATCTGACGCCCTCCCAACGGTACGGCAGGAGTCAAGACTCAGGGACCAAAGTGTTCCAACCAGACGCCCTCTAGATCGCAACTCCAGCTTGGCGACTGGGCTGGCGAGTCCCACGTTATAGAATGGGTTCAGGTGCGACTAACGGCCGCAGACGTATGTATGAATCATTCTCAATGTGGTGTGGCAACGCAGCCAAACAGCTAGCAATATTTTTCTTTATGGGGACAGTTCAATGCTGGTGCGCCATCGTCAGTGGTCATAAGCACAGGGAATCGACACATTCCGGCTCAAAATATTTAATGCTGCTCCCCTGAGAGATGCGTGCTCCGCAGCTCATCGTTAGCGGTGATTAGGTCAGCAGGAATGGGGGAGCCCCTGGTGTATGCGAAAAGTGTGGGGCCCCCTAGATTGGACGGTGAGCGAGATGCGCGCAGATGCTATAGCTCCAACGTGCGCTAAACTCCCAGGCGACTAGGCCGTTACGCAACGCAAACGGGGTCGGAATCTTCGTAGGGTTTCATTCCTCCAGTGCAAAATAAATACACCCGACTGGCGGCCATGTTCGTGACTTTAGCGAGATGTAATATGGGACCCTGGACCATTTTAGTCCCCGGTTGTCTGGATGCCTGGGTGAGTGCGACGCCCTACACACCCAAAAAGGGGAGAACTGCTAGCAGACTCAGTTAACCTTGCCGTCCTCGGCAGCTTGGTTTGTTCAACCCTGCTTGAGTCGTCCTTCGGTGTAATGGGCGGGTGTTCCCGACCGCGAGTTTTTTTTAGCCCTGGTGCCGTACTGCTTTGGGAAATAGTATTTGAACATAGCACCCGCTGTGTGTATGATAACTGAGAAGGTGACCCGTTAGAGTCTGCATGACGATCCGTCGTTAGACCTGATCTCGGTTATCAGGTCGCCAGTCGTCACTTCGTAGGATGTAACCGAGCCTGACAGTCTGAGAACACCACTTCATGCTTCATTTGTTTTCTAGTTTATAACGGGCAAGCTGGATGGCCATTTGATGATACACTGGGGATCGATGTATTGAGCGCACAACCCACACTCGCAGCTATTATTGATCTGTCAGTTACCCGCCGAGTTATGGGCTGGAGGGTGACATATATCTTACATGGTCTACGCCGACTAATACGCACTTTAGGTGCGGTATCCAGTCGTACAGTTTGTACCGCCAGGATGCATATCTACCATAGTATCTAATGTCGGGACTGAACATTTAGAAATCTAAGGCACTTTCCCGATATACCTTCTAACATACGTCTGCCAGGCGCAACCATCTTGGAAGGCGAGCGAAGAAACTTGGCCTGATGTCATATATTACTACCCGGGGGGGACTTGAATGTACCACGTCAATAGCTGCGAATCCCCCGCATTGCCATGCTGGTCCGGTGACGATCACAATGTTAAAGGCTGTCTGGGAGATACTAATTATCTTTCAAAGAATTGATATGGGAGGCCGCGACTCCTCAGACTGAACCAGAACAAGATAACTAATATCTCATCTAGTGCGCTAGAAAGACGCTTGTGTCACGCCAAAATAGGGCGATGACCCGAAAGGGCCTAAATCCACCTACTCATATATTACCCTCCGACTGTGAGAAGGCTTCGGAGTTATTTGCAACGCAATAGAGTACGCAGTCGACAGGGGGACTGAACCCTGGTATTTCATATTGCCGAGGGGTATTACTGAGCGGGGACACGATGGTTATTAGGTCTACGGCCTCTGCAACACGGGGGCCGTGCAAAAGCTAAAACCTCCTGATGCTATTGCGTGAGGTACTTTTTCGCAGATACTCGCGCCTATCGACGTAGCATTACTGGTTCGGCCAGCCTACGATCTCGGCAAGAATTAATGTGGTTGTATGATGTGGCACGGGTTTCAAATGCCTTGCAACCGCCTCGGACGAGTGATCGTAGGACATAGGGTTAACGACCCACCAGTTCCTCCGTCCGCAACATAGTGTTGATATCTGTTCTGGACTTCGGAGAGGCACGGAGCGCGCGCTGTGCCCCCGGAGAACCACAAATCTAATTCCTTTCAAGCATTCCTTTGGACCTCTCCGGGAAAATATAACCGTAGGTGCTCTAGTCTTGCGATGGGGATTAATCGACATCTCGTGATTTCAAGGTCTCATGCGATGGTTACTTTCTCTAGCCGTTCATAGCTGAGCGCCAGCGGTAAGGTAAGCACGAGCTCATGCACAGCTGTTCGGTATGGCCCGGCACTCAGCGAGGCTTTTCTAGTCGGATCGGTATGGTGCGAAAGGCATCTCCCATGTTAGTTATGTTTAAACGTGCAAGTTTAGCGTACACGCTTATCACTCGCCGCGGACGGATGATGCTCGTAACTGACCAGATGCCCAATCCGATAGTAACTATAAGTGGAAAGCCGCTGTGCACTCGGGGTGTAGCGCTCAAGAATCAGGTCGCTCGCTACCATTATTTGGGGCAGAGTTTTGGACCTGTCAATGGAATTACATTGTAGTTTTAACGTGCAATCCATCCTGCCATAGCCGCGCTGGGGCTTAAGTCATACATTAGCTTGTGTTCTCGGGGCTCGATCCAAGGCTGCGTAGTCTCAAGGTTAGTTACAGTGTGGTTTCATCTTCTGTAGCTGCGCCCGGAAGACCGCAGGAATTTTCGCGGTGCTGCAAAGGGAGGAAGAATTGATGCGATTTAAGACATTTGCTAGGCGTTATTTGAGGCTAAGGTCGCGCCTCCGACGGAGGATAAAGATGGTGCACAGTTGAAGGAAAGGAGATGAAGCAGGGGTAGTACTGAGCTTCGATTTCGCTAGTTCTAGTGAGGCAAGCCTGAGGATTCCTTTTCCTTAACAGCTTTTCCACGCAGCCAGAATTTCGCCACAATTGTGTTTACAACTCACGTTCGTCGAGAGAACCTCATACATCTAGAGCTCGCCTATAAACCGCTGTCGATGCAGTAGCACTCACAACAAAAGACTGAAGTTGGCGGTGGGTAAAATCCGTTGCGTACTGTGTGCGATGTCGCGGGGGCTAGAAACTATAACAGCGTACGTTTGCGACCGAAAAGATGACTCACCACCTGCGGAATAATCTCCGTACTGGACGCATGATCAAGGGCATTGTGCAAATTGCTTTCGCCATCGAGGCTAACCACGTACCCACGGTTACCTACATGATCAAAGACCGAGATCCAATAGGCTGGTTACCGTCCGAGCTGCCGCCATAGAAGCTTTGACATTTAAATAGCTACGAGTGGGTATTGTGAATCTCGTAACTTACGGGACACAAAAGCTGCCTGACGGACGTAGAGCTCATAAAGGAGACCGGATGATCTATAGTGGTTGACGAGCCTTATCACGACCGCATTTATGAGATCGCAGGTTATATCAGTCCCTGCACCGAGTTTTCATGCACAAGGGGACCCCACGGCTGCGACAGACCCTAGAGTATGTAAAGAGTACGGAGTTTGTCGCACCTTGGGATAACGAGTACGAGGAGTCGCACGTCTGTAGTGAAACCTTACGTCCTACTTTTTTTGCCAGCGGAACCCTATTTCCCACAGTATCGCTATTAATTTCGTTCCAGCCCCCGACCCTCGAGAATTTTAGTCGGTCATGTGGGCGAAGGTCGTGAGACAAACGTCGTTGCCAAGTTCCAGCCGGGTATGTGCTTTCAGGCGTGGTTCAGAGGCAAATTGTAAGACGGCCTCCCCTGGCATACGACGGCACATTACGCCGTGCATATATTCCGTTAACAGTGTCCAAGACGCAGGTTCCAGGGGGCTGGCTGCAAGTTCATAACGGCAGACGACTATGGGTGAGAGGAGGCGGTACAGACTGCGCCTACCTAAAACCTTGTTTCCAGTCAGCTATATTGTGTTGTCGTTAAGAAATCAAGATATGAGTGGTTCGCCAGACATACTCAGTATCATCACCGTGAGTAGCGGTGGGACCAACGCTACCTGGAACACAGGAATGAGGCGTCAGAGTTTGAGTGGGCGCGCTGAATCTCAGTCGAGCATCCCGCCCACCTGCGTCCTTGTTACCATTGGAGGATAAAAGGTCATAGGTTAGGAGTAGATACGGACTCCGGGCTTGTCTTGGATCCGATGTTCAGTTGACCCCACGAGCCATGTGGTTACGCATGTCGAGCAGAGCGCCTATCGAAAGGACTACCGTGAGTAACGGCGCAGCCGACTCAGAAATCGGCGTCTCATTGGATTATCGCGCTCTACAGCGATAGGGCACAGGATAACAAGACGCTCCACAGGCTGGTGGCGCATACGGCTGTATAAAGGGACCGTTCAGGAGAGAAGAGGTGCAG'"
      ]
     },
     "execution_count": 33,
     "metadata": {},
     "output_type": "execute_result"
    }
   ],
   "source": [
    "allele1_information_parent"
   ]
  },
  {
   "cell_type": "code",
   "execution_count": 34,
   "metadata": {},
   "outputs": [
    {
     "data": {
      "text/plain": [
       "39108"
      ]
     },
     "execution_count": 34,
     "metadata": {},
     "output_type": "execute_result"
    }
   ],
   "source": [
    "len(allele1_information_parent)"
   ]
  },
  {
   "cell_type": "code",
   "execution_count": 35,
   "metadata": {},
   "outputs": [],
   "source": [
    "allele2_information_parent = raw_df_parent['Allele2'][0]"
   ]
  },
  {
   "cell_type": "code",
   "execution_count": 36,
   "metadata": {},
   "outputs": [
    {
     "data": {
      "text/plain": [
       "39108"
      ]
     },
     "execution_count": 36,
     "metadata": {},
     "output_type": "execute_result"
    }
   ],
   "source": [
    "len(allele2_information_parent)"
   ]
  },
  {
   "cell_type": "code",
   "execution_count": 37,
   "metadata": {},
   "outputs": [
    {
     "data": {
      "text/html": [
       "<div>\n",
       "<style scoped>\n",
       "    .dataframe tbody tr th:only-of-type {\n",
       "        vertical-align: middle;\n",
       "    }\n",
       "\n",
       "    .dataframe tbody tr th {\n",
       "        vertical-align: top;\n",
       "    }\n",
       "\n",
       "    .dataframe thead th {\n",
       "        text-align: right;\n",
       "    }\n",
       "</style>\n",
       "<table border=\"1\" class=\"dataframe\">\n",
       "  <thead>\n",
       "    <tr style=\"text-align: right;\">\n",
       "      <th></th>\n",
       "      <th>Name</th>\n",
       "      <th>Gender</th>\n",
       "      <th>ParentM</th>\n",
       "      <th>ParentF</th>\n",
       "      <th>EthA</th>\n",
       "      <th>EthE</th>\n",
       "      <th>EthK</th>\n",
       "      <th>EthP</th>\n",
       "      <th>Allele1</th>\n",
       "      <th>Allele2</th>\n",
       "    </tr>\n",
       "  </thead>\n",
       "  <tbody>\n",
       "    <tr>\n",
       "      <th>13904</th>\n",
       "      <td>A13904</td>\n",
       "      <td>F</td>\n",
       "      <td>Na</td>\n",
       "      <td>Na</td>\n",
       "      <td>1</td>\n",
       "      <td>0</td>\n",
       "      <td>0</td>\n",
       "      <td>0</td>\n",
       "      <td>CTCCGTCGACGCTTTAGGGACATAGATGGGAGCTCTGACTCCCGTG...</td>\n",
       "      <td>CTCCGTCGACGCTTTAGGGACATAGATGGGAGCTCTGATTCCCGTG...</td>\n",
       "    </tr>\n",
       "  </tbody>\n",
       "</table>\n",
       "</div>"
      ],
      "text/plain": [
       "         Name Gender ParentM ParentF  EthA  EthE  EthK  EthP  \\\n",
       "13904  A13904      F      Na      Na     1     0     0     0   \n",
       "\n",
       "                                                 Allele1  \\\n",
       "13904  CTCCGTCGACGCTTTAGGGACATAGATGGGAGCTCTGACTCCCGTG...   \n",
       "\n",
       "                                                 Allele2  \n",
       "13904  CTCCGTCGACGCTTTAGGGACATAGATGGGAGCTCTGATTCCCGTG...  "
      ]
     },
     "execution_count": 37,
     "metadata": {},
     "output_type": "execute_result"
    }
   ],
   "source": [
    "raw_df_parent [raw_df_parent['Name'] == 'A13904']"
   ]
  }
 ],
 "metadata": {
  "kernelspec": {
   "display_name": "base",
   "language": "python",
   "name": "python3"
  },
  "language_info": {
   "codemirror_mode": {
    "name": "ipython",
    "version": 3
   },
   "file_extension": ".py",
   "mimetype": "text/x-python",
   "name": "python",
   "nbconvert_exporter": "python",
   "pygments_lexer": "ipython3",
   "version": "3.9.13"
  }
 },
 "nbformat": 4,
 "nbformat_minor": 2
}
