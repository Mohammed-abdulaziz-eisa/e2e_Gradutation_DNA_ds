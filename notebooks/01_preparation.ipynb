{
 "cells": [
  {
   "cell_type": "markdown",
   "metadata": {},
   "source": [
    "# <center> Data Preparation </center>\n",
    "## <center> Step 1 <center>"
   ]
  },
  {
   "cell_type": "markdown",
   "metadata": {},
   "source": [
    "------"
   ]
  },
  {
   "cell_type": "code",
   "execution_count": 13,
   "metadata": {},
   "outputs": [],
   "source": [
    "# Constants\n",
    "DATA_PATH_CHILD  = '../data/raw/G2000_data.csv'\n",
    "DATA_PATH_PARENT = '../data/raw/EthA_data.csv'\n",
    "EXPORT_PATH = '../data/processed/1_first_processed_merged_df.pkl'"
   ]
  },
  {
   "cell_type": "code",
   "execution_count": 14,
   "metadata": {},
   "outputs": [],
   "source": [
    "import pandas as pd "
   ]
  },
  {
   "cell_type": "code",
   "execution_count": 15,
   "metadata": {},
   "outputs": [],
   "source": [
    "raw_df_child = pd.read_csv(DATA_PATH_CHILD)"
   ]
  },
  {
   "cell_type": "code",
   "execution_count": 16,
   "metadata": {},
   "outputs": [],
   "source": [
    "df_child = raw_df_child.copy()"
   ]
  },
  {
   "cell_type": "code",
   "execution_count": 17,
   "metadata": {},
   "outputs": [],
   "source": [
    "raw_df_parent = pd.read_csv(DATA_PATH_PARENT)"
   ]
  },
  {
   "cell_type": "code",
   "execution_count": 18,
   "metadata": {},
   "outputs": [],
   "source": [
    "df_parent = raw_df_parent.copy()"
   ]
  },
  {
   "cell_type": "markdown",
   "metadata": {},
   "source": [
    "-----"
   ]
  },
  {
   "cell_type": "markdown",
   "metadata": {},
   "source": [
    "<center> - Creating a new column in the DataFrame and assigning values based on concatenating the values from two existing columns <center>"
   ]
  },
  {
   "cell_type": "markdown",
   "metadata": {},
   "source": [
    "<center>** full sequence of alleles **</center>"
   ]
  },
  {
   "cell_type": "markdown",
   "metadata": {},
   "source": [
    "-----"
   ]
  },
  {
   "cell_type": "markdown",
   "metadata": {},
   "source": [
    "## For child"
   ]
  },
  {
   "cell_type": "code",
   "execution_count": 19,
   "metadata": {},
   "outputs": [
    {
     "data": {
      "text/html": [
       "<div>\n",
       "<style scoped>\n",
       "    .dataframe tbody tr th:only-of-type {\n",
       "        vertical-align: middle;\n",
       "    }\n",
       "\n",
       "    .dataframe tbody tr th {\n",
       "        vertical-align: top;\n",
       "    }\n",
       "\n",
       "    .dataframe thead th {\n",
       "        text-align: right;\n",
       "    }\n",
       "</style>\n",
       "<table border=\"1\" class=\"dataframe\">\n",
       "  <thead>\n",
       "    <tr style=\"text-align: right;\">\n",
       "      <th></th>\n",
       "      <th>Name</th>\n",
       "      <th>Gender</th>\n",
       "      <th>ParentM</th>\n",
       "      <th>ParentF</th>\n",
       "      <th>EthA</th>\n",
       "      <th>EthE</th>\n",
       "      <th>EthK</th>\n",
       "      <th>EthP</th>\n",
       "      <th>Allele1</th>\n",
       "      <th>Allele2</th>\n",
       "    </tr>\n",
       "  </thead>\n",
       "  <tbody>\n",
       "    <tr>\n",
       "      <th>6178</th>\n",
       "      <td>G20006178</td>\n",
       "      <td>M</td>\n",
       "      <td>A6830</td>\n",
       "      <td>A13812</td>\n",
       "      <td>1.0</td>\n",
       "      <td>0.0</td>\n",
       "      <td>0.0</td>\n",
       "      <td>0.0</td>\n",
       "      <td>CTCCGTCGACGCTTTAGGGACATAGATGGGAGCTCTGATTCCCGTG...</td>\n",
       "      <td>CTCCGTCGACGCTTTAGGGACATAGATGGGAGCTCTGATTCCCGTG...</td>\n",
       "    </tr>\n",
       "    <tr>\n",
       "      <th>11232</th>\n",
       "      <td>G200011232</td>\n",
       "      <td>M</td>\n",
       "      <td>A2577</td>\n",
       "      <td>A4723</td>\n",
       "      <td>1.0</td>\n",
       "      <td>0.0</td>\n",
       "      <td>0.0</td>\n",
       "      <td>0.0</td>\n",
       "      <td>CTCCGTCGACGCTTTAGGGACATAGATGGGAGCTCTGATTCCCGTG...</td>\n",
       "      <td>CTCCGTCGACGCTTTAGGGACATAGATGGGAGCTCTGATTCCCGTG...</td>\n",
       "    </tr>\n",
       "    <tr>\n",
       "      <th>726</th>\n",
       "      <td>G2000726</td>\n",
       "      <td>M</td>\n",
       "      <td>A12918</td>\n",
       "      <td>A9232</td>\n",
       "      <td>1.0</td>\n",
       "      <td>0.0</td>\n",
       "      <td>0.0</td>\n",
       "      <td>0.0</td>\n",
       "      <td>CTCCGTCGACGCTTTAGGGACATAGATGGGAGCTCTGATTCCCGTG...</td>\n",
       "      <td>CTCCGTCGACGCTTTAGGGACATAGATGGGAGCTCTGATTCCCGTG...</td>\n",
       "    </tr>\n",
       "  </tbody>\n",
       "</table>\n",
       "</div>"
      ],
      "text/plain": [
       "             Name Gender ParentM ParentF  EthA  EthE  EthK  EthP  \\\n",
       "6178    G20006178      M   A6830  A13812   1.0   0.0   0.0   0.0   \n",
       "11232  G200011232      M   A2577   A4723   1.0   0.0   0.0   0.0   \n",
       "726      G2000726      M  A12918   A9232   1.0   0.0   0.0   0.0   \n",
       "\n",
       "                                                 Allele1  \\\n",
       "6178   CTCCGTCGACGCTTTAGGGACATAGATGGGAGCTCTGATTCCCGTG...   \n",
       "11232  CTCCGTCGACGCTTTAGGGACATAGATGGGAGCTCTGATTCCCGTG...   \n",
       "726    CTCCGTCGACGCTTTAGGGACATAGATGGGAGCTCTGATTCCCGTG...   \n",
       "\n",
       "                                                 Allele2  \n",
       "6178   CTCCGTCGACGCTTTAGGGACATAGATGGGAGCTCTGATTCCCGTG...  \n",
       "11232  CTCCGTCGACGCTTTAGGGACATAGATGGGAGCTCTGATTCCCGTG...  \n",
       "726    CTCCGTCGACGCTTTAGGGACATAGATGGGAGCTCTGATTCCCGTG...  "
      ]
     },
     "execution_count": 19,
     "metadata": {},
     "output_type": "execute_result"
    }
   ],
   "source": [
    "df_child.sample(3)"
   ]
  },
  {
   "cell_type": "markdown",
   "metadata": {},
   "source": [
    "- length of the sequence before applying the function to take the first 1000 bases of the sequence from allele 1"
   ]
  },
  {
   "cell_type": "code",
   "execution_count": 20,
   "metadata": {},
   "outputs": [
    {
     "data": {
      "text/plain": [
       "39108"
      ]
     },
     "execution_count": 20,
     "metadata": {},
     "output_type": "execute_result"
    }
   ],
   "source": [
    "# Check the length of the sequence before truncating to 1000 bases\n",
    "len(df_child['Allele1'].iloc[0])"
   ]
  },
  {
   "cell_type": "code",
   "execution_count": 21,
   "metadata": {},
   "outputs": [],
   "source": [
    "# Truncate Allele sequences to the first 1000 bases and concatenate\n",
    "df_child['Allele1'] = df_child['Allele1'].apply(lambda x : ''.join(x[:1000]))\n",
    "df_child['Allele2'] = df_child['Allele2'].apply(lambda x : ''.join(x[:1000]))\n",
    "df_child['Full_seq_dna_child']= df_child['Allele1'] + df_child['Allele2']"
   ]
  },
  {
   "cell_type": "markdown",
   "metadata": {},
   "source": [
    "- length of the sequence after applying the function to take the first 1000 bases of the sequence"
   ]
  },
  {
   "cell_type": "code",
   "execution_count": 22,
   "metadata": {},
   "outputs": [
    {
     "data": {
      "text/plain": [
       "1000"
      ]
     },
     "execution_count": 22,
     "metadata": {},
     "output_type": "execute_result"
    }
   ],
   "source": [
    "len(df_child['Allele1'].iloc[0])"
   ]
  },
  {
   "cell_type": "code",
   "execution_count": 23,
   "metadata": {},
   "outputs": [
    {
     "data": {
      "text/html": [
       "<div>\n",
       "<style scoped>\n",
       "    .dataframe tbody tr th:only-of-type {\n",
       "        vertical-align: middle;\n",
       "    }\n",
       "\n",
       "    .dataframe tbody tr th {\n",
       "        vertical-align: top;\n",
       "    }\n",
       "\n",
       "    .dataframe thead th {\n",
       "        text-align: right;\n",
       "    }\n",
       "</style>\n",
       "<table border=\"1\" class=\"dataframe\">\n",
       "  <thead>\n",
       "    <tr style=\"text-align: right;\">\n",
       "      <th></th>\n",
       "      <th>Name</th>\n",
       "      <th>Gender</th>\n",
       "      <th>ParentM</th>\n",
       "      <th>ParentF</th>\n",
       "      <th>EthA</th>\n",
       "      <th>EthE</th>\n",
       "      <th>EthK</th>\n",
       "      <th>EthP</th>\n",
       "      <th>Allele1</th>\n",
       "      <th>Allele2</th>\n",
       "      <th>Full_seq_dna_child</th>\n",
       "    </tr>\n",
       "  </thead>\n",
       "  <tbody>\n",
       "    <tr>\n",
       "      <th>0</th>\n",
       "      <td>G20000</td>\n",
       "      <td>M</td>\n",
       "      <td>A13244</td>\n",
       "      <td>A5248</td>\n",
       "      <td>1.0</td>\n",
       "      <td>0.0</td>\n",
       "      <td>0.0</td>\n",
       "      <td>0.0</td>\n",
       "      <td>CTCCGTCGACGCTTTAGGGACATAGATGGGAGCTCTGATTCCCGTG...</td>\n",
       "      <td>CTCCGTCGACGCTTTAGGGACATAGATGGGAGCTCTGATTCCCGTG...</td>\n",
       "      <td>CTCCGTCGACGCTTTAGGGACATAGATGGGAGCTCTGATTCCCGTG...</td>\n",
       "    </tr>\n",
       "    <tr>\n",
       "      <th>1</th>\n",
       "      <td>G20001</td>\n",
       "      <td>F</td>\n",
       "      <td>A13244</td>\n",
       "      <td>A5248</td>\n",
       "      <td>1.0</td>\n",
       "      <td>0.0</td>\n",
       "      <td>0.0</td>\n",
       "      <td>0.0</td>\n",
       "      <td>CTCCGTCGACGCTTTAGGGACATAGATGGGAGCTCTGATTCCCGTG...</td>\n",
       "      <td>CTCCGTCGACGCTTTAGGGACATAGATGGGAGCTCTGATTCCCGTG...</td>\n",
       "      <td>CTCCGTCGACGCTTTAGGGACATAGATGGGAGCTCTGATTCCCGTG...</td>\n",
       "    </tr>\n",
       "    <tr>\n",
       "      <th>2</th>\n",
       "      <td>G20002</td>\n",
       "      <td>F</td>\n",
       "      <td>A13244</td>\n",
       "      <td>A5248</td>\n",
       "      <td>1.0</td>\n",
       "      <td>0.0</td>\n",
       "      <td>0.0</td>\n",
       "      <td>0.0</td>\n",
       "      <td>CTCCGTCGACGCTTTAGGGACATAGATGGGAGCTCTGATTCCCGTG...</td>\n",
       "      <td>CTCCGTCGACGCTTTAGGGACATAGATGGGAGCTCTGATTCCCGTG...</td>\n",
       "      <td>CTCCGTCGACGCTTTAGGGACATAGATGGGAGCTCTGATTCCCGTG...</td>\n",
       "    </tr>\n",
       "    <tr>\n",
       "      <th>3</th>\n",
       "      <td>G20003</td>\n",
       "      <td>F</td>\n",
       "      <td>A13244</td>\n",
       "      <td>A5248</td>\n",
       "      <td>1.0</td>\n",
       "      <td>0.0</td>\n",
       "      <td>0.0</td>\n",
       "      <td>0.0</td>\n",
       "      <td>CTCCGTCGACGCTTTAGGGACATAGATGGGAGCTCTGATTCCCGTG...</td>\n",
       "      <td>CTCCGTCGACGCTTTAGGGACATAGATGGGAGCTCTGATTCCCGTG...</td>\n",
       "      <td>CTCCGTCGACGCTTTAGGGACATAGATGGGAGCTCTGATTCCCGTG...</td>\n",
       "    </tr>\n",
       "    <tr>\n",
       "      <th>4</th>\n",
       "      <td>G20004</td>\n",
       "      <td>M</td>\n",
       "      <td>A8050</td>\n",
       "      <td>A8796</td>\n",
       "      <td>1.0</td>\n",
       "      <td>0.0</td>\n",
       "      <td>0.0</td>\n",
       "      <td>0.0</td>\n",
       "      <td>CTCCGTCGACGCTTTAGGGACATAGATGGGAGCTCTGATTCCCGTG...</td>\n",
       "      <td>CTCCGTCGACGCTTTAGGGACATAGATGGGAGCTCTGATTCCCGTG...</td>\n",
       "      <td>CTCCGTCGACGCTTTAGGGACATAGATGGGAGCTCTGATTCCCGTG...</td>\n",
       "    </tr>\n",
       "    <tr>\n",
       "      <th>...</th>\n",
       "      <td>...</td>\n",
       "      <td>...</td>\n",
       "      <td>...</td>\n",
       "      <td>...</td>\n",
       "      <td>...</td>\n",
       "      <td>...</td>\n",
       "      <td>...</td>\n",
       "      <td>...</td>\n",
       "      <td>...</td>\n",
       "      <td>...</td>\n",
       "      <td>...</td>\n",
       "    </tr>\n",
       "    <tr>\n",
       "      <th>21887</th>\n",
       "      <td>G200021887</td>\n",
       "      <td>F</td>\n",
       "      <td>A6009</td>\n",
       "      <td>A9165</td>\n",
       "      <td>1.0</td>\n",
       "      <td>0.0</td>\n",
       "      <td>0.0</td>\n",
       "      <td>0.0</td>\n",
       "      <td>CTCCGTCGACGCTTTAGGGACATAGATGGGAGCTCTGATTCCCGTG...</td>\n",
       "      <td>CTCCGTCGACGCTTTAGGGACATAGATGGGAGCTCTGATTCCCGTG...</td>\n",
       "      <td>CTCCGTCGACGCTTTAGGGACATAGATGGGAGCTCTGATTCCCGTG...</td>\n",
       "    </tr>\n",
       "    <tr>\n",
       "      <th>21888</th>\n",
       "      <td>G200021888</td>\n",
       "      <td>F</td>\n",
       "      <td>A693</td>\n",
       "      <td>A9165</td>\n",
       "      <td>1.0</td>\n",
       "      <td>0.0</td>\n",
       "      <td>0.0</td>\n",
       "      <td>0.0</td>\n",
       "      <td>CTCCGTCGACGCTTTAGGGACATAGATGGGAGCTCTGATCCCCGTG...</td>\n",
       "      <td>CTCCGTCGACGCTTTAGGGACATAGATGGGAGCTCTGATTCCCGTG...</td>\n",
       "      <td>CTCCGTCGACGCTTTAGGGACATAGATGGGAGCTCTGATCCCCGTG...</td>\n",
       "    </tr>\n",
       "    <tr>\n",
       "      <th>21889</th>\n",
       "      <td>G200021889</td>\n",
       "      <td>F</td>\n",
       "      <td>A693</td>\n",
       "      <td>A9165</td>\n",
       "      <td>1.0</td>\n",
       "      <td>0.0</td>\n",
       "      <td>0.0</td>\n",
       "      <td>0.0</td>\n",
       "      <td>CTCCGTCGACGCTTTAGGGACATAGATGGGAGCTCTGATTCCCGTG...</td>\n",
       "      <td>CTCCGTCGACGCTTTAGGGACATAGATGGGAGCTCTGATTCCCGTG...</td>\n",
       "      <td>CTCCGTCGACGCTTTAGGGACATAGATGGGAGCTCTGATTCCCGTG...</td>\n",
       "    </tr>\n",
       "    <tr>\n",
       "      <th>21890</th>\n",
       "      <td>G200021890</td>\n",
       "      <td>M</td>\n",
       "      <td>A693</td>\n",
       "      <td>A9165</td>\n",
       "      <td>1.0</td>\n",
       "      <td>0.0</td>\n",
       "      <td>0.0</td>\n",
       "      <td>0.0</td>\n",
       "      <td>CTCCGTCGACGCTTTAGGGACATAGATGGGAGCTCTGATCCCCGTG...</td>\n",
       "      <td>CTCCGTCGACGCTTTAGGGACATAGATGGGAGCTCTGATTCCCGTG...</td>\n",
       "      <td>CTCCGTCGACGCTTTAGGGACATAGATGGGAGCTCTGATCCCCGTG...</td>\n",
       "    </tr>\n",
       "    <tr>\n",
       "      <th>21891</th>\n",
       "      <td>G200021891</td>\n",
       "      <td>F</td>\n",
       "      <td>A693</td>\n",
       "      <td>A9165</td>\n",
       "      <td>1.0</td>\n",
       "      <td>0.0</td>\n",
       "      <td>0.0</td>\n",
       "      <td>0.0</td>\n",
       "      <td>CTCCGTCGACGCTTTAGGGACATAGATGGGAGCTCTGATCCCCGTG...</td>\n",
       "      <td>CTCCGTCGACGCTTTAGGGACATAGATGGGAGCTCTGATTCCCGTG...</td>\n",
       "      <td>CTCCGTCGACGCTTTAGGGACATAGATGGGAGCTCTGATCCCCGTG...</td>\n",
       "    </tr>\n",
       "  </tbody>\n",
       "</table>\n",
       "<p>21892 rows × 11 columns</p>\n",
       "</div>"
      ],
      "text/plain": [
       "             Name Gender ParentM ParentF  EthA  EthE  EthK  EthP  \\\n",
       "0          G20000      M  A13244   A5248   1.0   0.0   0.0   0.0   \n",
       "1          G20001      F  A13244   A5248   1.0   0.0   0.0   0.0   \n",
       "2          G20002      F  A13244   A5248   1.0   0.0   0.0   0.0   \n",
       "3          G20003      F  A13244   A5248   1.0   0.0   0.0   0.0   \n",
       "4          G20004      M   A8050   A8796   1.0   0.0   0.0   0.0   \n",
       "...           ...    ...     ...     ...   ...   ...   ...   ...   \n",
       "21887  G200021887      F   A6009   A9165   1.0   0.0   0.0   0.0   \n",
       "21888  G200021888      F    A693   A9165   1.0   0.0   0.0   0.0   \n",
       "21889  G200021889      F    A693   A9165   1.0   0.0   0.0   0.0   \n",
       "21890  G200021890      M    A693   A9165   1.0   0.0   0.0   0.0   \n",
       "21891  G200021891      F    A693   A9165   1.0   0.0   0.0   0.0   \n",
       "\n",
       "                                                 Allele1  \\\n",
       "0      CTCCGTCGACGCTTTAGGGACATAGATGGGAGCTCTGATTCCCGTG...   \n",
       "1      CTCCGTCGACGCTTTAGGGACATAGATGGGAGCTCTGATTCCCGTG...   \n",
       "2      CTCCGTCGACGCTTTAGGGACATAGATGGGAGCTCTGATTCCCGTG...   \n",
       "3      CTCCGTCGACGCTTTAGGGACATAGATGGGAGCTCTGATTCCCGTG...   \n",
       "4      CTCCGTCGACGCTTTAGGGACATAGATGGGAGCTCTGATTCCCGTG...   \n",
       "...                                                  ...   \n",
       "21887  CTCCGTCGACGCTTTAGGGACATAGATGGGAGCTCTGATTCCCGTG...   \n",
       "21888  CTCCGTCGACGCTTTAGGGACATAGATGGGAGCTCTGATCCCCGTG...   \n",
       "21889  CTCCGTCGACGCTTTAGGGACATAGATGGGAGCTCTGATTCCCGTG...   \n",
       "21890  CTCCGTCGACGCTTTAGGGACATAGATGGGAGCTCTGATCCCCGTG...   \n",
       "21891  CTCCGTCGACGCTTTAGGGACATAGATGGGAGCTCTGATCCCCGTG...   \n",
       "\n",
       "                                                 Allele2  \\\n",
       "0      CTCCGTCGACGCTTTAGGGACATAGATGGGAGCTCTGATTCCCGTG...   \n",
       "1      CTCCGTCGACGCTTTAGGGACATAGATGGGAGCTCTGATTCCCGTG...   \n",
       "2      CTCCGTCGACGCTTTAGGGACATAGATGGGAGCTCTGATTCCCGTG...   \n",
       "3      CTCCGTCGACGCTTTAGGGACATAGATGGGAGCTCTGATTCCCGTG...   \n",
       "4      CTCCGTCGACGCTTTAGGGACATAGATGGGAGCTCTGATTCCCGTG...   \n",
       "...                                                  ...   \n",
       "21887  CTCCGTCGACGCTTTAGGGACATAGATGGGAGCTCTGATTCCCGTG...   \n",
       "21888  CTCCGTCGACGCTTTAGGGACATAGATGGGAGCTCTGATTCCCGTG...   \n",
       "21889  CTCCGTCGACGCTTTAGGGACATAGATGGGAGCTCTGATTCCCGTG...   \n",
       "21890  CTCCGTCGACGCTTTAGGGACATAGATGGGAGCTCTGATTCCCGTG...   \n",
       "21891  CTCCGTCGACGCTTTAGGGACATAGATGGGAGCTCTGATTCCCGTG...   \n",
       "\n",
       "                                      Full_seq_dna_child  \n",
       "0      CTCCGTCGACGCTTTAGGGACATAGATGGGAGCTCTGATTCCCGTG...  \n",
       "1      CTCCGTCGACGCTTTAGGGACATAGATGGGAGCTCTGATTCCCGTG...  \n",
       "2      CTCCGTCGACGCTTTAGGGACATAGATGGGAGCTCTGATTCCCGTG...  \n",
       "3      CTCCGTCGACGCTTTAGGGACATAGATGGGAGCTCTGATTCCCGTG...  \n",
       "4      CTCCGTCGACGCTTTAGGGACATAGATGGGAGCTCTGATTCCCGTG...  \n",
       "...                                                  ...  \n",
       "21887  CTCCGTCGACGCTTTAGGGACATAGATGGGAGCTCTGATTCCCGTG...  \n",
       "21888  CTCCGTCGACGCTTTAGGGACATAGATGGGAGCTCTGATCCCCGTG...  \n",
       "21889  CTCCGTCGACGCTTTAGGGACATAGATGGGAGCTCTGATTCCCGTG...  \n",
       "21890  CTCCGTCGACGCTTTAGGGACATAGATGGGAGCTCTGATCCCCGTG...  \n",
       "21891  CTCCGTCGACGCTTTAGGGACATAGATGGGAGCTCTGATCCCCGTG...  \n",
       "\n",
       "[21892 rows x 11 columns]"
      ]
     },
     "execution_count": 23,
     "metadata": {},
     "output_type": "execute_result"
    }
   ],
   "source": [
    "df_child"
   ]
  },
  {
   "cell_type": "markdown",
   "metadata": {},
   "source": [
    "Full sequence of dna after applying the function to take the first 1000 bases of the sequence in allel 1 and 2 respectively\n",
    "- Length of Full sequence of DNA of child after concatenating allel 1 and 2 with 1000 bases from each one "
   ]
  },
  {
   "cell_type": "code",
   "execution_count": 24,
   "metadata": {},
   "outputs": [
    {
     "data": {
      "text/plain": [
       "2000"
      ]
     },
     "execution_count": 24,
     "metadata": {},
     "output_type": "execute_result"
    }
   ],
   "source": [
    "# Check the length of the full concatenated sequence for child\n",
    "len(df_child['Full_seq_dna_child'].iloc[0])"
   ]
  },
  {
   "cell_type": "markdown",
   "metadata": {},
   "source": [
    "## For parent \n",
    "\n",
    "- same process we made for child "
   ]
  },
  {
   "cell_type": "code",
   "execution_count": 25,
   "metadata": {},
   "outputs": [
    {
     "data": {
      "text/html": [
       "<div>\n",
       "<style scoped>\n",
       "    .dataframe tbody tr th:only-of-type {\n",
       "        vertical-align: middle;\n",
       "    }\n",
       "\n",
       "    .dataframe tbody tr th {\n",
       "        vertical-align: top;\n",
       "    }\n",
       "\n",
       "    .dataframe thead th {\n",
       "        text-align: right;\n",
       "    }\n",
       "</style>\n",
       "<table border=\"1\" class=\"dataframe\">\n",
       "  <thead>\n",
       "    <tr style=\"text-align: right;\">\n",
       "      <th></th>\n",
       "      <th>Name</th>\n",
       "      <th>Gender</th>\n",
       "      <th>ParentM</th>\n",
       "      <th>ParentF</th>\n",
       "      <th>EthA</th>\n",
       "      <th>EthE</th>\n",
       "      <th>EthK</th>\n",
       "      <th>EthP</th>\n",
       "      <th>Allele1</th>\n",
       "      <th>Allele2</th>\n",
       "    </tr>\n",
       "  </thead>\n",
       "  <tbody>\n",
       "    <tr>\n",
       "      <th>11052</th>\n",
       "      <td>A11052</td>\n",
       "      <td>M</td>\n",
       "      <td>Na</td>\n",
       "      <td>Na</td>\n",
       "      <td>1</td>\n",
       "      <td>0</td>\n",
       "      <td>0</td>\n",
       "      <td>0</td>\n",
       "      <td>CTCCGTCGACGCTTTAGGGACATAGATGGGAGCTCTGATTCCCGTG...</td>\n",
       "      <td>CTCCGTCGACGCTTTAGGGACATAGATGGGAGCTCTGATTCCCGTG...</td>\n",
       "    </tr>\n",
       "    <tr>\n",
       "      <th>10905</th>\n",
       "      <td>A10905</td>\n",
       "      <td>F</td>\n",
       "      <td>Na</td>\n",
       "      <td>Na</td>\n",
       "      <td>1</td>\n",
       "      <td>0</td>\n",
       "      <td>0</td>\n",
       "      <td>0</td>\n",
       "      <td>CTCCGTCGACGCTTTAGGGACATAGATGGGAGCTCTGATTCCCGTG...</td>\n",
       "      <td>CTCCGTCGACGCTTTAGGGACATAGATGGGAGCTCTGATTCCCGTG...</td>\n",
       "    </tr>\n",
       "    <tr>\n",
       "      <th>4952</th>\n",
       "      <td>A4952</td>\n",
       "      <td>M</td>\n",
       "      <td>Na</td>\n",
       "      <td>Na</td>\n",
       "      <td>1</td>\n",
       "      <td>0</td>\n",
       "      <td>0</td>\n",
       "      <td>0</td>\n",
       "      <td>CTCCGTCGGCGCTTTAGGGACATAGATGGGAGCTCTGATTCCCGTG...</td>\n",
       "      <td>CTCCGTCGACGCTTTAGGGACATAGATGGGAGCTCTGATTCCCGTG...</td>\n",
       "    </tr>\n",
       "  </tbody>\n",
       "</table>\n",
       "</div>"
      ],
      "text/plain": [
       "         Name Gender ParentM ParentF  EthA  EthE  EthK  EthP  \\\n",
       "11052  A11052      M      Na      Na     1     0     0     0   \n",
       "10905  A10905      F      Na      Na     1     0     0     0   \n",
       "4952    A4952      M      Na      Na     1     0     0     0   \n",
       "\n",
       "                                                 Allele1  \\\n",
       "11052  CTCCGTCGACGCTTTAGGGACATAGATGGGAGCTCTGATTCCCGTG...   \n",
       "10905  CTCCGTCGACGCTTTAGGGACATAGATGGGAGCTCTGATTCCCGTG...   \n",
       "4952   CTCCGTCGGCGCTTTAGGGACATAGATGGGAGCTCTGATTCCCGTG...   \n",
       "\n",
       "                                                 Allele2  \n",
       "11052  CTCCGTCGACGCTTTAGGGACATAGATGGGAGCTCTGATTCCCGTG...  \n",
       "10905  CTCCGTCGACGCTTTAGGGACATAGATGGGAGCTCTGATTCCCGTG...  \n",
       "4952   CTCCGTCGACGCTTTAGGGACATAGATGGGAGCTCTGATTCCCGTG...  "
      ]
     },
     "execution_count": 25,
     "metadata": {},
     "output_type": "execute_result"
    }
   ],
   "source": [
    "# Display a sample of the parent DataFrame\n",
    "df_parent.sample(3)"
   ]
  },
  {
   "cell_type": "markdown",
   "metadata": {},
   "source": [
    "- length of the sequence before applying the function to take the first 1000 bases of the sequence from allel 1"
   ]
  },
  {
   "cell_type": "code",
   "execution_count": 26,
   "metadata": {},
   "outputs": [
    {
     "data": {
      "text/plain": [
       "39108"
      ]
     },
     "execution_count": 26,
     "metadata": {},
     "output_type": "execute_result"
    }
   ],
   "source": [
    "# Check the length of the sequence before truncating to 1000 bases\n",
    "len(df_parent['Allele1'].iloc[0])"
   ]
  },
  {
   "cell_type": "code",
   "execution_count": 27,
   "metadata": {},
   "outputs": [],
   "source": [
    "# Truncate Allele sequences for parent to the first 1000 bases and concatenate\n",
    "df_parent['Allele1'] = df_parent['Allele1'].apply(lambda x : ''.join(x[:1000]))\n",
    "df_parent['Allele2'] = df_parent['Allele2'].apply(lambda x : ''.join(x[:1000]))\n",
    "df_parent['Full_seq_dna_parent']= df_parent['Allele1'] + df_parent['Allele2']"
   ]
  },
  {
   "cell_type": "markdown",
   "metadata": {},
   "source": [
    "- length of the sequence of parent after applying the function to take the first 1000 bases of the sequence"
   ]
  },
  {
   "cell_type": "code",
   "execution_count": 28,
   "metadata": {},
   "outputs": [
    {
     "data": {
      "text/plain": [
       "1000"
      ]
     },
     "execution_count": 28,
     "metadata": {},
     "output_type": "execute_result"
    }
   ],
   "source": [
    "# Check the length of the sequence after truncating to 1000 bases\n",
    "len(df_parent['Allele1'].iloc[0])"
   ]
  },
  {
   "cell_type": "markdown",
   "metadata": {},
   "source": [
    "Full sequence :\n",
    "- Length of Full sequence of DNA of parent after concatenating allel 1 and 2 with 1000 bases from each one "
   ]
  },
  {
   "cell_type": "code",
   "execution_count": 31,
   "metadata": {},
   "outputs": [
    {
     "data": {
      "text/plain": [
       "2000"
      ]
     },
     "execution_count": 31,
     "metadata": {},
     "output_type": "execute_result"
    }
   ],
   "source": [
    "# Check the length of the full concatenated sequence for parent\n",
    "len(df_parent['Full_seq_dna_parent'].iloc[0])"
   ]
  },
  {
   "cell_type": "markdown",
   "metadata": {},
   "source": [
    "## Preparing data for tests"
   ]
  },
  {
   "cell_type": "code",
   "execution_count": 32,
   "metadata": {},
   "outputs": [],
   "source": [
    "# Prepare data for tests\n",
    "# make copy of G2000 ['ParentM','ParentF','Child_full_DNA_Seq']\n",
    "df_child_data_copy = df_child[['ParentM','ParentF','Full_seq_dna_child']]"
   ]
  },
  {
   "cell_type": "code",
   "execution_count": 33,
   "metadata": {},
   "outputs": [
    {
     "data": {
      "text/html": [
       "<div>\n",
       "<style scoped>\n",
       "    .dataframe tbody tr th:only-of-type {\n",
       "        vertical-align: middle;\n",
       "    }\n",
       "\n",
       "    .dataframe tbody tr th {\n",
       "        vertical-align: top;\n",
       "    }\n",
       "\n",
       "    .dataframe thead th {\n",
       "        text-align: right;\n",
       "    }\n",
       "</style>\n",
       "<table border=\"1\" class=\"dataframe\">\n",
       "  <thead>\n",
       "    <tr style=\"text-align: right;\">\n",
       "      <th></th>\n",
       "      <th>ParentM</th>\n",
       "      <th>ParentF</th>\n",
       "      <th>Full_seq_dna_child</th>\n",
       "    </tr>\n",
       "  </thead>\n",
       "  <tbody>\n",
       "    <tr>\n",
       "      <th>19956</th>\n",
       "      <td>A4327</td>\n",
       "      <td>A10381</td>\n",
       "      <td>CTCCGTCGACGCTTTAGGGACATAGATGGGAGCTCTGATTCCCGTG...</td>\n",
       "    </tr>\n",
       "    <tr>\n",
       "      <th>12242</th>\n",
       "      <td>A13489</td>\n",
       "      <td>A11339</td>\n",
       "      <td>CTCCGTCGACGCTTTAGGGACATAGATGGGAGCTCTGATTCCCGTG...</td>\n",
       "    </tr>\n",
       "    <tr>\n",
       "      <th>20426</th>\n",
       "      <td>A3640</td>\n",
       "      <td>A4432</td>\n",
       "      <td>CTCCGTCGACGCTTTAGGGACATAGATGGGAGCTCTGATTCCCGTG...</td>\n",
       "    </tr>\n",
       "    <tr>\n",
       "      <th>16098</th>\n",
       "      <td>A11247</td>\n",
       "      <td>A6689</td>\n",
       "      <td>CTCCGTCGACGCTTTAGGGACATAGATGGGAGCTCTGATTCCCGTG...</td>\n",
       "    </tr>\n",
       "    <tr>\n",
       "      <th>5727</th>\n",
       "      <td>A10565</td>\n",
       "      <td>A9861</td>\n",
       "      <td>CTCCGTCGACGCTTTAGGGACATAGATGGGAGCTCTGATTCCCGTG...</td>\n",
       "    </tr>\n",
       "    <tr>\n",
       "      <th>9695</th>\n",
       "      <td>A4347</td>\n",
       "      <td>A10041</td>\n",
       "      <td>CTCCGTCGACGCTTTAGGGACATAGATGGGAGCTCTGATTTCCGTG...</td>\n",
       "    </tr>\n",
       "    <tr>\n",
       "      <th>16176</th>\n",
       "      <td>A13154</td>\n",
       "      <td>A12164</td>\n",
       "      <td>CTCCGTCGACGCTTTAGGGACATAGATGGGAGCTCTGATTCCCGTG...</td>\n",
       "    </tr>\n",
       "    <tr>\n",
       "      <th>11163</th>\n",
       "      <td>A5119</td>\n",
       "      <td>A3098</td>\n",
       "      <td>CTCCGTCGACGCTTTAGGGACATAGATGGGAGCTCTGATTCCCGTG...</td>\n",
       "    </tr>\n",
       "    <tr>\n",
       "      <th>21634</th>\n",
       "      <td>A2881</td>\n",
       "      <td>A1394</td>\n",
       "      <td>CTCCGTCGACGCTTTAGGGACATAGATGGGAGCTCTGATTCCCGTG...</td>\n",
       "    </tr>\n",
       "    <tr>\n",
       "      <th>11182</th>\n",
       "      <td>A2480</td>\n",
       "      <td>A3650</td>\n",
       "      <td>CTCCGTCGACGCTTTAGGGACATAGATGGGAGCTCTGATTCCCGTG...</td>\n",
       "    </tr>\n",
       "  </tbody>\n",
       "</table>\n",
       "</div>"
      ],
      "text/plain": [
       "      ParentM ParentF                                 Full_seq_dna_child\n",
       "19956   A4327  A10381  CTCCGTCGACGCTTTAGGGACATAGATGGGAGCTCTGATTCCCGTG...\n",
       "12242  A13489  A11339  CTCCGTCGACGCTTTAGGGACATAGATGGGAGCTCTGATTCCCGTG...\n",
       "20426   A3640   A4432  CTCCGTCGACGCTTTAGGGACATAGATGGGAGCTCTGATTCCCGTG...\n",
       "16098  A11247   A6689  CTCCGTCGACGCTTTAGGGACATAGATGGGAGCTCTGATTCCCGTG...\n",
       "5727   A10565   A9861  CTCCGTCGACGCTTTAGGGACATAGATGGGAGCTCTGATTCCCGTG...\n",
       "9695    A4347  A10041  CTCCGTCGACGCTTTAGGGACATAGATGGGAGCTCTGATTTCCGTG...\n",
       "16176  A13154  A12164  CTCCGTCGACGCTTTAGGGACATAGATGGGAGCTCTGATTCCCGTG...\n",
       "11163   A5119   A3098  CTCCGTCGACGCTTTAGGGACATAGATGGGAGCTCTGATTCCCGTG...\n",
       "21634   A2881   A1394  CTCCGTCGACGCTTTAGGGACATAGATGGGAGCTCTGATTCCCGTG...\n",
       "11182   A2480   A3650  CTCCGTCGACGCTTTAGGGACATAGATGGGAGCTCTGATTCCCGTG..."
      ]
     },
     "execution_count": 33,
     "metadata": {},
     "output_type": "execute_result"
    }
   ],
   "source": [
    "# Display information of (df_child_data_copy) G2000 ['ParentM','ParentF','Child_full_DNA_Seq']\n",
    "df_child_data_copy.sample(10)"
   ]
  },
  {
   "cell_type": "code",
   "execution_count": 34,
   "metadata": {},
   "outputs": [],
   "source": [
    "# make copy of EthA ['Name','Parent_full_DNA_Seq']\n",
    "df_parent_data_copy = df_parent[['Name','Full_seq_dna_parent']]"
   ]
  },
  {
   "cell_type": "code",
   "execution_count": 35,
   "metadata": {},
   "outputs": [
    {
     "data": {
      "text/html": [
       "<div>\n",
       "<style scoped>\n",
       "    .dataframe tbody tr th:only-of-type {\n",
       "        vertical-align: middle;\n",
       "    }\n",
       "\n",
       "    .dataframe tbody tr th {\n",
       "        vertical-align: top;\n",
       "    }\n",
       "\n",
       "    .dataframe thead th {\n",
       "        text-align: right;\n",
       "    }\n",
       "</style>\n",
       "<table border=\"1\" class=\"dataframe\">\n",
       "  <thead>\n",
       "    <tr style=\"text-align: right;\">\n",
       "      <th></th>\n",
       "      <th>Name</th>\n",
       "      <th>Full_seq_dna_parent</th>\n",
       "    </tr>\n",
       "  </thead>\n",
       "  <tbody>\n",
       "    <tr>\n",
       "      <th>233</th>\n",
       "      <td>A233</td>\n",
       "      <td>CTCCGTCGACGCTTTAGGGACATAGATGGGAGCTCTGATTCCCGTG...</td>\n",
       "    </tr>\n",
       "    <tr>\n",
       "      <th>4545</th>\n",
       "      <td>A4545</td>\n",
       "      <td>CTCCGTCGACGCTTTAGGGACATAGATGGGAGCTCTGATTCCCGTG...</td>\n",
       "    </tr>\n",
       "    <tr>\n",
       "      <th>2010</th>\n",
       "      <td>A2010</td>\n",
       "      <td>CTCCGTCGACGCTTTAGGGACATAGATGGGAGCTCTGATTCCCGTA...</td>\n",
       "    </tr>\n",
       "    <tr>\n",
       "      <th>14197</th>\n",
       "      <td>A14197</td>\n",
       "      <td>CTCCGTCGACGCTTTAGGGACATAGATGGGAGCTCTGATTCCCGTG...</td>\n",
       "    </tr>\n",
       "    <tr>\n",
       "      <th>10713</th>\n",
       "      <td>A10713</td>\n",
       "      <td>CTCCGTCGACGCTTTAGGGACATAGATGGGAGCTCTGATTCCCGTG...</td>\n",
       "    </tr>\n",
       "    <tr>\n",
       "      <th>7398</th>\n",
       "      <td>A7398</td>\n",
       "      <td>CTCCGTCGACGCTTTAGGGACATAGATGGGAGCTCTGATTCCCGTG...</td>\n",
       "    </tr>\n",
       "    <tr>\n",
       "      <th>886</th>\n",
       "      <td>A886</td>\n",
       "      <td>CTCCGTCGACGCTTTAGGGACATAGATGGGAGCTCTGATTCCCGTG...</td>\n",
       "    </tr>\n",
       "    <tr>\n",
       "      <th>8292</th>\n",
       "      <td>A8292</td>\n",
       "      <td>CTCCGTCGACGCTTTAGGGACATAGATGGGAGCTCTGATTCCCGTG...</td>\n",
       "    </tr>\n",
       "    <tr>\n",
       "      <th>287</th>\n",
       "      <td>A287</td>\n",
       "      <td>CTCCGTCGACGCTTTAGGGACATAGATGGGAGCTCTGATTCCCGTG...</td>\n",
       "    </tr>\n",
       "    <tr>\n",
       "      <th>14841</th>\n",
       "      <td>A14841</td>\n",
       "      <td>CTCCGTCGACGCTTTAGGGACATAGATGGGAGCTCTGATTCCCGTG...</td>\n",
       "    </tr>\n",
       "  </tbody>\n",
       "</table>\n",
       "</div>"
      ],
      "text/plain": [
       "         Name                                Full_seq_dna_parent\n",
       "233      A233  CTCCGTCGACGCTTTAGGGACATAGATGGGAGCTCTGATTCCCGTG...\n",
       "4545    A4545  CTCCGTCGACGCTTTAGGGACATAGATGGGAGCTCTGATTCCCGTG...\n",
       "2010    A2010  CTCCGTCGACGCTTTAGGGACATAGATGGGAGCTCTGATTCCCGTA...\n",
       "14197  A14197  CTCCGTCGACGCTTTAGGGACATAGATGGGAGCTCTGATTCCCGTG...\n",
       "10713  A10713  CTCCGTCGACGCTTTAGGGACATAGATGGGAGCTCTGATTCCCGTG...\n",
       "7398    A7398  CTCCGTCGACGCTTTAGGGACATAGATGGGAGCTCTGATTCCCGTG...\n",
       "886      A886  CTCCGTCGACGCTTTAGGGACATAGATGGGAGCTCTGATTCCCGTG...\n",
       "8292    A8292  CTCCGTCGACGCTTTAGGGACATAGATGGGAGCTCTGATTCCCGTG...\n",
       "287      A287  CTCCGTCGACGCTTTAGGGACATAGATGGGAGCTCTGATTCCCGTG...\n",
       "14841  A14841  CTCCGTCGACGCTTTAGGGACATAGATGGGAGCTCTGATTCCCGTG..."
      ]
     },
     "execution_count": 35,
     "metadata": {},
     "output_type": "execute_result"
    }
   ],
   "source": [
    "df_parent_data_copy.sample(10)"
   ]
  },
  {
   "cell_type": "code",
   "execution_count": 36,
   "metadata": {},
   "outputs": [],
   "source": [
    "# import re \n",
    "# df_test = pd.read_csv('test_child.csv')\n",
    "# def remove_numbers(text):\n",
    "#     return re.sub(r'\\d+', '', text)\n",
    "# # Apply the function to the 'Parent_full_DNA_Seq' column\n",
    "# df_test['Parent_full_DNA_Seq'] = df_test['Parent_full_DNA_Seq'].apply(remove_numbers)\n",
    "# # Print the modified DataFrame\n",
    "# print(df_test)"
   ]
  },
  {
   "cell_type": "markdown",
   "metadata": {},
   "source": [
    "## Extracting DNA sequences of parents for tests"
   ]
  },
  {
   "cell_type": "markdown",
   "metadata": {},
   "source": [
    "### Test-a\n"
   ]
  },
  {
   "cell_type": "code",
   "execution_count": 37,
   "metadata": {},
   "outputs": [
    {
     "data": {
      "text/html": [
       "<div>\n",
       "<style scoped>\n",
       "    .dataframe tbody tr th:only-of-type {\n",
       "        vertical-align: middle;\n",
       "    }\n",
       "\n",
       "    .dataframe tbody tr th {\n",
       "        vertical-align: top;\n",
       "    }\n",
       "\n",
       "    .dataframe thead th {\n",
       "        text-align: right;\n",
       "    }\n",
       "</style>\n",
       "<table border=\"1\" class=\"dataframe\">\n",
       "  <thead>\n",
       "    <tr style=\"text-align: right;\">\n",
       "      <th></th>\n",
       "      <th>Name</th>\n",
       "      <th>Full_seq_dna_parent</th>\n",
       "    </tr>\n",
       "  </thead>\n",
       "  <tbody>\n",
       "    <tr>\n",
       "      <th>8184</th>\n",
       "      <td>A8184</td>\n",
       "      <td>CTCCGTCGACGCTTTAGGGACATAGATGGGAGCTCTGATTCCCGTG...</td>\n",
       "    </tr>\n",
       "  </tbody>\n",
       "</table>\n",
       "</div>"
      ],
      "text/plain": [
       "       Name                                Full_seq_dna_parent\n",
       "8184  A8184  CTCCGTCGACGCTTTAGGGACATAGATGGGAGCTCTGATTCCCGTG..."
      ]
     },
     "execution_count": 37,
     "metadata": {},
     "output_type": "execute_result"
    }
   ],
   "source": [
    "# Extract DNA sequences for specific parents for tests\n",
    "df_parent_data_copy[df_parent_data_copy['Name'] == 'A8184']"
   ]
  },
  {
   "cell_type": "code",
   "execution_count": 38,
   "metadata": {},
   "outputs": [],
   "source": [
    "first_parent = df_parent_data_copy[df_parent_data_copy['Name'] == 'A8184']['Full_seq_dna_parent'].iloc[0]"
   ]
  },
  {
   "cell_type": "code",
   "execution_count": 39,
   "metadata": {},
   "outputs": [
    {
     "data": {
      "text/plain": [
       "2000"
      ]
     },
     "execution_count": 39,
     "metadata": {},
     "output_type": "execute_result"
    }
   ],
   "source": [
    "len(first_parent)"
   ]
  },
  {
   "cell_type": "code",
   "execution_count": 40,
   "metadata": {},
   "outputs": [],
   "source": [
    "# with open('ParentM_A8184.txt', 'w') as file:\n",
    "#     file.write(first_parent)"
   ]
  },
  {
   "cell_type": "code",
   "execution_count": 41,
   "metadata": {},
   "outputs": [
    {
     "data": {
      "text/html": [
       "<div>\n",
       "<style scoped>\n",
       "    .dataframe tbody tr th:only-of-type {\n",
       "        vertical-align: middle;\n",
       "    }\n",
       "\n",
       "    .dataframe tbody tr th {\n",
       "        vertical-align: top;\n",
       "    }\n",
       "\n",
       "    .dataframe thead th {\n",
       "        text-align: right;\n",
       "    }\n",
       "</style>\n",
       "<table border=\"1\" class=\"dataframe\">\n",
       "  <thead>\n",
       "    <tr style=\"text-align: right;\">\n",
       "      <th></th>\n",
       "      <th>Name</th>\n",
       "      <th>Full_seq_dna_parent</th>\n",
       "    </tr>\n",
       "  </thead>\n",
       "  <tbody>\n",
       "    <tr>\n",
       "      <th>13904</th>\n",
       "      <td>A13904</td>\n",
       "      <td>CTCCGTCGACGCTTTAGGGACATAGATGGGAGCTCTGACTCCCGTG...</td>\n",
       "    </tr>\n",
       "  </tbody>\n",
       "</table>\n",
       "</div>"
      ],
      "text/plain": [
       "         Name                                Full_seq_dna_parent\n",
       "13904  A13904  CTCCGTCGACGCTTTAGGGACATAGATGGGAGCTCTGACTCCCGTG..."
      ]
     },
     "execution_count": 41,
     "metadata": {},
     "output_type": "execute_result"
    }
   ],
   "source": [
    "df_parent_data_copy[df_parent_data_copy['Name'] == 'A13904']"
   ]
  },
  {
   "cell_type": "code",
   "execution_count": 42,
   "metadata": {},
   "outputs": [],
   "source": [
    "second_parent = df_parent_data_copy[df_parent_data_copy['Name'] == 'A13904']['Full_seq_dna_parent'].iloc[0]"
   ]
  },
  {
   "cell_type": "code",
   "execution_count": 43,
   "metadata": {},
   "outputs": [
    {
     "data": {
      "text/plain": [
       "2000"
      ]
     },
     "execution_count": 43,
     "metadata": {},
     "output_type": "execute_result"
    }
   ],
   "source": [
    "len(second_parent)"
   ]
  },
  {
   "cell_type": "code",
   "execution_count": 44,
   "metadata": {},
   "outputs": [],
   "source": [
    "# with open('ParentM_A13904.txt', 'w') as file:\n",
    "#     file.write(second_parent)"
   ]
  },
  {
   "cell_type": "code",
   "execution_count": 45,
   "metadata": {},
   "outputs": [
    {
     "data": {
      "text/html": [
       "<div>\n",
       "<style scoped>\n",
       "    .dataframe tbody tr th:only-of-type {\n",
       "        vertical-align: middle;\n",
       "    }\n",
       "\n",
       "    .dataframe tbody tr th {\n",
       "        vertical-align: top;\n",
       "    }\n",
       "\n",
       "    .dataframe thead th {\n",
       "        text-align: right;\n",
       "    }\n",
       "</style>\n",
       "<table border=\"1\" class=\"dataframe\">\n",
       "  <thead>\n",
       "    <tr style=\"text-align: right;\">\n",
       "      <th></th>\n",
       "      <th>Name</th>\n",
       "      <th>Full_seq_dna_parent</th>\n",
       "    </tr>\n",
       "  </thead>\n",
       "  <tbody>\n",
       "    <tr>\n",
       "      <th>4285</th>\n",
       "      <td>A4285</td>\n",
       "      <td>CTCCGTCGACGCTTTAGGGACATAGATGGGAGCTCTGATTCCCGTG...</td>\n",
       "    </tr>\n",
       "  </tbody>\n",
       "</table>\n",
       "</div>"
      ],
      "text/plain": [
       "       Name                                Full_seq_dna_parent\n",
       "4285  A4285  CTCCGTCGACGCTTTAGGGACATAGATGGGAGCTCTGATTCCCGTG..."
      ]
     },
     "execution_count": 45,
     "metadata": {},
     "output_type": "execute_result"
    }
   ],
   "source": [
    "df_parent_data_copy[df_parent_data_copy['Name'] == 'A4285']"
   ]
  },
  {
   "cell_type": "code",
   "execution_count": 46,
   "metadata": {},
   "outputs": [],
   "source": [
    "Third_parent_b = df_parent_data_copy[df_parent_data_copy['Name'] == 'A14108']['Full_seq_dna_parent'].iloc[0]"
   ]
  },
  {
   "cell_type": "code",
   "execution_count": 47,
   "metadata": {},
   "outputs": [
    {
     "data": {
      "text/plain": [
       "2000"
      ]
     },
     "execution_count": 47,
     "metadata": {},
     "output_type": "execute_result"
    }
   ],
   "source": [
    "len(Third_parent_b)"
   ]
  },
  {
   "cell_type": "code",
   "execution_count": 48,
   "metadata": {},
   "outputs": [],
   "source": [
    "# with open('ParentF_A14108.txt', 'w') as file:\n",
    "#     file.write(Third_parent_b)"
   ]
  },
  {
   "cell_type": "markdown",
   "metadata": {},
   "source": [
    "### Test-b"
   ]
  },
  {
   "cell_type": "code",
   "execution_count": 49,
   "metadata": {},
   "outputs": [],
   "source": [
    "# Third_parent = df_parent_data_copy[df_parent_data_copy['Name'] == 'A4285']['Full_seq_dna'].iloc[0]"
   ]
  },
  {
   "cell_type": "code",
   "execution_count": 50,
   "metadata": {},
   "outputs": [],
   "source": [
    "# with open('ParentM_A4285.txt', 'w') as file:\n",
    "#     file.write(Third_parent)"
   ]
  },
  {
   "cell_type": "code",
   "execution_count": 51,
   "metadata": {},
   "outputs": [],
   "source": [
    "# fourth_parent = df_parent_data_copy[df_parent_data_copy['Name'] == 'A4427']['Full_seq_dna'].iloc[0]"
   ]
  },
  {
   "cell_type": "code",
   "execution_count": 52,
   "metadata": {},
   "outputs": [],
   "source": [
    "# with open('ParentF_A4427.txt', 'w') as file:\n",
    "#     file.write(Third_parent)"
   ]
  },
  {
   "cell_type": "code",
   "execution_count": 53,
   "metadata": {},
   "outputs": [],
   "source": [
    "# fifth_parent = df_parent_data_copy[df_parent_data_copy['Name'] == 'A14919']['Full_seq_dna'].iloc[0]"
   ]
  },
  {
   "cell_type": "code",
   "execution_count": 54,
   "metadata": {},
   "outputs": [],
   "source": [
    "# with open('ParentF_A14919.txt', 'w') as file:\n",
    "#     file.write(fifth_parent)"
   ]
  },
  {
   "cell_type": "markdown",
   "metadata": {},
   "source": [
    "-----"
   ]
  },
  {
   "cell_type": "markdown",
   "metadata": {},
   "source": [
    "## **Merging Operation**"
   ]
  },
  {
   "cell_type": "markdown",
   "metadata": {},
   "source": [
    "-----"
   ]
  },
  {
   "cell_type": "markdown",
   "metadata": {},
   "source": [
    "**Merging :**\n",
    "\n",
    "Merge the dataframes using the `Name` column as the key. The key column for merging is located in the `df_parent` dataframe.\n"
   ]
  },
  {
   "cell_type": "markdown",
   "metadata": {},
   "source": [
    "\n",
    "**Keys in `df_child` DataFrame:**\n",
    "\n",
    "- Left DataFrame Key (`left_on`): `Name`\n",
    "- Right DataFrame Key (`right_on`): `Father or Mother`\n",
    "\n"
   ]
  },
  {
   "cell_type": "markdown",
   "metadata": {},
   "source": [
    "------"
   ]
  },
  {
   "cell_type": "code",
   "execution_count": 55,
   "metadata": {},
   "outputs": [],
   "source": [
    "# Merging Once with Father and Once with Mother\n",
    "parent_child_merge_father = pd.merge(df_parent_data_copy , df_child_data_copy , left_on = 'Name' , right_on= 'ParentF')\n",
    "parent_child_merge_mother = pd.merge(df_parent_data_copy , df_child_data_copy , left_on = 'Name' , right_on= 'ParentM')"
   ]
  },
  {
   "cell_type": "code",
   "execution_count": 56,
   "metadata": {},
   "outputs": [
    {
     "data": {
      "text/html": [
       "<div>\n",
       "<style scoped>\n",
       "    .dataframe tbody tr th:only-of-type {\n",
       "        vertical-align: middle;\n",
       "    }\n",
       "\n",
       "    .dataframe tbody tr th {\n",
       "        vertical-align: top;\n",
       "    }\n",
       "\n",
       "    .dataframe thead th {\n",
       "        text-align: right;\n",
       "    }\n",
       "</style>\n",
       "<table border=\"1\" class=\"dataframe\">\n",
       "  <thead>\n",
       "    <tr style=\"text-align: right;\">\n",
       "      <th></th>\n",
       "      <th>Name</th>\n",
       "      <th>Full_seq_dna_parent</th>\n",
       "      <th>ParentM</th>\n",
       "      <th>ParentF</th>\n",
       "      <th>Full_seq_dna_child</th>\n",
       "    </tr>\n",
       "  </thead>\n",
       "  <tbody>\n",
       "    <tr>\n",
       "      <th>17155</th>\n",
       "      <td>A11756</td>\n",
       "      <td>CTCCGTCGACGCTTTAGGGACATAGATGGGAGCTCTGATTCCCGTG...</td>\n",
       "      <td>A9729</td>\n",
       "      <td>A11756</td>\n",
       "      <td>CTCCGTCGACGCTTTAGGGACATAGATGGGAGCTCTGATTCCCGTG...</td>\n",
       "    </tr>\n",
       "    <tr>\n",
       "      <th>8157</th>\n",
       "      <td>A5367</td>\n",
       "      <td>CTCCGTCGACGCTTTAGGGACATAGATAGGAGCTCTGATTCCCGTG...</td>\n",
       "      <td>A2221</td>\n",
       "      <td>A5367</td>\n",
       "      <td>CTCCGTCGACGCTTTAGGGACATAGATGGGAGCTCTGATTCCCGTG...</td>\n",
       "    </tr>\n",
       "    <tr>\n",
       "      <th>3635</th>\n",
       "      <td>A2413</td>\n",
       "      <td>CTCCGTCGACGCTTTAGGGACATAGATGGGAGCTCTGATTCCCGTG...</td>\n",
       "      <td>A3421</td>\n",
       "      <td>A2413</td>\n",
       "      <td>CTCCGTCGACGCTTTAGGGACATAGATGGGAGCTCTGATTCCCGTG...</td>\n",
       "    </tr>\n",
       "    <tr>\n",
       "      <th>19125</th>\n",
       "      <td>A13111</td>\n",
       "      <td>CTCCGTCGACGCTTTAGGGACATAGATGGGAGCTCTGATTCCCGTG...</td>\n",
       "      <td>A7098</td>\n",
       "      <td>A13111</td>\n",
       "      <td>CTCCGTCGACGCTTTAGGGACATAGATGGGAGCTCTGATTCCCGTG...</td>\n",
       "    </tr>\n",
       "    <tr>\n",
       "      <th>3002</th>\n",
       "      <td>A2040</td>\n",
       "      <td>CTCCGTCGACGCTTTAGGGACATAGATGGGAGCTCTGATTCCCGTA...</td>\n",
       "      <td>A399</td>\n",
       "      <td>A2040</td>\n",
       "      <td>CTCCGTCGACGCTTTAGGGACATAGATGGGAGCTCTGATTCCCGTG...</td>\n",
       "    </tr>\n",
       "    <tr>\n",
       "      <th>640</th>\n",
       "      <td>A427</td>\n",
       "      <td>CTCCGTCGACGCTTTAGGGACATAGATGGGAGCTCTGATTCCCGTG...</td>\n",
       "      <td>A3436</td>\n",
       "      <td>A427</td>\n",
       "      <td>CTCCGTCGACGCTTTAGGGACATAGATGGGAGCTCTGATTCCCGTG...</td>\n",
       "    </tr>\n",
       "    <tr>\n",
       "      <th>199</th>\n",
       "      <td>A128</td>\n",
       "      <td>CTCCGTCGACGCTTTAGGGACATAGATGGGAGCTCTGATTCCCGTG...</td>\n",
       "      <td>A501</td>\n",
       "      <td>A128</td>\n",
       "      <td>CTCCGTCGACGCTTTAGGGACATAGATGGGAGCTCTGATTCCCGTG...</td>\n",
       "    </tr>\n",
       "    <tr>\n",
       "      <th>7916</th>\n",
       "      <td>A5218</td>\n",
       "      <td>CTCCGTCGACGCTTTAGGGACATAGATGGGAGCTCTGATTCCCGTG...</td>\n",
       "      <td>A12519</td>\n",
       "      <td>A5218</td>\n",
       "      <td>CTCCGTCGACGCTTTAGGGACATAGATGGGAGCTCTGATTCCCGTG...</td>\n",
       "    </tr>\n",
       "    <tr>\n",
       "      <th>14741</th>\n",
       "      <td>A10014</td>\n",
       "      <td>CTCCGTCGACGCTTTAGGGACATAGATGGGAGCTCTGATTCCCGTG...</td>\n",
       "      <td>A6059</td>\n",
       "      <td>A10014</td>\n",
       "      <td>CTCCGTCGACGCTTTAGGGACATAGATGGGAGCTCTGATTCCCGTG...</td>\n",
       "    </tr>\n",
       "    <tr>\n",
       "      <th>17181</th>\n",
       "      <td>A11782</td>\n",
       "      <td>CTCCGTCGACGCTTTAGGGACATAGATGGGAGCTCTGATTCCCGTG...</td>\n",
       "      <td>A9370</td>\n",
       "      <td>A11782</td>\n",
       "      <td>CTCCGTCGACGCTTTAGGGACATAGATGGGAGCTCTGATTCCCGTG...</td>\n",
       "    </tr>\n",
       "  </tbody>\n",
       "</table>\n",
       "</div>"
      ],
      "text/plain": [
       "         Name                                Full_seq_dna_parent ParentM  \\\n",
       "17155  A11756  CTCCGTCGACGCTTTAGGGACATAGATGGGAGCTCTGATTCCCGTG...   A9729   \n",
       "8157    A5367  CTCCGTCGACGCTTTAGGGACATAGATAGGAGCTCTGATTCCCGTG...   A2221   \n",
       "3635    A2413  CTCCGTCGACGCTTTAGGGACATAGATGGGAGCTCTGATTCCCGTG...   A3421   \n",
       "19125  A13111  CTCCGTCGACGCTTTAGGGACATAGATGGGAGCTCTGATTCCCGTG...   A7098   \n",
       "3002    A2040  CTCCGTCGACGCTTTAGGGACATAGATGGGAGCTCTGATTCCCGTA...    A399   \n",
       "640      A427  CTCCGTCGACGCTTTAGGGACATAGATGGGAGCTCTGATTCCCGTG...   A3436   \n",
       "199      A128  CTCCGTCGACGCTTTAGGGACATAGATGGGAGCTCTGATTCCCGTG...    A501   \n",
       "7916    A5218  CTCCGTCGACGCTTTAGGGACATAGATGGGAGCTCTGATTCCCGTG...  A12519   \n",
       "14741  A10014  CTCCGTCGACGCTTTAGGGACATAGATGGGAGCTCTGATTCCCGTG...   A6059   \n",
       "17181  A11782  CTCCGTCGACGCTTTAGGGACATAGATGGGAGCTCTGATTCCCGTG...   A9370   \n",
       "\n",
       "      ParentF                                 Full_seq_dna_child  \n",
       "17155  A11756  CTCCGTCGACGCTTTAGGGACATAGATGGGAGCTCTGATTCCCGTG...  \n",
       "8157    A5367  CTCCGTCGACGCTTTAGGGACATAGATGGGAGCTCTGATTCCCGTG...  \n",
       "3635    A2413  CTCCGTCGACGCTTTAGGGACATAGATGGGAGCTCTGATTCCCGTG...  \n",
       "19125  A13111  CTCCGTCGACGCTTTAGGGACATAGATGGGAGCTCTGATTCCCGTG...  \n",
       "3002    A2040  CTCCGTCGACGCTTTAGGGACATAGATGGGAGCTCTGATTCCCGTG...  \n",
       "640      A427  CTCCGTCGACGCTTTAGGGACATAGATGGGAGCTCTGATTCCCGTG...  \n",
       "199      A128  CTCCGTCGACGCTTTAGGGACATAGATGGGAGCTCTGATTCCCGTG...  \n",
       "7916    A5218  CTCCGTCGACGCTTTAGGGACATAGATGGGAGCTCTGATTCCCGTG...  \n",
       "14741  A10014  CTCCGTCGACGCTTTAGGGACATAGATGGGAGCTCTGATTCCCGTG...  \n",
       "17181  A11782  CTCCGTCGACGCTTTAGGGACATAGATGGGAGCTCTGATTCCCGTG...  "
      ]
     },
     "execution_count": 56,
     "metadata": {},
     "output_type": "execute_result"
    }
   ],
   "source": [
    "# check each dataframe\n",
    "parent_child_merge_father.sample(10 , random_state= 42)"
   ]
  },
  {
   "cell_type": "markdown",
   "metadata": {},
   "source": [
    "-----"
   ]
  },
  {
   "cell_type": "markdown",
   "metadata": {},
   "source": [
    "- ` here when we check example row 1 we see that Name = 'A11756' and ParentF = 'A11756' and ParentM = 'A9729'`\n",
    "\n",
    "- ` From this we can say that they are the same person`\n",
    "\n",
    "- ` From data source they say that Name is unique identifier for a person`\n",
    "\n",
    "- ` Finally, we conclude that Name is Father of the child ` "
   ]
  },
  {
   "cell_type": "markdown",
   "metadata": {},
   "source": [
    "------"
   ]
  },
  {
   "cell_type": "code",
   "execution_count": 57,
   "metadata": {},
   "outputs": [
    {
     "data": {
      "text/html": [
       "<div>\n",
       "<style scoped>\n",
       "    .dataframe tbody tr th:only-of-type {\n",
       "        vertical-align: middle;\n",
       "    }\n",
       "\n",
       "    .dataframe tbody tr th {\n",
       "        vertical-align: top;\n",
       "    }\n",
       "\n",
       "    .dataframe thead th {\n",
       "        text-align: right;\n",
       "    }\n",
       "</style>\n",
       "<table border=\"1\" class=\"dataframe\">\n",
       "  <thead>\n",
       "    <tr style=\"text-align: right;\">\n",
       "      <th></th>\n",
       "      <th>Name</th>\n",
       "      <th>Full_seq_dna_parent</th>\n",
       "      <th>ParentM</th>\n",
       "      <th>ParentF</th>\n",
       "      <th>Full_seq_dna_child</th>\n",
       "    </tr>\n",
       "  </thead>\n",
       "  <tbody>\n",
       "    <tr>\n",
       "      <th>0</th>\n",
       "      <td>A10</td>\n",
       "      <td>CTCCGTCGACGCTTTAGGGACATAGATGGGAGCTCTGATTCCCGTG...</td>\n",
       "      <td>A10</td>\n",
       "      <td>A6941</td>\n",
       "      <td>CTCCGTCGACGCTTTAGGGACATAGATGGGAGCTCTGATTCCCGTG...</td>\n",
       "    </tr>\n",
       "    <tr>\n",
       "      <th>1</th>\n",
       "      <td>A10</td>\n",
       "      <td>CTCCGTCGACGCTTTAGGGACATAGATGGGAGCTCTGATTCCCGTG...</td>\n",
       "      <td>A10</td>\n",
       "      <td>A6941</td>\n",
       "      <td>CTCCGTCGACGCTTTAGGGACATAGATGGGAGCTCTGATTCCCGTG...</td>\n",
       "    </tr>\n",
       "    <tr>\n",
       "      <th>2</th>\n",
       "      <td>A10</td>\n",
       "      <td>CTCCGTCGACGCTTTAGGGACATAGATGGGAGCTCTGATTCCCGTG...</td>\n",
       "      <td>A10</td>\n",
       "      <td>A6941</td>\n",
       "      <td>CTCCGTCGACGCTTTAGGGACATAGATGGGAGCTCTGATTCCCGTG...</td>\n",
       "    </tr>\n",
       "    <tr>\n",
       "      <th>3</th>\n",
       "      <td>A10</td>\n",
       "      <td>CTCCGTCGACGCTTTAGGGACATAGATGGGAGCTCTGATTCCCGTG...</td>\n",
       "      <td>A10</td>\n",
       "      <td>A6941</td>\n",
       "      <td>CTCCGTCGACGCTTTAGGGACATAGATGGGAGCTCTGATTCCCGTG...</td>\n",
       "    </tr>\n",
       "    <tr>\n",
       "      <th>4</th>\n",
       "      <td>A12</td>\n",
       "      <td>CCCCGTCGACGCTTTAGGGACATAGATGGGAGCTCTGATTCCCGTG...</td>\n",
       "      <td>A12</td>\n",
       "      <td>A13030</td>\n",
       "      <td>CTCCGTCGACGCTTTAGGGACATAGATGGGAGCTCTGATTCCCGTG...</td>\n",
       "    </tr>\n",
       "    <tr>\n",
       "      <th>...</th>\n",
       "      <td>...</td>\n",
       "      <td>...</td>\n",
       "      <td>...</td>\n",
       "      <td>...</td>\n",
       "      <td>...</td>\n",
       "    </tr>\n",
       "    <tr>\n",
       "      <th>21887</th>\n",
       "      <td>A14997</td>\n",
       "      <td>CTCCGTCGACGCTTTAGGGACATAGATGGGAGCTCTGATTCCCGTG...</td>\n",
       "      <td>A14997</td>\n",
       "      <td>A1357</td>\n",
       "      <td>CTCCGTCGACGCTTTAGGGACATAGATGGGAGCTCTGATTCCCGTG...</td>\n",
       "    </tr>\n",
       "    <tr>\n",
       "      <th>21888</th>\n",
       "      <td>A14997</td>\n",
       "      <td>CTCCGTCGACGCTTTAGGGACATAGATGGGAGCTCTGATTCCCGTG...</td>\n",
       "      <td>A14997</td>\n",
       "      <td>A4244</td>\n",
       "      <td>CTCCGTCGACGCTTTAGGGACATAGATGGGAGCTCTGATTCCCGTG...</td>\n",
       "    </tr>\n",
       "    <tr>\n",
       "      <th>21889</th>\n",
       "      <td>A14997</td>\n",
       "      <td>CTCCGTCGACGCTTTAGGGACATAGATGGGAGCTCTGATTCCCGTG...</td>\n",
       "      <td>A14997</td>\n",
       "      <td>A4244</td>\n",
       "      <td>CTCCGTCGACGCTTTAGGGACATAGATGGGAGCTCTGATTCCCGTG...</td>\n",
       "    </tr>\n",
       "    <tr>\n",
       "      <th>21890</th>\n",
       "      <td>A14997</td>\n",
       "      <td>CTCCGTCGACGCTTTAGGGACATAGATGGGAGCTCTGATTCCCGTG...</td>\n",
       "      <td>A14997</td>\n",
       "      <td>A4244</td>\n",
       "      <td>CTCCGTCGACGCTTTAGGGACATAGATGGGAGCTCTGATTCCCGTG...</td>\n",
       "    </tr>\n",
       "    <tr>\n",
       "      <th>21891</th>\n",
       "      <td>A14997</td>\n",
       "      <td>CTCCGTCGACGCTTTAGGGACATAGATGGGAGCTCTGATTCCCGTG...</td>\n",
       "      <td>A14997</td>\n",
       "      <td>A4244</td>\n",
       "      <td>CTCCGTCGACGCTTTAGGGACATAGATGGGAGCTCTGATTCCCGTG...</td>\n",
       "    </tr>\n",
       "  </tbody>\n",
       "</table>\n",
       "<p>21892 rows × 5 columns</p>\n",
       "</div>"
      ],
      "text/plain": [
       "         Name                                Full_seq_dna_parent ParentM  \\\n",
       "0         A10  CTCCGTCGACGCTTTAGGGACATAGATGGGAGCTCTGATTCCCGTG...     A10   \n",
       "1         A10  CTCCGTCGACGCTTTAGGGACATAGATGGGAGCTCTGATTCCCGTG...     A10   \n",
       "2         A10  CTCCGTCGACGCTTTAGGGACATAGATGGGAGCTCTGATTCCCGTG...     A10   \n",
       "3         A10  CTCCGTCGACGCTTTAGGGACATAGATGGGAGCTCTGATTCCCGTG...     A10   \n",
       "4         A12  CCCCGTCGACGCTTTAGGGACATAGATGGGAGCTCTGATTCCCGTG...     A12   \n",
       "...       ...                                                ...     ...   \n",
       "21887  A14997  CTCCGTCGACGCTTTAGGGACATAGATGGGAGCTCTGATTCCCGTG...  A14997   \n",
       "21888  A14997  CTCCGTCGACGCTTTAGGGACATAGATGGGAGCTCTGATTCCCGTG...  A14997   \n",
       "21889  A14997  CTCCGTCGACGCTTTAGGGACATAGATGGGAGCTCTGATTCCCGTG...  A14997   \n",
       "21890  A14997  CTCCGTCGACGCTTTAGGGACATAGATGGGAGCTCTGATTCCCGTG...  A14997   \n",
       "21891  A14997  CTCCGTCGACGCTTTAGGGACATAGATGGGAGCTCTGATTCCCGTG...  A14997   \n",
       "\n",
       "      ParentF                                 Full_seq_dna_child  \n",
       "0       A6941  CTCCGTCGACGCTTTAGGGACATAGATGGGAGCTCTGATTCCCGTG...  \n",
       "1       A6941  CTCCGTCGACGCTTTAGGGACATAGATGGGAGCTCTGATTCCCGTG...  \n",
       "2       A6941  CTCCGTCGACGCTTTAGGGACATAGATGGGAGCTCTGATTCCCGTG...  \n",
       "3       A6941  CTCCGTCGACGCTTTAGGGACATAGATGGGAGCTCTGATTCCCGTG...  \n",
       "4      A13030  CTCCGTCGACGCTTTAGGGACATAGATGGGAGCTCTGATTCCCGTG...  \n",
       "...       ...                                                ...  \n",
       "21887   A1357  CTCCGTCGACGCTTTAGGGACATAGATGGGAGCTCTGATTCCCGTG...  \n",
       "21888   A4244  CTCCGTCGACGCTTTAGGGACATAGATGGGAGCTCTGATTCCCGTG...  \n",
       "21889   A4244  CTCCGTCGACGCTTTAGGGACATAGATGGGAGCTCTGATTCCCGTG...  \n",
       "21890   A4244  CTCCGTCGACGCTTTAGGGACATAGATGGGAGCTCTGATTCCCGTG...  \n",
       "21891   A4244  CTCCGTCGACGCTTTAGGGACATAGATGGGAGCTCTGATTCCCGTG...  \n",
       "\n",
       "[21892 rows x 5 columns]"
      ]
     },
     "execution_count": 57,
     "metadata": {},
     "output_type": "execute_result"
    }
   ],
   "source": [
    "parent_child_merge_mother"
   ]
  },
  {
   "cell_type": "markdown",
   "metadata": {},
   "source": [
    "- For Father:"
   ]
  },
  {
   "cell_type": "code",
   "execution_count": 58,
   "metadata": {},
   "outputs": [
    {
     "data": {
      "text/html": [
       "<div>\n",
       "<style scoped>\n",
       "    .dataframe tbody tr th:only-of-type {\n",
       "        vertical-align: middle;\n",
       "    }\n",
       "\n",
       "    .dataframe tbody tr th {\n",
       "        vertical-align: top;\n",
       "    }\n",
       "\n",
       "    .dataframe thead th {\n",
       "        text-align: right;\n",
       "    }\n",
       "</style>\n",
       "<table border=\"1\" class=\"dataframe\">\n",
       "  <thead>\n",
       "    <tr style=\"text-align: right;\">\n",
       "      <th></th>\n",
       "      <th>Name</th>\n",
       "      <th>Full_seq_dna_parent</th>\n",
       "      <th>Full_seq_dna_child</th>\n",
       "    </tr>\n",
       "  </thead>\n",
       "  <tbody>\n",
       "    <tr>\n",
       "      <th>0</th>\n",
       "      <td>A0</td>\n",
       "      <td>CTCCGTCGACGCTTTAGGGACATAGATGGGAGCTCTGATTCCCGTG...</td>\n",
       "      <td>CTCCGTCGACGCTTTAGGGACATAGATGGGAGCTCTGATTTCCGTG...</td>\n",
       "    </tr>\n",
       "    <tr>\n",
       "      <th>1</th>\n",
       "      <td>A0</td>\n",
       "      <td>CTCCGTCGACGCTTTAGGGACATAGATGGGAGCTCTGATTCCCGTG...</td>\n",
       "      <td>CTCCGTCGACGCTTTAGGGACATAGATGGGAGCTCTGATTTCCGTG...</td>\n",
       "    </tr>\n",
       "    <tr>\n",
       "      <th>2</th>\n",
       "      <td>A0</td>\n",
       "      <td>CTCCGTCGACGCTTTAGGGACATAGATGGGAGCTCTGATTCCCGTG...</td>\n",
       "      <td>CTCCGTCGACGCTTTAGGGACATAGATGGGAGCTCTGACTCCCGTG...</td>\n",
       "    </tr>\n",
       "    <tr>\n",
       "      <th>3</th>\n",
       "      <td>A0</td>\n",
       "      <td>CTCCGTCGACGCTTTAGGGACATAGATGGGAGCTCTGATTCCCGTG...</td>\n",
       "      <td>CTCCGTCGACGCTTTAGGGACATAGATGGGAGCTCTGATTTCCGTG...</td>\n",
       "    </tr>\n",
       "    <tr>\n",
       "      <th>4</th>\n",
       "      <td>A1</td>\n",
       "      <td>CTCCGTCGACGCTTTAGGGACATAGATGGGAGCTCTGATTCCCGTG...</td>\n",
       "      <td>CTCCGTCGACGCTTTAGGGACATAGATGGGAGCTCTGATTCCCGTG...</td>\n",
       "    </tr>\n",
       "    <tr>\n",
       "      <th>...</th>\n",
       "      <td>...</td>\n",
       "      <td>...</td>\n",
       "      <td>...</td>\n",
       "    </tr>\n",
       "    <tr>\n",
       "      <th>21887</th>\n",
       "      <td>A14988</td>\n",
       "      <td>CTCCGTCGACGCTTTAGGGACATAGATGGGAGCTCTGATTCCCGTG...</td>\n",
       "      <td>CTCCGTCGACGCTTTAGGGACATAGATGGGAGCTCTGATTCCCGTG...</td>\n",
       "    </tr>\n",
       "    <tr>\n",
       "      <th>21888</th>\n",
       "      <td>A14988</td>\n",
       "      <td>CTCCGTCGACGCTTTAGGGACATAGATGGGAGCTCTGATTCCCGTG...</td>\n",
       "      <td>CTCCGTCGACGCTTTAGGGACATAGATGGGAGCTCTGATTCCCGTG...</td>\n",
       "    </tr>\n",
       "    <tr>\n",
       "      <th>21889</th>\n",
       "      <td>A14988</td>\n",
       "      <td>CTCCGTCGACGCTTTAGGGACATAGATGGGAGCTCTGATTCCCGTG...</td>\n",
       "      <td>CTCCGTCGACGCTTTAGGGACATAGATGGGAGCTCTGATTCCCGTG...</td>\n",
       "    </tr>\n",
       "    <tr>\n",
       "      <th>21890</th>\n",
       "      <td>A14988</td>\n",
       "      <td>CTCCGTCGACGCTTTAGGGACATAGATGGGAGCTCTGATTCCCGTG...</td>\n",
       "      <td>CTCCGTCGACGCTTTAGGGACATAGATGGGAGCTCTGATTCCCGTG...</td>\n",
       "    </tr>\n",
       "    <tr>\n",
       "      <th>21891</th>\n",
       "      <td>A14988</td>\n",
       "      <td>CTCCGTCGACGCTTTAGGGACATAGATGGGAGCTCTGATTCCCGTG...</td>\n",
       "      <td>CTCCGTCGACGCTTTAGGGACATAGATGGGAGCTCTGATTCCCGTG...</td>\n",
       "    </tr>\n",
       "  </tbody>\n",
       "</table>\n",
       "<p>21892 rows × 3 columns</p>\n",
       "</div>"
      ],
      "text/plain": [
       "         Name                                Full_seq_dna_parent  \\\n",
       "0          A0  CTCCGTCGACGCTTTAGGGACATAGATGGGAGCTCTGATTCCCGTG...   \n",
       "1          A0  CTCCGTCGACGCTTTAGGGACATAGATGGGAGCTCTGATTCCCGTG...   \n",
       "2          A0  CTCCGTCGACGCTTTAGGGACATAGATGGGAGCTCTGATTCCCGTG...   \n",
       "3          A0  CTCCGTCGACGCTTTAGGGACATAGATGGGAGCTCTGATTCCCGTG...   \n",
       "4          A1  CTCCGTCGACGCTTTAGGGACATAGATGGGAGCTCTGATTCCCGTG...   \n",
       "...       ...                                                ...   \n",
       "21887  A14988  CTCCGTCGACGCTTTAGGGACATAGATGGGAGCTCTGATTCCCGTG...   \n",
       "21888  A14988  CTCCGTCGACGCTTTAGGGACATAGATGGGAGCTCTGATTCCCGTG...   \n",
       "21889  A14988  CTCCGTCGACGCTTTAGGGACATAGATGGGAGCTCTGATTCCCGTG...   \n",
       "21890  A14988  CTCCGTCGACGCTTTAGGGACATAGATGGGAGCTCTGATTCCCGTG...   \n",
       "21891  A14988  CTCCGTCGACGCTTTAGGGACATAGATGGGAGCTCTGATTCCCGTG...   \n",
       "\n",
       "                                      Full_seq_dna_child  \n",
       "0      CTCCGTCGACGCTTTAGGGACATAGATGGGAGCTCTGATTTCCGTG...  \n",
       "1      CTCCGTCGACGCTTTAGGGACATAGATGGGAGCTCTGATTTCCGTG...  \n",
       "2      CTCCGTCGACGCTTTAGGGACATAGATGGGAGCTCTGACTCCCGTG...  \n",
       "3      CTCCGTCGACGCTTTAGGGACATAGATGGGAGCTCTGATTTCCGTG...  \n",
       "4      CTCCGTCGACGCTTTAGGGACATAGATGGGAGCTCTGATTCCCGTG...  \n",
       "...                                                  ...  \n",
       "21887  CTCCGTCGACGCTTTAGGGACATAGATGGGAGCTCTGATTCCCGTG...  \n",
       "21888  CTCCGTCGACGCTTTAGGGACATAGATGGGAGCTCTGATTCCCGTG...  \n",
       "21889  CTCCGTCGACGCTTTAGGGACATAGATGGGAGCTCTGATTCCCGTG...  \n",
       "21890  CTCCGTCGACGCTTTAGGGACATAGATGGGAGCTCTGATTCCCGTG...  \n",
       "21891  CTCCGTCGACGCTTTAGGGACATAGATGGGAGCTCTGATTCCCGTG...  \n",
       "\n",
       "[21892 rows x 3 columns]"
      ]
     },
     "execution_count": 58,
     "metadata": {},
     "output_type": "execute_result"
    }
   ],
   "source": [
    "# Clean up and combine the merged dataframes\n",
    "cleaned_data_first_part = parent_child_merge_father.drop(columns=['ParentM', 'ParentF'])\n",
    "cleaned_data_first_part"
   ]
  },
  {
   "cell_type": "code",
   "execution_count": 59,
   "metadata": {},
   "outputs": [],
   "source": [
    "first_merged_df= pd.concat([cleaned_data_first_part, parent_child_merge_mother])"
   ]
  },
  {
   "cell_type": "markdown",
   "metadata": {},
   "source": [
    "-----"
   ]
  },
  {
   "cell_type": "markdown",
   "metadata": {},
   "source": [
    "## Verify results "
   ]
  },
  {
   "cell_type": "markdown",
   "metadata": {},
   "source": [
    "-----"
   ]
  },
  {
   "cell_type": "code",
   "execution_count": 62,
   "metadata": {},
   "outputs": [
    {
     "data": {
      "text/html": [
       "<div>\n",
       "<style scoped>\n",
       "    .dataframe tbody tr th:only-of-type {\n",
       "        vertical-align: middle;\n",
       "    }\n",
       "\n",
       "    .dataframe tbody tr th {\n",
       "        vertical-align: top;\n",
       "    }\n",
       "\n",
       "    .dataframe thead th {\n",
       "        text-align: right;\n",
       "    }\n",
       "</style>\n",
       "<table border=\"1\" class=\"dataframe\">\n",
       "  <thead>\n",
       "    <tr style=\"text-align: right;\">\n",
       "      <th></th>\n",
       "      <th>Name</th>\n",
       "      <th>Full_seq_dna_parent</th>\n",
       "      <th>Full_seq_dna_child</th>\n",
       "      <th>ParentM</th>\n",
       "      <th>ParentF</th>\n",
       "    </tr>\n",
       "  </thead>\n",
       "  <tbody>\n",
       "    <tr>\n",
       "      <th>14743</th>\n",
       "      <td>A10005</td>\n",
       "      <td>CTCCGTCGACGCTTTAGGGACATAGATGGGAGCTCTGATTCCCGTG...</td>\n",
       "      <td>CTCCGTCGACGCTTTAGGGACATAGATGGGAGCTCTGATTCCCGTG...</td>\n",
       "      <td>A10005</td>\n",
       "      <td>A9287</td>\n",
       "    </tr>\n",
       "    <tr>\n",
       "      <th>20215</th>\n",
       "      <td>A13863</td>\n",
       "      <td>CTCCGTCGGCGCTTTAGGGACATAGATGGGAGCTCTGATTCCCGTG...</td>\n",
       "      <td>CTCCGTCGACGCTTTAGGGACATAGATGGGAGCTCTGATTCCCGTG...</td>\n",
       "      <td>A13863</td>\n",
       "      <td>A2902</td>\n",
       "    </tr>\n",
       "    <tr>\n",
       "      <th>3346</th>\n",
       "      <td>A2118</td>\n",
       "      <td>CTCCGTCGACGCTTTAGGGACATAGATGGGAGCTCTGATTCCCGTG...</td>\n",
       "      <td>CTCCGTCGACGCTTTAGGGACATAGATGGGAGCTCTGATTCCCGTG...</td>\n",
       "      <td>A2118</td>\n",
       "      <td>A6707</td>\n",
       "    </tr>\n",
       "    <tr>\n",
       "      <th>4063</th>\n",
       "      <td>A2696</td>\n",
       "      <td>CTCCGTCGACGCTTTAGGGACATAGATGGGAGCTCTGATTCCCGTG...</td>\n",
       "      <td>CTCCGTCGACGCTTTAGGGACATAGATGGGAGCTCTGATTTCCGTG...</td>\n",
       "      <td>NaN</td>\n",
       "      <td>NaN</td>\n",
       "    </tr>\n",
       "    <tr>\n",
       "      <th>9006</th>\n",
       "      <td>A6135</td>\n",
       "      <td>CTCCGTCGACGCTTTAGGGACATAGATGGGAGCTCTGATTCCCGTG...</td>\n",
       "      <td>CTCCGTCGACGCTTTAGGGACATAGATGGGAGCTCTGATTCCCGTG...</td>\n",
       "      <td>A6135</td>\n",
       "      <td>A4073</td>\n",
       "    </tr>\n",
       "    <tr>\n",
       "      <th>3787</th>\n",
       "      <td>A2369</td>\n",
       "      <td>CTCCGTCGACGCTTTAGGGACATAGATGGGAGCTCTTATTCCCGTG...</td>\n",
       "      <td>CTCCGTCGACGCTTTAGGGACATAGATGGGAGCTCTGATTCCCGTG...</td>\n",
       "      <td>A2369</td>\n",
       "      <td>A6468</td>\n",
       "    </tr>\n",
       "    <tr>\n",
       "      <th>13130</th>\n",
       "      <td>A8882</td>\n",
       "      <td>CTCCGTCGACGCTTTAGGGACATAGATGGGAGCTCTGACTCCCGTG...</td>\n",
       "      <td>CTCCGTCGACGCTTTAGGGACATAGATGGGAGCTCTGATTCCCGTG...</td>\n",
       "      <td>A8882</td>\n",
       "      <td>A5076</td>\n",
       "    </tr>\n",
       "    <tr>\n",
       "      <th>15515</th>\n",
       "      <td>A10536</td>\n",
       "      <td>CTCCGTCGACGCTTTAGGGACATAGATGGGAGCTCTGATTCCCGTG...</td>\n",
       "      <td>CTCCGTCGACGCTTTAGGGACATAGATGGGAGCTCTGATTCCCGTG...</td>\n",
       "      <td>A10536</td>\n",
       "      <td>A2503</td>\n",
       "    </tr>\n",
       "    <tr>\n",
       "      <th>8283</th>\n",
       "      <td>A5435</td>\n",
       "      <td>CTCCGTCGACGCTTTAGGGACATAGATGGGAGCTCTGATTCCCGTG...</td>\n",
       "      <td>CTCCGTCGACGCTTTAGGGACATAGATGGGAGCTCTGATTCCCGTG...</td>\n",
       "      <td>NaN</td>\n",
       "      <td>NaN</td>\n",
       "    </tr>\n",
       "    <tr>\n",
       "      <th>11450</th>\n",
       "      <td>A7700</td>\n",
       "      <td>CTCCGTCGACGCTTTAGGGACATAGATGGGAGCTCTGATTCCCGTG...</td>\n",
       "      <td>CTCCGTCGACGCTTTAGGGACATAGATGGGAGCTCTGATTCCCGTG...</td>\n",
       "      <td>NaN</td>\n",
       "      <td>NaN</td>\n",
       "    </tr>\n",
       "  </tbody>\n",
       "</table>\n",
       "</div>"
      ],
      "text/plain": [
       "         Name                                Full_seq_dna_parent  \\\n",
       "14743  A10005  CTCCGTCGACGCTTTAGGGACATAGATGGGAGCTCTGATTCCCGTG...   \n",
       "20215  A13863  CTCCGTCGGCGCTTTAGGGACATAGATGGGAGCTCTGATTCCCGTG...   \n",
       "3346    A2118  CTCCGTCGACGCTTTAGGGACATAGATGGGAGCTCTGATTCCCGTG...   \n",
       "4063    A2696  CTCCGTCGACGCTTTAGGGACATAGATGGGAGCTCTGATTCCCGTG...   \n",
       "9006    A6135  CTCCGTCGACGCTTTAGGGACATAGATGGGAGCTCTGATTCCCGTG...   \n",
       "3787    A2369  CTCCGTCGACGCTTTAGGGACATAGATGGGAGCTCTTATTCCCGTG...   \n",
       "13130   A8882  CTCCGTCGACGCTTTAGGGACATAGATGGGAGCTCTGACTCCCGTG...   \n",
       "15515  A10536  CTCCGTCGACGCTTTAGGGACATAGATGGGAGCTCTGATTCCCGTG...   \n",
       "8283    A5435  CTCCGTCGACGCTTTAGGGACATAGATGGGAGCTCTGATTCCCGTG...   \n",
       "11450   A7700  CTCCGTCGACGCTTTAGGGACATAGATGGGAGCTCTGATTCCCGTG...   \n",
       "\n",
       "                                      Full_seq_dna_child ParentM ParentF  \n",
       "14743  CTCCGTCGACGCTTTAGGGACATAGATGGGAGCTCTGATTCCCGTG...  A10005   A9287  \n",
       "20215  CTCCGTCGACGCTTTAGGGACATAGATGGGAGCTCTGATTCCCGTG...  A13863   A2902  \n",
       "3346   CTCCGTCGACGCTTTAGGGACATAGATGGGAGCTCTGATTCCCGTG...   A2118   A6707  \n",
       "4063   CTCCGTCGACGCTTTAGGGACATAGATGGGAGCTCTGATTTCCGTG...     NaN     NaN  \n",
       "9006   CTCCGTCGACGCTTTAGGGACATAGATGGGAGCTCTGATTCCCGTG...   A6135   A4073  \n",
       "3787   CTCCGTCGACGCTTTAGGGACATAGATGGGAGCTCTGATTCCCGTG...   A2369   A6468  \n",
       "13130  CTCCGTCGACGCTTTAGGGACATAGATGGGAGCTCTGATTCCCGTG...   A8882   A5076  \n",
       "15515  CTCCGTCGACGCTTTAGGGACATAGATGGGAGCTCTGATTCCCGTG...  A10536   A2503  \n",
       "8283   CTCCGTCGACGCTTTAGGGACATAGATGGGAGCTCTGATTCCCGTG...     NaN     NaN  \n",
       "11450  CTCCGTCGACGCTTTAGGGACATAGATGGGAGCTCTGATTCCCGTG...     NaN     NaN  "
      ]
     },
     "execution_count": 62,
     "metadata": {},
     "output_type": "execute_result"
    }
   ],
   "source": [
    "# Display a sample of the final merged DataFrame\n",
    "first_merged_df.sample(10)"
   ]
  },
  {
   "cell_type": "markdown",
   "metadata": {},
   "source": [
    "-----"
   ]
  },
  {
   "cell_type": "markdown",
   "metadata": {},
   "source": [
    "# Export Data "
   ]
  },
  {
   "cell_type": "markdown",
   "metadata": {},
   "source": [
    "-----"
   ]
  },
  {
   "cell_type": "code",
   "execution_count": 61,
   "metadata": {},
   "outputs": [],
   "source": [
    "first_merged_df.to_pickle(EXPORT_PATH)"
   ]
  }
 ],
 "metadata": {
  "kernelspec": {
   "display_name": "base",
   "language": "python",
   "name": "python3"
  },
  "language_info": {
   "codemirror_mode": {
    "name": "ipython",
    "version": 3
   },
   "file_extension": ".py",
   "mimetype": "text/x-python",
   "name": "python",
   "nbconvert_exporter": "python",
   "pygments_lexer": "ipython3",
   "version": "3.9.13"
  }
 },
 "nbformat": 4,
 "nbformat_minor": 2
}
