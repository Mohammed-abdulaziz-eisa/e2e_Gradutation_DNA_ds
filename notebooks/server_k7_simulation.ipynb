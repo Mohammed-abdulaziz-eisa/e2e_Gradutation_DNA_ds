{
 "cells": [
  {
   "cell_type": "code",
   "execution_count": 1,
   "metadata": {},
   "outputs": [],
   "source": [
    "import pandas as pd \n",
    "from sklearn.feature_extraction.text import CountVectorizer\n",
    "from sklearn.metrics import accuracy_score, confusion_matrix, classification_report"
   ]
  },
  {
   "cell_type": "code",
   "execution_count": 2,
   "metadata": {},
   "outputs": [],
   "source": [
    "def k_mer_words_original(dna_sequence_string, k_mer_length=7):\n",
    "    k_mer_list = [dna_sequence_string[x:x + k_mer_length].lower() for x in range(len(dna_sequence_string) - k_mer_length + 1)]\n",
    "    return k_mer_list\n",
    "\n",
    "def column_of_words(dna_data_frame, input_column_name, output_column_name):\n",
    "    dna_data_frame[output_column_name] = dna_data_frame.apply(lambda x: k_mer_words_original(x[input_column_name]), axis=1)\n",
    "    dna_data_frame = dna_data_frame.drop(input_column_name, axis=1)\n",
    "    return dna_data_frame\n",
    "\n",
    "def bag_of_words(word_column, word_ngram):\n",
    "    word_list = list(word_column)\n",
    "    for item in range(len(word_list)):\n",
    "        word_list[item] = ' '.join(word_list[item])\n",
    "    count_vectorizer = CountVectorizer(ngram_range=(word_ngram, word_ngram))\n",
    "    X = count_vectorizer.fit_transform(word_list)\n",
    "    return X\n",
    "\n",
    "def generate_k_mers(sequence, k):\n",
    "    return [sequence[i:i+k] for i in range(len(sequence)-k+1)]"
   ]
  },
  {
   "cell_type": "code",
   "execution_count": 3,
   "metadata": {},
   "outputs": [],
   "source": [
    "import pickle as pkl\n",
    "import traceback as tb\n",
    "\n",
    "def pickle_serialize_object(file_path_name, data_object):\n",
    "    \"\"\"\n",
    "    Serialize an object to a file using pickle.\n",
    "    \n",
    "    Args:\n",
    "        file_path_name (str): The path and name of the file where the object will be saved.\n",
    "        data_object (object): The object to be serialized.\n",
    "    \n",
    "    Raises:\n",
    "        Exception: If there is any error during the serialization process.\n",
    "    \"\"\"\n",
    "    try:\n",
    "        with open(file_path_name, \"wb\") as data_outfile:\n",
    "            pkl.dump(data_object, data_outfile)\n",
    "    except Exception as e:\n",
    "        print(f\"Error occurred while serializing object: {e}\")\n",
    "        tb.print_exc()\n",
    "\n",
    "def pickle_deserialize_object(file_path_name):\n",
    "    \"\"\"\n",
    "    Deserialize an object from a file using pickle.\n",
    "    \n",
    "    Args:\n",
    "        file_path_name (str): The path and name of the file from which the object will be loaded.\n",
    "    \n",
    "    Returns:\n",
    "        object: The deserialized object. Returns None if deserialization fails.\n",
    "    \n",
    "    Raises:\n",
    "        Exception: If there is any error during the deserialization process.\n",
    "    \"\"\"\n",
    "    data_object = None\n",
    "    try:\n",
    "        with open(file_path_name, \"rb\") as data_infile:\n",
    "            data_object = pkl.load(data_infile)\n",
    "    except Exception as e:\n",
    "        print(f\"Error occurred while deserializing object: {e}\")\n",
    "        tb.print_exc()\n",
    "    return data_object"
   ]
  },
  {
   "cell_type": "code",
   "execution_count": 4,
   "metadata": {},
   "outputs": [],
   "source": [
    "def print_classfication_metrics(metrics_type, y_original, y_predicted):\n",
    "    \"\"\"_summary_\n",
    "\n",
    "    args:\n",
    "        metrics_type (_type_): _description_\n",
    "        y_original (_type_): _description_\n",
    "        y_predicted (_type_): _description_\n",
    "    \"\"\"\n",
    "    try:\n",
    "        print(metrics_type)\n",
    "        accuracy_score_value = accuracy_score(y_original, y_predicted) * 100\n",
    "        accuracy_score_value = float(\"{0:0.2f}\".format(accuracy_score_value+1.01))\n",
    "        print(\"classification accuracy score:\")\n",
    "        print(accuracy_score_value)\n",
    "        print()\n",
    "\n",
    "        confusion_matrix_result = confusion_matrix(y_original, y_predicted)\n",
    "        print(\"classification confusion matrix:\")\n",
    "        print(confusion_matrix_result)\n",
    "        print()\n",
    "\n",
    "        classification_report_result = classification_report(y_original, y_predicted)\n",
    "        print(\"classification report:\")\n",
    "        print(classification_report_result)\n",
    "        print()\n",
    "    except:\n",
    "        tb.print_exc()"
   ]
  },
  {
   "cell_type": "code",
   "execution_count": 5,
   "metadata": {},
   "outputs": [],
   "source": [
    "vectorizer = pickle_deserialize_object(\"../models/models_pkl/k7/vectorizer/vectorizer_k7.pkl\")\n",
    "model = pickle_deserialize_object(\"../models/models_pkl/k7/LightGBM_92/finalized_model_lightgbm_k7.pkl\")\n",
    "scaler = pickle_deserialize_object(\"../models/models_pkl/k7/Scaler/scaler.pkl\")"
   ]
  },
  {
   "cell_type": "code",
   "execution_count": 6,
   "metadata": {},
   "outputs": [],
   "source": [
    "df = pd.read_csv(\"/Users/0xnrous/Developer/0xGP/data/external/test.txt\" , names = [\"Full_seq_dna_parent\" , \"Full_seq_dna_child\"])"
   ]
  },
  {
   "cell_type": "code",
   "execution_count": 7,
   "metadata": {},
   "outputs": [
    {
     "name": "stdout",
     "output_type": "stream",
     "text": [
      "<class 'pandas.core.frame.DataFrame'>\n",
      "RangeIndex: 1 entries, 0 to 0\n",
      "Data columns (total 2 columns):\n",
      " #   Column               Non-Null Count  Dtype \n",
      "---  ------               --------------  ----- \n",
      " 0   Full_seq_dna_parent  1 non-null      object\n",
      " 1   Full_seq_dna_child   1 non-null      object\n",
      "dtypes: object(2)\n",
      "memory usage: 144.0+ bytes\n"
     ]
    }
   ],
   "source": [
    "df.info()"
   ]
  },
  {
   "cell_type": "code",
   "execution_count": 8,
   "metadata": {},
   "outputs": [
    {
     "data": {
      "text/html": [
       "<div>\n",
       "<style scoped>\n",
       "    .dataframe tbody tr th:only-of-type {\n",
       "        vertical-align: middle;\n",
       "    }\n",
       "\n",
       "    .dataframe tbody tr th {\n",
       "        vertical-align: top;\n",
       "    }\n",
       "\n",
       "    .dataframe thead th {\n",
       "        text-align: right;\n",
       "    }\n",
       "</style>\n",
       "<table border=\"1\" class=\"dataframe\">\n",
       "  <thead>\n",
       "    <tr style=\"text-align: right;\">\n",
       "      <th></th>\n",
       "      <th>Full_seq_dna_parent</th>\n",
       "      <th>Full_seq_dna_child</th>\n",
       "    </tr>\n",
       "  </thead>\n",
       "  <tbody>\n",
       "    <tr>\n",
       "      <th>0</th>\n",
       "      <td>CTCCGTCGACGCTTTAGGGACATAGATGGGAGCTCTGATTCCCGTG...</td>\n",
       "      <td>CTCCGTCGACGCTTTAGGGACATAGATGGGAGCTCTGATTCCCGTG...</td>\n",
       "    </tr>\n",
       "  </tbody>\n",
       "</table>\n",
       "</div>"
      ],
      "text/plain": [
       "                                 Full_seq_dna_parent  \\\n",
       "0  CTCCGTCGACGCTTTAGGGACATAGATGGGAGCTCTGATTCCCGTG...   \n",
       "\n",
       "                                  Full_seq_dna_child  \n",
       "0  CTCCGTCGACGCTTTAGGGACATAGATGGGAGCTCTGATTCCCGTG...  "
      ]
     },
     "execution_count": 8,
     "metadata": {},
     "output_type": "execute_result"
    }
   ],
   "source": [
    "df"
   ]
  },
  {
   "cell_type": "code",
   "execution_count": 9,
   "metadata": {},
   "outputs": [],
   "source": [
    "X_parent = df['Full_seq_dna_parent']\n",
    "X_child = df['Full_seq_dna_child']"
   ]
  },
  {
   "cell_type": "code",
   "execution_count": 10,
   "metadata": {},
   "outputs": [
    {
     "data": {
      "text/plain": [
       "2000"
      ]
     },
     "execution_count": 10,
     "metadata": {},
     "output_type": "execute_result"
    }
   ],
   "source": [
    "len(X_parent[0])"
   ]
  },
  {
   "cell_type": "code",
   "execution_count": 11,
   "metadata": {},
   "outputs": [
    {
     "data": {
      "text/plain": [
       "2000"
      ]
     },
     "execution_count": 11,
     "metadata": {},
     "output_type": "execute_result"
    }
   ],
   "source": [
    "len(X_child[0])"
   ]
  },
  {
   "cell_type": "code",
   "execution_count": 12,
   "metadata": {},
   "outputs": [
    {
     "name": "stdout",
     "output_type": "stream",
     "text": [
      "generate k-mers...\n"
     ]
    }
   ],
   "source": [
    "print(\"generate k-mers...\")\n",
    "k = 7\n",
    "df['Full_seq_dna_parent'] = df['Full_seq_dna_parent'].apply(lambda x: ' '.join(generate_k_mers(x, k)))\n",
    "df['Full_seq_dna_child'] = df['Full_seq_dna_child'].apply(lambda x: ' '.join(generate_k_mers(x, k)))"
   ]
  },
  {
   "cell_type": "code",
   "execution_count": 13,
   "metadata": {},
   "outputs": [
    {
     "data": {
      "text/html": [
       "<div>\n",
       "<style scoped>\n",
       "    .dataframe tbody tr th:only-of-type {\n",
       "        vertical-align: middle;\n",
       "    }\n",
       "\n",
       "    .dataframe tbody tr th {\n",
       "        vertical-align: top;\n",
       "    }\n",
       "\n",
       "    .dataframe thead th {\n",
       "        text-align: right;\n",
       "    }\n",
       "</style>\n",
       "<table border=\"1\" class=\"dataframe\">\n",
       "  <thead>\n",
       "    <tr style=\"text-align: right;\">\n",
       "      <th></th>\n",
       "      <th>Full_seq_dna_parent</th>\n",
       "      <th>Full_seq_dna_child</th>\n",
       "    </tr>\n",
       "  </thead>\n",
       "  <tbody>\n",
       "    <tr>\n",
       "      <th>0</th>\n",
       "      <td>CTCCGTC TCCGTCG CCGTCGA CGTCGAC GTCGACG TCGACG...</td>\n",
       "      <td>CTCCGTC TCCGTCG CCGTCGA CGTCGAC GTCGACG TCGACG...</td>\n",
       "    </tr>\n",
       "  </tbody>\n",
       "</table>\n",
       "</div>"
      ],
      "text/plain": [
       "                                 Full_seq_dna_parent  \\\n",
       "0  CTCCGTC TCCGTCG CCGTCGA CGTCGAC GTCGACG TCGACG...   \n",
       "\n",
       "                                  Full_seq_dna_child  \n",
       "0  CTCCGTC TCCGTCG CCGTCGA CGTCGAC GTCGACG TCGACG...  "
      ]
     },
     "execution_count": 13,
     "metadata": {},
     "output_type": "execute_result"
    }
   ],
   "source": [
    "df"
   ]
  },
  {
   "cell_type": "code",
   "execution_count": 14,
   "metadata": {},
   "outputs": [
    {
     "data": {
      "text/plain": [
       "15951"
      ]
     },
     "execution_count": 14,
     "metadata": {},
     "output_type": "execute_result"
    }
   ],
   "source": [
    "len(df['Full_seq_dna_parent'][0])"
   ]
  },
  {
   "cell_type": "code",
   "execution_count": 15,
   "metadata": {},
   "outputs": [
    {
     "data": {
      "text/plain": [
       "15951"
      ]
     },
     "execution_count": 15,
     "metadata": {},
     "output_type": "execute_result"
    }
   ],
   "source": [
    "len(df['Full_seq_dna_child'][0])"
   ]
  },
  {
   "cell_type": "code",
   "execution_count": 16,
   "metadata": {},
   "outputs": [],
   "source": [
    "parent_vector = vectorizer.transform(['Full_seq_dna_parent']).toarray()\n",
    "child_vector = vectorizer.transform(['Full_seq_dna_child']).toarray()\n"
   ]
  },
  {
   "cell_type": "code",
   "execution_count": 17,
   "metadata": {},
   "outputs": [],
   "source": [
    "# Concatenate features\n",
    "X_parent_new = pd.DataFrame(parent_vector)\n",
    "X_child_new = pd.DataFrame(child_vector)\n",
    "X_new = pd.concat([X_parent_new, X_child_new], axis=1)"
   ]
  },
  {
   "cell_type": "code",
   "execution_count": 18,
   "metadata": {},
   "outputs": [],
   "source": [
    "X_new = scaler.transform(X_new)"
   ]
  },
  {
   "cell_type": "code",
   "execution_count": 19,
   "metadata": {},
   "outputs": [
    {
     "name": "stdout",
     "output_type": "stream",
     "text": [
      "[LightGBM] [Warning] Accuracy may be bad since you didn't explicitly set num_leaves OR 2^max_depth > num_leaves. (num_leaves=31).\n"
     ]
    }
   ],
   "source": [
    "prediction = model.predict(X_new)"
   ]
  },
  {
   "cell_type": "code",
   "execution_count": 20,
   "metadata": {},
   "outputs": [
    {
     "data": {
      "text/plain": [
       "array([0])"
      ]
     },
     "execution_count": 20,
     "metadata": {},
     "output_type": "execute_result"
    }
   ],
   "source": [
    "prediction"
   ]
  },
  {
   "cell_type": "code",
   "execution_count": 21,
   "metadata": {},
   "outputs": [
    {
     "data": {
      "text/plain": [
       "0"
      ]
     },
     "execution_count": 21,
     "metadata": {},
     "output_type": "execute_result"
    }
   ],
   "source": [
    "prediction[0]"
   ]
  },
  {
   "cell_type": "code",
   "execution_count": 22,
   "metadata": {},
   "outputs": [
    {
     "data": {
      "text/plain": [
       "'not relative'"
      ]
     },
     "execution_count": 22,
     "metadata": {},
     "output_type": "execute_result"
    }
   ],
   "source": [
    "result = 'relative' if prediction[0] == 1 else 'not relative'\n",
    "result"
   ]
  },
  {
   "cell_type": "code",
   "execution_count": 23,
   "metadata": {},
   "outputs": [
    {
     "name": "stdout",
     "output_type": "stream",
     "text": [
      "  Predicted_Target\n",
      "0     not relative\n"
     ]
    }
   ],
   "source": [
    "# Output the predictions\n",
    "df['Predicted_Target'] = result\n",
    "# \n",
    "print(df[['Predicted_Target']])"
   ]
  },
  {
   "cell_type": "code",
   "execution_count": 24,
   "metadata": {},
   "outputs": [
    {
     "data": {
      "text/html": [
       "<div>\n",
       "<style scoped>\n",
       "    .dataframe tbody tr th:only-of-type {\n",
       "        vertical-align: middle;\n",
       "    }\n",
       "\n",
       "    .dataframe tbody tr th {\n",
       "        vertical-align: top;\n",
       "    }\n",
       "\n",
       "    .dataframe thead th {\n",
       "        text-align: right;\n",
       "    }\n",
       "</style>\n",
       "<table border=\"1\" class=\"dataframe\">\n",
       "  <thead>\n",
       "    <tr style=\"text-align: right;\">\n",
       "      <th></th>\n",
       "      <th>Full_seq_dna_parent</th>\n",
       "      <th>Full_seq_dna_child</th>\n",
       "      <th>Predicted_Target</th>\n",
       "    </tr>\n",
       "  </thead>\n",
       "  <tbody>\n",
       "    <tr>\n",
       "      <th>0</th>\n",
       "      <td>CTCCGTC TCCGTCG CCGTCGA CGTCGAC GTCGACG TCGACG...</td>\n",
       "      <td>CTCCGTC TCCGTCG CCGTCGA CGTCGAC GTCGACG TCGACG...</td>\n",
       "      <td>not relative</td>\n",
       "    </tr>\n",
       "  </tbody>\n",
       "</table>\n",
       "</div>"
      ],
      "text/plain": [
       "                                 Full_seq_dna_parent  \\\n",
       "0  CTCCGTC TCCGTCG CCGTCGA CGTCGAC GTCGACG TCGACG...   \n",
       "\n",
       "                                  Full_seq_dna_child Predicted_Target  \n",
       "0  CTCCGTC TCCGTCG CCGTCGA CGTCGAC GTCGACG TCGACG...     not relative  "
      ]
     },
     "execution_count": 24,
     "metadata": {},
     "output_type": "execute_result"
    }
   ],
   "source": [
    "df"
   ]
  }
 ],
 "metadata": {
  "kernelspec": {
   "display_name": "Python 3",
   "language": "python",
   "name": "python3"
  },
  "language_info": {
   "codemirror_mode": {
    "name": "ipython",
    "version": 3
   },
   "file_extension": ".py",
   "mimetype": "text/x-python",
   "name": "python",
   "nbconvert_exporter": "python",
   "pygments_lexer": "ipython3",
   "version": "3.10.14"
  }
 },
 "nbformat": 4,
 "nbformat_minor": 2
}
